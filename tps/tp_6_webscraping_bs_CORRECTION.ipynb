{
 "cells": [
  {
   "cell_type": "markdown",
   "metadata": {},
   "source": [
    "#  Webscraping avec python\n",
    "# **Python**\n",
    "# **TP 6 - Scraping avec BeautifulSoup**\n",
    "\n",
    "**Inspiré de : [Cours de Python pour le Data Scientist - Lino Galiana](https://linogaliana-teaching.netlify.app/manipulation/webscraping/)**\n",
    "\n",
    "\n",
    "***\n",
    "\n",
    "[**Notions**](#notions)\n",
    "\n",
    "1. [Balises HTML](#1)\n",
    "2. [Parent et enfant](#2)\n",
    "3. [Utiliser BeautifulSoup](#3)\n",
    "\n",
    "\n",
    "*** \n",
    "\n",
    "[**Exercices**](#exercices)\n",
    "\n",
    "- Exercice 1\n",
    "- Exercice 2\n",
    "\n",
    "***\n"
   ]
  },
  {
   "cell_type": "markdown",
   "metadata": {},
   "source": [
    "<a id='1'></a>\n",
    "\n",
    "## 1. Balises HTML\n",
    "\n",
    "\n",
    "En HTML, on utilise des balises pour séparer les différents morceaux du code qui correspondent à des éléments sur la page. Par exemple ``<head>`` est la balise pour le header du fichier html, ``<title>`` pour son titre, ``<p>`` pour un pragraphe, ``<h1>``, ``<h2>``, ``<h3>``,... pour des headlines ou ``<br>``pour un retour à la ligne.\n",
    "\n",
    "\n",
    "Une balise est toujours fermée par la même balise avec un ``/``en plus. Par exemple : ``<title> Titre </title>``"
   ]
  },
  {
   "cell_type": "markdown",
   "metadata": {},
   "source": [
    "#### Exemple : les balise des tableaux\n",
    "\n",
    "$$\n",
    "\\begin{array}{rr} \\hline\n",
    "Balise  & \\text{Description} \\\\ \\hline\n",
    "< table> & \\text{Tableau} \\\\\n",
    "< caption>& \\text{Titre du tableau} \\\\\n",
    "< tr> & \\text{Ligne de tableau} \\\\\n",
    "< th> & \\text{Cellule d'en-tête}\\\\\n",
    "< td> & \\text{Cellule} \\\\\n",
    "< thead> & \\text{Section de l'en-tête du tableau} \\\\\n",
    "< tbody> & \\text{Section du corps du tableau} \\\\\n",
    "< tfoot> & \\text{Section du pied du tableau} \\\\\n",
    "\\end{array}\n",
    "$$"
   ]
  },
  {
   "cell_type": "markdown",
   "metadata": {},
   "source": [
    "##### Application : un tableau en HTML\n",
    "\n",
    "Le code *HTML* du tableau suivant\n"
   ]
  },
  {
   "cell_type": "raw",
   "metadata": {},
   "source": [
    "<table>\n",
    "<caption> Le Titre de mon tableau </caption>\n",
    "   <tr>\n",
    "      <th>Prénom</th>\n",
    "      <th>Nom</th>\n",
    "      <th>Profession</th>\n",
    "   </tr>\n",
    "   <tr>\n",
    "      <td>Mike </td>\n",
    "      <td>Stuntman</td>\n",
    "      <td>Cascadeur</td>\n",
    "   </tr>\n",
    "   <tr>\n",
    "      <td>Mister</td>\n",
    "      <td>Pink</td>\n",
    "      <td>Gangster</td>\n",
    "   </tr>\n",
    "</table>"
   ]
  },
  {
   "cell_type": "markdown",
   "metadata": {},
   "source": [
    "Donnera dans le navigateur\n",
    "\n",
    "<table>\n",
    "<caption> Le Titre de mon tableau </caption>\n",
    "\n",
    "   <tr>\n",
    "      <th>Prénom</th>\n",
    "      <th>Nom</th>\n",
    "      <th>Profession</th>\n",
    "   </tr>\n",
    "   <tr>\n",
    "      <td>Mike </td>\n",
    "      <td>Stuntman</td>\n",
    "      <td>Cascadeur</td>\n",
    "   </tr>\n",
    "   <tr>\n",
    "      <td>Mister</td>\n",
    "      <td>Pink</td>\n",
    "      <td>Gangster</td>\n",
    "   </tr>\n",
    "</table>"
   ]
  },
  {
   "cell_type": "markdown",
   "metadata": {},
   "source": [
    "<a id='2'></a>\n",
    "## 2. Parent et enfant\n",
    "\n",
    "Dans le cadre du langage HTML, les termes de parents (parent) et enfants (child) servent à désigner des élements emboîtés les uns dans les autres. Dans la construction suivante, par exemple :\n"
   ]
  },
  {
   "cell_type": "code",
   "execution_count": 2,
   "metadata": {},
   "outputs": [
    {
     "ename": "SyntaxError",
     "evalue": "invalid syntax (2880324071.py, line 1)",
     "output_type": "error",
     "traceback": [
      "\u001b[0;36m  Input \u001b[0;32mIn [2]\u001b[0;36m\u001b[0m\n\u001b[0;31m    <div>\u001b[0m\n\u001b[0m    ^\u001b[0m\n\u001b[0;31mSyntaxError\u001b[0m\u001b[0;31m:\u001b[0m invalid syntax\n"
     ]
    }
   ],
   "source": [
    "<div> \n",
    "    <p>\n",
    "       bla,bla\n",
    "    </p>\n",
    "</div>\n",
    "\n",
    "\n",
    "\n",
    "<div> \n",
    "\n",
    "</div>\n",
    "\n",
    "<p>\n",
    "   bla,bla\n",
    "</p>"
   ]
  },
  {
   "cell_type": "markdown",
   "metadata": {},
   "source": [
    "Sur la page web, cela apparaitra de la manière suivante : \n",
    "\n",
    "<div> \n",
    "    <p>\n",
    "       bla,bla\n",
    "    </p>\n",
    "</div>"
   ]
  },
  {
   "cell_type": "markdown",
   "metadata": {},
   "source": [
    "On dira que l'élément ``<div>`` est le parent de l'élément ``<p>`` tandis que l'élément ``<p>`` est l'enfant de l'élément ``<div>``."
   ]
  },
  {
   "cell_type": "markdown",
   "metadata": {},
   "source": [
    "## 3. Utiliser BeautifulSoup\n",
    "\n",
    "Les packages et étapes pour scrapper des pages HTML : \n",
    "- Etape 1: ``requests`` ou ``urllib`` pour faire des requêtes `GET` sur les pages\n",
    "- Etape 2: ``BeautifulSoup4`` pour parser le code HTML"
   ]
  },
  {
   "cell_type": "code",
   "execution_count": 2,
   "metadata": {},
   "outputs": [],
   "source": [
    "import urllib\n",
    "import bs4\n",
    "import requests"
   ]
  },
  {
   "cell_type": "markdown",
   "metadata": {},
   "source": [
    "### 1ere page HTML\n",
    "\n",
    "On va commencer facilement, prenons une page wikipedia, par exemple celle de la Ligue 1 de football : [Championnat de France de football 2019-2020](https://fr.wikipedia.org/wiki/Championnat_de_France_de_football_2019-2020). On va souhaiter récupérer la liste des équipes, ainsi que les url des pages Wikipedia de ces équipes.\n"
   ]
  },
  {
   "cell_type": "code",
   "execution_count": 11,
   "metadata": {
    "lines_to_next_cell": 2
   },
   "outputs": [
    {
     "name": "stdout",
     "output_type": "stream",
     "text": [
      "Status code: 200\n",
      "<class 'bs4.BeautifulSoup'>\n"
     ]
    }
   ],
   "source": [
    "# Etape 1 : se connecter à la page wikipedia et obtenir le code source\n",
    "\n",
    "url_ligue_1 = \"https://fr.wikipedia.org/wiki/Championnat_de_France_de_football_2019-2020\"\n",
    "    \n",
    "#from urllib import request\n",
    "\n",
    "response = requests.get(url_ligue_1)\n",
    "print(f\"Status code: {response.status_code}\")\n",
    "\n",
    "text = response.text\n",
    "#print(request_text[:1000])    \n",
    "#print(\"\\n type:\", type(request_text))\n",
    "\n",
    "\n",
    "# Etape 2 : utiliser le package BeautifulSoup\n",
    "page = bs4.BeautifulSoup(text, \"html\")\n",
    "print(type(page))"
   ]
  },
  {
   "cell_type": "code",
   "execution_count": 9,
   "metadata": {},
   "outputs": [],
   "source": [
    "# page"
   ]
  },
  {
   "cell_type": "markdown",
   "metadata": {
    "lines_to_next_cell": 2
   },
   "source": [
    "### Méthode ``.find()``\n",
    "Elle renvoie la première occurence trouvée avec cette balise "
   ]
  },
  {
   "cell_type": "code",
   "execution_count": 12,
   "metadata": {},
   "outputs": [
    {
     "name": "stdout",
     "output_type": "stream",
     "text": [
      "<title>Championnat de France de football 2019-2020 — Wikipédia</title>\n",
      "<class 'bs4.element.Tag'>\n"
     ]
    },
    {
     "data": {
      "text/plain": [
       "(None, None)"
      ]
     },
     "execution_count": 12,
     "metadata": {},
     "output_type": "execute_result"
    }
   ],
   "source": [
    "print(page.find(\"title\")), print(type(page.find(\"title\")))"
   ]
  },
  {
   "cell_type": "code",
   "execution_count": 14,
   "metadata": {},
   "outputs": [],
   "source": [
    "# print(page.find(\"table\"))"
   ]
  },
  {
   "cell_type": "markdown",
   "metadata": {},
   "source": [
    "La cellule avec le copier-coller du code source donne : \n",
    "\n",
    "<table><caption style=\"background:#99cc99;color:#000000;\">Généralités</caption><tbody><tr>\n",
    "<th scope=\"row\" style=\"width:10.5em;\">Sport</th>\n",
    "<td>\n",
    "<a href=\"/wiki/Football\" title=\"Football\">Football</a></td>\n",
    "</tr>\n",
    "<tr>\n",
    "<th scope=\"row\" style=\"width:10.5em;\">Organisateur(s)</th>\n",
    "<td>\n",
    "<a href=\"/wiki/Ligue_de_football_professionnel\" title=\"Ligue de football professionnel\">LFP</a></td>\n",
    "</tr>\n",
    "<tr>\n",
    "<th scope=\"row\" style=\"width:10.5em;\">Édition</th>\n",
    "<td>\n",
    "<abbr class=\"abbr\" title=\"Quatre-vingt-deuxième (huitante-deuxième / octante-deuxième)\">82<sup>e</sup></abbr></td>\n",
    "</tr>\n",
    "<tr>\n",
    "<th scope=\"row\" style=\"width:10.5em;\">Lieu(x)</th>\n",
    "<td>\n",
    "<span class=\"datasortkey\" data-sort-value=\"France\"><span class=\"flagicon\"><a class=\"image\" href=\"/wiki/Fichier:Flag_of_France.svg\" title=\"Drapeau de la France\"><img alt=\"Drapeau de la France\" class=\"noviewer thumbborder\" data-file-height=\"600\" data-file-width=\"900\" decoding=\"async\" height=\"13\" src=\"//upload.wikimedia.org/wikipedia/commons/thumb/c/c3/Flag_of_France.svg/20px-Flag_of_France.svg.png\" srcset=\"//upload.wikimedia.org/wikipedia/commons/thumb/c/c3/Flag_of_France.svg/30px-Flag_of_France.svg.png 1.5x, //upload.wikimedia.org/wikipedia/commons/thumb/c/c3/Flag_of_France.svg/40px-Flag_of_France.svg.png 2x\" width=\"20\"/></a> </span><a href=\"/wiki/France\" title=\"France\">France</a></span> et <br/><span class=\"datasortkey\" data-sort-value=\"Monaco\"><span class=\"flagicon\"><a class=\"image\" href=\"/wiki/Fichier:Flag_of_Monaco.svg\" title=\"Drapeau de Monaco\"><img alt=\"Drapeau de Monaco\" class=\"noviewer thumbborder\" data-file-height=\"800\" data-file-width=\"1000\" decoding=\"async\" height=\"16\" src=\"//upload.wikimedia.org/wikipedia/commons/thumb/e/ea/Flag_of_Monaco.svg/20px-Flag_of_Monaco.svg.png\" srcset=\"//upload.wikimedia.org/wikipedia/commons/thumb/e/ea/Flag_of_Monaco.svg/30px-Flag_of_Monaco.svg.png 1.5x, //upload.wikimedia.org/wikipedia/commons/thumb/e/ea/Flag_of_Monaco.svg/40px-Flag_of_Monaco.svg.png 2x\" width=\"20\"/></a> </span><a href=\"/wiki/Monaco\" title=\"Monaco\">Monaco</a></span></td>\n",
    "</tr>\n",
    "<tr>\n",
    "<th scope=\"row\" style=\"width:10.5em;\">Date</th>\n",
    "<td>\n",
    "Du <time class=\"nowrap date-lien\" data-sort-value=\"2019-08-09\" datetime=\"2019-08-09\"><a href=\"/wiki/9_ao%C3%BBt_en_sport\" title=\"9 août en sport\">9</a> <a class=\"mw-redirect\" href=\"/wiki/Ao%C3%BBt_2019_en_sport\" title=\"Août 2019 en sport\">août</a> <a href=\"/wiki/2019_en_football\" title=\"2019 en football\">2019</a></time><br/>au <time class=\"nowrap date-lien\" data-sort-value=\"2020-03-08\" datetime=\"2020-03-08\"><a href=\"/wiki/8_mars_en_sport\" title=\"8 mars en sport\">8 mars</a> <a href=\"/wiki/2020_en_football\" title=\"2020 en football\">2020</a></time> <small>(arrêt définitif)</small></td>\n",
    "</tr>\n",
    "<tr>\n",
    "<th scope=\"row\" style=\"width:10.5em;\">Participants</th>\n",
    "<td>\n",
    "20 équipes</td>\n",
    "</tr>\n",
    "<tr>\n",
    "<th scope=\"row\" style=\"width:10.5em;\">Matchs joués</th>\n",
    "<td>\n",
    "279</td>\n",
    "</tr>\n",
    "<tr>\n",
    "<th scope=\"row\" style=\"width:10.5em;\">Site web officiel</th>\n",
    "<td>\n",
    "<a class=\"external text\" href=\"https://www.ligue1.fr/\" rel=\"nofollow\">Site officiel</a></td>\n",
    "</tr></tbody></table>"
   ]
  },
  {
   "cell_type": "markdown",
   "metadata": {},
   "source": [
    "### Méthode ``.find_all()``\n",
    "Elle renvoie toutes les occurences trouvées avec cette balise "
   ]
  },
  {
   "cell_type": "code",
   "execution_count": 16,
   "metadata": {},
   "outputs": [
    {
     "name": "stdout",
     "output_type": "stream",
     "text": [
      "Il y a 34 éléments dans la page qui sont des <table>\n"
     ]
    }
   ],
   "source": [
    "all_tables = page.find_all(\"table\")\n",
    "print(\"Il y a\", len(all_tables), \"éléments dans la page qui sont des <table>\")"
   ]
  },
  {
   "cell_type": "markdown",
   "metadata": {},
   "source": [
    "### Attribut ``.text``\n",
    "Il contient le texte entre des bablises"
   ]
  },
  {
   "cell_type": "code",
   "execution_count": 15,
   "metadata": {},
   "outputs": [
    {
     "name": "stdout",
     "output_type": "stream",
     "text": [
      "<p><b>Légende des couleurs</b>\n",
      "</p>\n",
      "Légende des couleurs\n",
      "\n"
     ]
    }
   ],
   "source": [
    "paragraph = page.find_all(\"p\")[10]\n",
    "print(paragraph)\n",
    "print(paragraph.text)"
   ]
  },
  {
   "cell_type": "markdown",
   "metadata": {},
   "source": [
    "### Filtrer sur une classe HTML avec ``find``ou ``find_all``"
   ]
  },
  {
   "cell_type": "code",
   "execution_count": 17,
   "metadata": {},
   "outputs": [
    {
     "name": "stdout",
     "output_type": "stream",
     "text": [
      "2 objects with class wikitable sortable\n"
     ]
    }
   ],
   "source": [
    "wikitables = page.find_all(\"table\", class_='wikitable sortable')\n",
    "print(len(wikitables), \"objects with class wikitable sortable\")"
   ]
  },
  {
   "cell_type": "markdown",
   "metadata": {},
   "source": [
    "### ``.get``pour récupérer un attribut\n",
    "Ici, on récupère l'attribut ``href``d'un tag avec ``.get(\"href\")``"
   ]
  },
  {
   "cell_type": "code",
   "execution_count": 29,
   "metadata": {},
   "outputs": [
    {
     "data": {
      "text/plain": [
       "'/wiki/Championnat_de_France_de_football_2018-2019'"
      ]
     },
     "execution_count": 29,
     "metadata": {},
     "output_type": "execute_result"
    }
   ],
   "source": [
    "tag_header.find(\"a\").get(\"href\")"
   ]
  },
  {
   "cell_type": "code",
   "execution_count": 21,
   "metadata": {},
   "outputs": [
    {
     "name": "stdout",
     "output_type": "stream",
     "text": [
      "2 objects with class wikitable sortable\n",
      "<th scope=\"col\">Classement<br/><a href=\"/wiki/Championnat_de_France_de_football_2018-2019\" title=\"Championnat de France de football 2018-2019\">2018-2019</a>\n",
      "</th>\n",
      "\n",
      "\n",
      "<a href=\"/wiki/Championnat_de_France_de_football_2018-2019\" title=\"Championnat de France de football 2018-2019\">2018-2019</a>\n",
      "/wiki/Championnat_de_France_de_football_2018-2019\n"
     ]
    }
   ],
   "source": [
    "wikitables = page.find_all(\"table\", class_='wikitable sortable')\n",
    "print(len(wikitables), \"objects with class wikitable sortable\")\n",
    "\n",
    "# th indique la ligne d'entête du tableau, on prend la troisième cellule \n",
    "# de la liste des entêtes\n",
    "tag_header = wikitables[0].find_all(\"th\")[3]\n",
    "print(tag_header)\n",
    "print('\\n')\n",
    "\n",
    "# on cherche maintenant la balise a dedans\n",
    "tag_a = tag_header.find(\"a\")\n",
    "print(tag_a)\n",
    "print(tag_a.get(\"href\"))"
   ]
  },
  {
   "cell_type": "markdown",
   "metadata": {},
   "source": [
    "## Exercices"
   ]
  },
  {
   "cell_type": "markdown",
   "metadata": {},
   "source": [
    "## Exercice 1 : obtenir la liste des équipes de Ligue 1\n",
    "\n",
    "Sur la page https://fr.wikipedia.org/wiki/Championnat_de_France_de_football_2019-2020, on veut scraper le tableau de la section Participants (celui avec ces colonnes : (Club, Dernière montée, Budget en M€, ...)"
   ]
  },
  {
   "cell_type": "markdown",
   "metadata": {},
   "source": [
    "#### 1) Trouver le tableau\n"
   ]
  },
  {
   "cell_type": "code",
   "execution_count": 1,
   "metadata": {},
   "outputs": [],
   "source": [
    "import requests\n",
    "from bs4 import BeautifulSoup\n",
    "\n",
    "url_ligue_1 = \"https://fr.wikipedia.org/wiki/Championnat_de_France_de_football_2019-2020\"\n",
    "\n",
    "# Requête et son contenu\n",
    "response = requests.get(url_ligue_1)\n",
    "content = response.content\n",
    "\n",
    "# On parse le html\n",
    "page = BeautifulSoup(content, 'html.parser')\n",
    "\n",
    "# On trouve le tableau\n",
    "tableau_participants = page.find('table', class_='wikitable sortable')\n",
    "\n",
    "# Dans le tableau, on trouve le fuls tbody\n",
    "table_body = tableau_participants.find('tbody')"
   ]
  },
  {
   "cell_type": "markdown",
   "metadata": {},
   "source": [
    "#### 2) Récupérer chaque ligne du table\n"
   ]
  },
  {
   "cell_type": "code",
   "execution_count": 2,
   "metadata": {
    "lines_to_next_cell": 2
   },
   "outputs": [],
   "source": [
    "# on recherche toutes les lignes du tableau avec la balise \"tr\"\n",
    "rows = table_body.find_all('tr')"
   ]
  },
  {
   "cell_type": "code",
   "execution_count": 3,
   "metadata": {},
   "outputs": [],
   "source": [
    "# Example : \n",
    "row = rows[12]\n",
    "row = row.text.split(\"\\n\")\n",
    "row = [x for x in row if x != \"\"]"
   ]
  },
  {
   "cell_type": "code",
   "execution_count": 4,
   "metadata": {},
   "outputs": [],
   "source": [
    "# On reproduit cette logique sur toutes les lignes\n",
    "rows_cleaned = []\n",
    "for row in rows:\n",
    "    row_cleaned = row.text.split(\"\\n\")\n",
    "    row_cleaned = [x for x in row_cleaned if x != \"\"]\n",
    "    rows_cleaned.append(row_cleaned)\n",
    "    \n",
    "rows_cleaned = [[x for x in row.text.split(\"\\n\") if x != \"\"] for row in rows] "
   ]
  },
  {
   "cell_type": "code",
   "execution_count": 5,
   "metadata": {},
   "outputs": [
    {
     "data": {
      "text/plain": [
       "['FC Nantes',\n",
       " '2013',\n",
       " '70',\n",
       " '12e',\n",
       " ' Christian Gourcuff',\n",
       " '2019',\n",
       " 'Stade de la Beaujoire - Louis Fonteneau',\n",
       " '35\\xa0322',\n",
       " '51']"
      ]
     },
     "execution_count": 5,
     "metadata": {},
     "output_type": "execute_result"
    }
   ],
   "source": [
    "# Example\n",
    "row = rows[12]\n",
    "values = row.find_all(\"td\")\n",
    "values = [tag.text.strip(\"\\n\") for tag in values]\n",
    "values"
   ]
  },
  {
   "cell_type": "code",
   "execution_count": 6,
   "metadata": {},
   "outputs": [],
   "source": [
    "# On reproduit cette logique sur toutes les lignes\n",
    "l_values = []\n",
    "\n",
    "# On récupère les entêtes avec th\n",
    "values = rows[0].find_all(\"th\")\n",
    "values = [tag.text.strip(\"\\n\") for tag in values]\n",
    "l_values.append(values)\n",
    "\n",
    "for row in rows:\n",
    "    # On récupère les valeurs dans les cellules\n",
    "    values = row.find_all(\"td\")\n",
    "    values = [tag.text.strip(\"\\n\") for tag in values]\n",
    "    l_values.append(values)"
   ]
  },
  {
   "cell_type": "code",
   "execution_count": 7,
   "metadata": {},
   "outputs": [
    {
     "data": {
      "text/plain": [
       "[['Club',\n",
       "  'Dernièremontée',\n",
       "  'Budget[3]en M€',\n",
       "  'Classement2018-2019',\n",
       "  'Entraîneur',\n",
       "  'Depuis',\n",
       "  'Stade',\n",
       "  'Capacitéen L1[4]',\n",
       "  'Nombrede saisonsen L1'],\n",
       " [],\n",
       " ['Paris Saint-Germain',\n",
       "  '1974',\n",
       "  '637',\n",
       "  '1er',\n",
       "  ' Thomas Tuchel',\n",
       "  '2018',\n",
       "  'Parc des Princes',\n",
       "  '47\\xa0929',\n",
       "  '46'],\n",
       " ['LOSC Lille',\n",
       "  '2000',\n",
       "  '120',\n",
       "  '2e',\n",
       "  ' Christophe Galtier',\n",
       "  '2017',\n",
       "  'Stade Pierre-Mauroy',\n",
       "  '49\\xa0712',\n",
       "  '59'],\n",
       " ['Olympique lyonnais',\n",
       "  '1989',\n",
       "  '310',\n",
       "  '3e',\n",
       "  ' Rudi Garcia',\n",
       "  '2019',\n",
       "  'Groupama Stadium',\n",
       "  '57\\xa0206',\n",
       "  '60'],\n",
       " ['AS Saint-Étienne',\n",
       "  '2004',\n",
       "  '100',\n",
       "  '4e',\n",
       "  ' Claude Puel',\n",
       "  '2019',\n",
       "  'Stade Geoffroy-Guichard',\n",
       "  '41\\xa0965',\n",
       "  '66'],\n",
       " ['Olympique de Marseille',\n",
       "  '1996',\n",
       "  '110',\n",
       "  '5e',\n",
       "  ' André Villas-Boas',\n",
       "  '2019',\n",
       "  'Orange Vélodrome',\n",
       "  '66\\xa0226',\n",
       "  '69'],\n",
       " ['Montpellier HSC',\n",
       "  '2009',\n",
       "  '40',\n",
       "  '6e',\n",
       "  ' Michel Der Zakarian',\n",
       "  '2017',\n",
       "  'Stade de la Mosson',\n",
       "  '22\\xa0000',\n",
       "  '27'],\n",
       " ['OGC Nice',\n",
       "  '2002',\n",
       "  '50',\n",
       "  '7e',\n",
       "  ' Patrick Vieira',\n",
       "  '2018',\n",
       "  'Allianz Riviera',\n",
       "  '35\\xa0596',\n",
       "  '60'],\n",
       " ['Stade de Reims',\n",
       "  '2018',\n",
       "  '45',\n",
       "  '8e',\n",
       "  ' David Guion',\n",
       "  '2017',\n",
       "  'Stade Auguste-Delaune',\n",
       "  '20\\xa0546',\n",
       "  '35'],\n",
       " ['Nîmes Olympique',\n",
       "  '2018',\n",
       "  '27',\n",
       "  '9e',\n",
       "  ' Bernard Blaquart',\n",
       "  '2015',\n",
       "  'Stade des Costières',\n",
       "  '15\\xa0788',\n",
       "  '35'],\n",
       " ['Stade rennais FC',\n",
       "  '1994',\n",
       "  '65',\n",
       "  '10e',\n",
       "  ' Julien Stéphan',\n",
       "  '2018',\n",
       "  'Roazhon Park',\n",
       "  '29\\xa0194',\n",
       "  '62'],\n",
       " ['RC Strasbourg Alsace',\n",
       "  '2017',\n",
       "  '43',\n",
       "  '11e',\n",
       "  ' Thierry Laurey',\n",
       "  '2016',\n",
       "  'Stade de la Meinau',\n",
       "  '26\\xa0109',\n",
       "  '58'],\n",
       " ['FC Nantes',\n",
       "  '2013',\n",
       "  '70',\n",
       "  '12e',\n",
       "  ' Christian Gourcuff',\n",
       "  '2019',\n",
       "  'Stade de la Beaujoire - Louis Fonteneau',\n",
       "  '35\\xa0322',\n",
       "  '51'],\n",
       " ['SCO d’Angers',\n",
       "  '2015',\n",
       "  '32',\n",
       "  '13e',\n",
       "  ' Stéphane Moulin',\n",
       "  '2011',\n",
       "  'Stade Raymond-Kopa',\n",
       "  '14\\xa0582',\n",
       "  '27'],\n",
       " ['Girondins de Bordeaux',\n",
       "  '1992',\n",
       "  '70',\n",
       "  '14e',\n",
       "  ' Paulo Sousa',\n",
       "  '2019',\n",
       "  'Matmut Atlantique',\n",
       "  '42\\xa0115',\n",
       "  '66'],\n",
       " ['Amiens SC',\n",
       "  '2017',\n",
       "  '30',\n",
       "  '15e',\n",
       "  ' Luka Elsner',\n",
       "  '2019',\n",
       "  'Stade Crédit Agricole la Licorne',\n",
       "  '12\\xa0999',\n",
       "  '2'],\n",
       " ['Toulouse FC',\n",
       "  '2003',\n",
       "  '35',\n",
       "  '16e',\n",
       "  ' Denis Zanko',\n",
       "  '2020',\n",
       "  'Stadium de Toulouse',\n",
       "  '33\\xa0033',\n",
       "  '32'],\n",
       " ['AS Monaco',\n",
       "  '2013',\n",
       "  '220',\n",
       "  '17e',\n",
       "  ' Robert Moreno',\n",
       "  '2019',\n",
       "  'Stade Louis-II',\n",
       "  '16\\xa0500',\n",
       "  '60'],\n",
       " ['Dijon FCO',\n",
       "  '2016',\n",
       "  '38',\n",
       "  '18e',\n",
       "  ' Stéphane Jobard',\n",
       "  '2019',\n",
       "  'Parc des Sports Gaston-Gérard',\n",
       "  '15\\xa0459',\n",
       "  '4'],\n",
       " ['FC Metz',\n",
       "  '2019',\n",
       "  '40',\n",
       "  '1er (Ligue 2)',\n",
       "  ' Vincent Hognon',\n",
       "  '2019',\n",
       "  'Stade Saint-Symphorien',\n",
       "  '25\\xa0865',\n",
       "  '61'],\n",
       " ['Stade brestois 29',\n",
       "  '2019',\n",
       "  '30',\n",
       "  '2e (Ligue 2)',\n",
       "  \" Olivier Dall'Oglio\",\n",
       "  '2019',\n",
       "  'Stade Francis-Le Blé',\n",
       "  '14\\xa0920',\n",
       "  '13']]"
      ]
     },
     "execution_count": 7,
     "metadata": {},
     "output_type": "execute_result"
    }
   ],
   "source": [
    "l_values"
   ]
  },
  {
   "cell_type": "markdown",
   "metadata": {},
   "source": [
    "## Exercice 2\n",
    "- A partir de la suivante : [pokedex](https://pokemondb.net/pokedex/national), l'objectif est de constituer la liste de tous les pokemons\n",
    " - 1. Dans un premier temps, on voudrait la liste avec nom, numéro et types pour chaque pokémon\n",
    " - 2. Ensuite, on souhaiterait aussi garder l'url pour chaque pokemon (par exemple en utilisant l'attribut ``href``) pour pouvoir ensuite faire une requête ``GET``sur cette page (par exemple : https://pokemondb.net/pokedex/venusaur) et récupérer les données de taille et de poids"
   ]
  },
  {
   "cell_type": "code",
   "execution_count": 46,
   "metadata": {},
   "outputs": [
    {
     "name": "stdout",
     "output_type": "stream",
     "text": [
      "https://pokemondb.net/pokedex/bulbasaur\n",
      "['0.7\\xa0m (2′04″)', '6.9\\xa0kg (15.2\\xa0lbs)']\n",
      "https://pokemondb.net/pokedex/ivysaur\n",
      "['1.0\\xa0m (3′03″)', '13.0\\xa0kg (28.7\\xa0lbs)']\n"
     ]
    }
   ],
   "source": [
    "## Question 1 \n",
    "\n",
    "import requests\n",
    "from bs4 import BeautifulSoup\n",
    "import os\n",
    "\n",
    "\n",
    "url = \"https://pokemondb.net/pokedex/national\"\n",
    "\n",
    "# Requête\n",
    "response = requests.get(url)\n",
    "content = response.content\n",
    "page = BeautifulSoup(content, 'html.parser')\n",
    "# Division infocard pour chaque pokemon\n",
    "info_cards = page.find_all(\"div\", class_=\"infocard\")\n",
    "\n",
    "l_pokemons = []\n",
    "for info_card in info_cards[:15]:\n",
    "   \n",
    "    # On filtre sur la classe et on prend l'attribut text\n",
    "    name_tag = info_card.find('a', class_=\"ent-name\")\n",
    "    name = name_tag.text\n",
    "    number = info_card.find('small').text[1:]\n",
    "    \n",
    "    url = \"https://pokemondb.net/pokedex/\" + name_tag.get(\"href\").split(\"/\")[2]\n",
    "    \n",
    "    # On peut le trouver ainsi\n",
    "    types = info_card.find_all(\"small\")[1]\n",
    "    #print(types)\n",
    "    \n",
    "    # On peut aussi utiliser\n",
    "    types  = info_card.find('small').find_next(\"small\")#.text\n",
    "    #print(types)\n",
    "    types = [t.strip() for t in types.text.split(\" · \")]\n",
    "    \n",
    "    d = {\"name\":name, \"number\":number, \"types\":types, \"url\": url}\n",
    "   \n",
    "    l_pokemons.append(d)\n",
    "## Question 1 (partielle, il n'y a pas les types)\n",
    "\n",
    "\n",
    "for pokemon in l_pokemons[:2]:\n",
    "    url = pokemon[\"url\"]\n",
    "    print(url)\n",
    "    \n",
    "    # Requête\n",
    "    response = requests.get(url)\n",
    "    content = response.content\n",
    "    page = BeautifulSoup(content, 'html.parser')\n",
    "    \n",
    "    # On récupère les nom des variables (en-têtes mais à gauche dans cette table)\n",
    "    ths = page.find(\"table\", class_=\"vitals-table\").find_all(\"th\")\n",
    "    \n",
    "    #for th in ths:\n",
    "    #    if th.text in [\"Height\", \"Weight\"]:\n",
    "    #        print(th.find_next())\n",
    "    \n",
    "    # On utilise find_next après avoir trouvé l'entête\n",
    "    # In this order\n",
    "    data = [th.find_next().text for th in ths if th.text in [\"Height\", \"Weight\"]]\n",
    "    print(data)\n",
    "    \n",
    "    height = data[0].split(\"(\")[0].replace(\"\\xa0\", \" \").strip()\n",
    "    weight = data[1].split(\"(\")[0].replace(\"\\xa0\", \" \").strip()\n",
    "\n",
    "    pokemon[\"height\"] = height\n",
    "    pokemon[\"weight\"] = weight"
   ]
  },
  {
   "cell_type": "code",
   "execution_count": 48,
   "metadata": {},
   "outputs": [],
   "source": [
    "# page.find(\"table\", class_=\"vitals-table\")"
   ]
  },
  {
   "cell_type": "code",
   "execution_count": 49,
   "metadata": {},
   "outputs": [],
   "source": [
    "# pokemon"
   ]
  },
  {
   "cell_type": "code",
   "execution_count": 50,
   "metadata": {},
   "outputs": [],
   "source": [
    "# data"
   ]
  },
  {
   "cell_type": "code",
   "execution_count": null,
   "metadata": {},
   "outputs": [],
   "source": []
  }
 ],
 "metadata": {
  "kernelspec": {
   "display_name": "Python 3 (ipykernel)",
   "language": "python",
   "name": "python3"
  },
  "language_info": {
   "codemirror_mode": {
    "name": "ipython",
    "version": 3
   },
   "file_extension": ".py",
   "mimetype": "text/x-python",
   "name": "python",
   "nbconvert_exporter": "python",
   "pygments_lexer": "ipython3",
   "version": "3.9.7"
  }
 },
 "nbformat": 4,
 "nbformat_minor": 4
}

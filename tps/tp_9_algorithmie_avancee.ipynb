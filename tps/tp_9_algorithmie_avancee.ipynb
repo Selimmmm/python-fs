{
 "cells": [
  {
   "cell_type": "markdown",
   "id": "8e9eea1d",
   "metadata": {},
   "source": [
    "## Exercice 1 : Leet Code Problem : Two Sums"
   ]
  },
  {
   "cell_type": "markdown",
   "id": "d56bbd2e",
   "metadata": {},
   "source": [
    "Le problème des \"Two Sum\" est un problème algorithmique classique souvent utilisé lors des entretiens de programmation. \n",
    "\n",
    "Étant donné : \n",
    "-un tableau d'entiers `nums` \n",
    "- un entier `target` \n",
    "\n",
    "Renvoyez les indices des deux nombres tels que leur somme vaut `target`. \n",
    "Vous pouvez supposer que chaque entrée aura exactement une solution et vous ne pouvez pas utiliser le même élément deux fois.\n"
   ]
  },
  {
   "cell_type": "code",
   "execution_count": 3,
   "id": "62835ec3",
   "metadata": {},
   "outputs": [
    {
     "name": "stdout",
     "output_type": "stream",
     "text": [
      "Les indices des deux nombres qui ajoutent jusqu'à 9 sont : [0, 1]\n",
      "Les indices des deux nombres qui ajoutent jusqu'à 10 sont : [1, 3]\n"
     ]
    }
   ],
   "source": [
    "def two_sum(nums:list, target:int):\n",
    "    ...\n",
    "\n",
    "    \n",
    "# Exemple d'utilisation :\n",
    "nums = [2, 7, 11, 15]\n",
    "target = 9\n",
    "résultat =  [0, 1] # two_sum(nums, target)\n",
    "\n",
    "# le resultat doit être : [0, 1] car 2 + 7 = 9\n",
    "\n",
    "if résultat:\n",
    "    print(f\"Les indices des deux nombres qui ajoutent jusqu'à {target} sont : {résultat}\")\n",
    "else:\n",
    "    print(\"Aucune solution trouvée.\")\n",
    "    \n",
    "    \n",
    "# le resultat doit être : [1, 3] car 8 + 2 = 10\n",
    "nums_example = [3, 8, 5, 2, 11, 7]\n",
    "target_example = 10\n",
    "result_example = [1, 3] # two_sum(nums_example, target_example)\n",
    "\n",
    "if result_example:\n",
    "    print(f\"Les indices des deux nombres qui ajoutent jusqu'à {target_example} sont : {result_example}\")\n",
    "else:\n",
    "    print(\"Aucune solution trouvée.\")"
   ]
  },
  {
   "cell_type": "markdown",
   "id": "bc2f4a0f",
   "metadata": {},
   "source": [
    "## Exercice 2 : Une fonction de tri\n",
    "- Ecrire une fonction qui prend en argument une liste `l` d'entiers positifs et la trie.\n",
    "(ne pas utiliser `.sort` ou `sorted` ou tout autre méthode de tri automatique)\n",
    "- Combien de comparaison fait votre fonction pour trier la liste suivante ? \n",
    "    - Modifier votre fonction pour les compter automatiquement"
   ]
  },
  {
   "cell_type": "code",
   "execution_count": 6,
   "id": "da7d207b",
   "metadata": {},
   "outputs": [
    {
     "data": {
      "text/plain": [
       "14"
      ]
     },
     "execution_count": 6,
     "metadata": {},
     "output_type": "execute_result"
    }
   ],
   "source": [
    "l = [1, 5, 34, 4, 24, 456, 3214, 4, 4643, 7787, 185, 568, 53, 5454]\n",
    "len(l)"
   ]
  },
  {
   "cell_type": "code",
   "execution_count": null,
   "id": "f8304799",
   "metadata": {},
   "outputs": [],
   "source": []
  }
 ],
 "metadata": {
  "kernelspec": {
   "display_name": "Python 3 (ipykernel)",
   "language": "python",
   "name": "python3"
  },
  "language_info": {
   "codemirror_mode": {
    "name": "ipython",
    "version": 3
   },
   "file_extension": ".py",
   "mimetype": "text/x-python",
   "name": "python",
   "nbconvert_exporter": "python",
   "pygments_lexer": "ipython3",
   "version": "3.9.7"
  }
 },
 "nbformat": 4,
 "nbformat_minor": 5
}

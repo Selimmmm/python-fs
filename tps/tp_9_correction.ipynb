{
 "cells": [
  {
   "cell_type": "markdown",
   "id": "b9140481",
   "metadata": {},
   "source": [
    "## Exercice 1 : Leet Code Problem : Two Sums"
   ]
  },
  {
   "cell_type": "code",
   "execution_count": 5,
   "id": "ef1ca9df",
   "metadata": {},
   "outputs": [
    {
     "name": "stdout",
     "output_type": "stream",
     "text": [
      "Les indices des deux nombres qui ajoutent jusqu'à 9 sont : [0, 1]\n",
      "Les indices des deux nombres qui ajoutent jusqu'à 10 sont : [1, 3]\n"
     ]
    }
   ],
   "source": [
    "######################################\n",
    "# Implementation \"maline\"\n",
    "# Complexité temporelle en O(n)\n",
    "# avec n la longeur de la liste nums\n",
    "######################################\n",
    "\n",
    "\n",
    "def two_sum(nums, target):\n",
    "    # Créer un dictionnaire pour stocker les indices des éléments\n",
    "    num_indices = {}\n",
    "\n",
    "    for i, num in enumerate(nums):\n",
    "        complément = target - num\n",
    "\n",
    "        # Vérifier si le complément est dans le dictionnaire\n",
    "        if complément in num_indices:\n",
    "            # Renvoyer les indices des deux nombres\n",
    "            return [num_indices[complément], i]\n",
    "\n",
    "        # Sinon, ajouter le numéro actuel et son indice au dictionnaire\n",
    "        num_indices[num] = i\n",
    "\n",
    "    # Si aucune solution n'est trouvée\n",
    "    return None\n",
    "\n",
    "# Exemple d'utilisation :\n",
    "nums = [2, 7, 11, 15]\n",
    "target = 9\n",
    "résultat = two_sum(nums, target)\n",
    "\n",
    "if résultat:\n",
    "    print(f\"Les indices des deux nombres qui ajoutent jusqu'à {target} sont : {résultat}\")\n",
    "else:\n",
    "    print(\"Aucune solution trouvée.\")\n",
    "    \n",
    "    \n",
    "# Exemple d'utilisation :\n",
    "nums_example = [3, 8, 5, 2, 11, 7]\n",
    "target_example = 10\n",
    "result_example = two_sum(nums_example, target_example)\n",
    "\n",
    "if result_example:\n",
    "    print(f\"Les indices des deux nombres qui ajoutent jusqu'à {target_example} sont : {result_example}\")\n",
    "else:\n",
    "    print(\"Aucune solution trouvée.\")"
   ]
  },
  {
   "cell_type": "code",
   "execution_count": 6,
   "id": "81f7bcee",
   "metadata": {},
   "outputs": [
    {
     "name": "stdout",
     "output_type": "stream",
     "text": [
      "Les indices des deux nombres qui ajoutent jusqu'à 9 sont : [0, 1]\n"
     ]
    }
   ],
   "source": [
    "\n",
    "######################################\n",
    "# Implementation naive\n",
    "# Complexité temporelle en O(n^2) \n",
    "# avec n la longeur de la liste nums\n",
    "######################################\n",
    "\n",
    "def two_sum_naive(nums, target):\n",
    "    n = len(nums)\n",
    "    for i in range(n):\n",
    "        for j in range(i + 1, n):\n",
    "            if nums[i] + nums[j] == target:\n",
    "                return [i, j]\n",
    "    return None\n",
    "\n",
    "# Example usage:\n",
    "nums_example = [2, 7, 11, 15]\n",
    "target_example = 9\n",
    "result_naive = two_sum_naive(nums_example, target_example)\n",
    "\n",
    "if result_naive:\n",
    "    print(f\"Les indices des deux nombres qui ajoutent jusqu'à {target_example} sont : {result_naive}\")\n",
    "else:\n",
    "    print(\"Aucune solution trouvée.\")\n"
   ]
  },
  {
   "cell_type": "code",
   "execution_count": null,
   "id": "db4383b8",
   "metadata": {},
   "outputs": [],
   "source": []
  }
 ],
 "metadata": {
  "kernelspec": {
   "display_name": "Python 3 (ipykernel)",
   "language": "python",
   "name": "python3"
  },
  "language_info": {
   "codemirror_mode": {
    "name": "ipython",
    "version": 3
   },
   "file_extension": ".py",
   "mimetype": "text/x-python",
   "name": "python",
   "nbconvert_exporter": "python",
   "pygments_lexer": "ipython3",
   "version": "3.9.7"
  }
 },
 "nbformat": 4,
 "nbformat_minor": 5
}

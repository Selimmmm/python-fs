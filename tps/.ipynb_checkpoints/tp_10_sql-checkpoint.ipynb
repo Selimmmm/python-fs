{
  "cells": [
    {
      "cell_type": "markdown",
      "metadata": {},
      "source": [
        "# Utilisation de SQLite avec Python\n",
        "\n",
        "## Connexion à la base de données\n",
        "\n",
        "Pour utiliser SQLite avec Python, commencez par établir une connexion à la base de données.\n",
        "\n",
        "```python\n",
        "import sqlite3\n",
        "\n",
        "# Connexion à la base de données (si elle n'existe pas, elle sera créée)\n",
        "conn = sqlite3.connect('ma_base_de_donnees.db')\n",
        "```"
      ]
    },
    {
      "cell_type": "markdown",
      "metadata": {},
      "source": [
        "## Création d'une table\n",
        "\n",
        "Définissons une table simple pour stocker des données.\n",
        "\n",
        "```python\n",
        "# Création d'un curseur pour exécuter des commandes SQL\n",
        "cur = conn.cursor()\n",
        "\n",
        "# Définition du schéma de la table\n",
        "cur.execute('''\n",
        "    CREATE TABLE IF NOT EXISTS utilisateurs (\n",
        "        id INTEGER PRIMARY KEY,\n",
        "        nom TEXT,\n",
        "        age INTEGER\n",
        "    )\n",
        "''')\n",
        "\n",
        "# Validation des modifications\n",
        "conn.commit()\n",
        "```"
      ]
    },
    {
      "cell_type": "markdown",
      "metadata": {},
      "source": [
        "## Opérations CRUD (Create, Read, Update, Delete)\n",
        "\n",
        "### Insertion de données\n",
        "\n",
        "Ajoutons un nouvel utilisateur à la table.\n",
        "\n",
        "```python\n",
        "cur.execute(\"INSERT INTO utilisateurs (nom, age) VALUES (?, ?)\", ('Alice', 25))\n",
        "conn.commit()\n",
        "```"
      ]
    },
    {
      "cell_type": "markdown",
      "metadata": {},
      "source": [
        "### Lecture des données\n",
        "\n",
        "Récupérons toutes les données de la table.\n",
        "\n",
        "```python\n",
        "cur.execute(\"SELECT * FROM utilisateurs\")\n",
        "resultats = cur.fetchall()\n",
        "\n",
        "for row in resultats:\n",
        "    print(row)\n",
        "```"
      ]
    },
    {
      "cell_type": "markdown",
      "metadata": {},
      "source": [
        "### Mise à jour de données\n",
        "\n",
        "Mettons à jour l'âge de l'utilisateur Alice.\n",
        "\n",
        "```python\n",
        "cur.execute(\"UPDATE utilisateurs SET age=? WHERE nom=?\", (26, 'Alice'))\n",
        "conn.commit()\n",
        "```"
      ]
    },
    {
      "cell_type": "markdown",
      "metadata": {},
      "source": [
        "### Suppression de données\n",
        "\n",
        "Supprimons l'utilisateur Alice de la table.\n",
        "\n",
        "```python\n",
        "cur.execute(\"DELETE FROM utilisateurs WHERE nom=?\", ('Alice',))\n",
        "conn.commit()\n",
        "```"
      ]
    },
    {
      "cell_type": "markdown",
      "metadata": {},
      "source": [
        "## Fermeture de la connexion\n",
        "\n",
        "N'oubliez pas de fermer la connexion une fois les opérations terminées.\n",
        "\n",
        "```python\n",
        "conn.close()\n",
        "```"
      ]
    }
  ],
  "metadata": {
    "kernelspec": {
      "display_name": "Python 3",
      "language": "python",
      "name": "python3"
    },
    "language_info": {
      "codemirror_mode": {
        "name": "ipython",
        "version": 3
      },
      "file_extension": ".py",
      "mimetype": "text/x-python",
      "name": "python",
      "nbconvert_exporter": "python",
      "pygments_lexer": "ipython3",
      "version": "3.8.3"
    }
  },
  "nbformat": 4,
  "nbformat_minor": 2
}
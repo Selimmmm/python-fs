{
 "cells": [
  {
   "cell_type": "markdown",
   "metadata": {},
   "source": [
    "#  Webscraping avec python\n",
    "# **Python**\n",
    "# **TP 6 - Scraping avec BeautifulSoup**\n",
    "\n",
    "**Inspiré de : [Cours de Python pour le Data Scientist - Lino Galiana](https://linogaliana-teaching.netlify.app/manipulation/webscraping/)**\n",
    "\n",
    "\n",
    "***\n",
    "\n",
    "[**Notions**](#notions)\n",
    "\n",
    "1. [Balises HTML](#1)\n",
    "2. [Parent et enfant](#2)\n",
    "3. [Utiliser BeautifulSoup](#3)\n",
    "\n",
    "\n",
    "*** \n",
    "\n",
    "[**Exercices**](#exercices)\n",
    "\n",
    "- Exercice 1\n",
    "- Exercice 2\n",
    "\n",
    "***\n"
   ]
  },
  {
   "cell_type": "markdown",
   "metadata": {},
   "source": [
    "<a id='1'></a>\n",
    "\n",
    "## 1. Balises HTML\n",
    "\n",
    "\n",
    "En HTML, on utilise des balises pour séparer les différents morceaux du code qui correspondent à des éléments sur la page. Par exemple ``<head>`` est la balise pour le header du fichier html, ``<title>`` pour son titre, ``<p>`` pour un pragraphe, ``<h1>``, ``<h2>``, ``<h3>``,... pour des headlines ou ``<br>``pour un retour à la ligne.\n",
    "\n",
    "\n",
    "Une balise est toujours fermée par la même balise avec un ``/``en plus. Par exemple : ``<title> Titre </title>``"
   ]
  },
  {
   "cell_type": "markdown",
   "metadata": {},
   "source": [
    "#### Exemple : les balise des tableaux\n",
    "\n",
    "$$\n",
    "\\begin{array}{rr} \\hline\n",
    "Balise  & \\text{Description} \\\\ \\hline\n",
    "< table> & \\text{Tableau} \\\\\n",
    "< caption>& \\text{Titre du tableau} \\\\\n",
    "< tr> & \\text{Ligne de tableau} \\\\\n",
    "< th> & \\text{Cellule d'en-tête}\\\\\n",
    "< td> & \\text{Cellule} \\\\\n",
    "< thead> & \\text{Section de l'en-tête du tableau} \\\\\n",
    "< tbody> & \\text{Section du corps du tableau} \\\\\n",
    "< tfoot> & \\text{Section du pied du tableau} \\\\\n",
    "\\end{array}\n",
    "$$"
   ]
  },
  {
   "cell_type": "markdown",
   "metadata": {},
   "source": [
    "##### Application : un tableau en HTML\n",
    "\n",
    "Le code *HTML* du tableau suivant\n"
   ]
  },
  {
   "cell_type": "raw",
   "metadata": {},
   "source": [
    "<table>\n",
    "<caption> Le Titre de mon tableau </caption>\n",
    "    <thead>\n",
    "       <tr>\n",
    "          <th>Prénom</th>\n",
    "          <th>Nom</th>\n",
    "          <th>Profession</th>\n",
    "       </tr>\n",
    "   </thead>\n",
    "   <tbody>\n",
    "       <tr>\n",
    "          <td>Mike </td>\n",
    "          <td>Stuntman</td>\n",
    "          <td>Cascadeur</td>\n",
    "       </tr>\n",
    "       <tr>\n",
    "          <td>Mister</td>\n",
    "          <td>Pink</td>\n",
    "          <td>Gangster</td>\n",
    "       </tr>\n",
    "   </tbody>\n",
    "</table>"
   ]
  },
  {
   "cell_type": "markdown",
   "metadata": {},
   "source": [
    "Donnera dans le navigateur\n",
    "\n",
    "<table>\n",
    "<caption> Le Titre de mon tableau </caption>\n",
    "\n",
    "   <tr>\n",
    "      <th>Prénom</th>\n",
    "      <th>Nom</th>\n",
    "      <th>Profession</th>\n",
    "   </tr>\n",
    "   <tr>\n",
    "      <td>Mike </td>\n",
    "      <td>Stuntman</td>\n",
    "      <td>Cascadeur</td>\n",
    "   </tr>\n",
    "   <tr>\n",
    "      <td>Mister</td>\n",
    "      <td>Pink</td>\n",
    "      <td>Gangster</td>\n",
    "   </tr>\n",
    "</table>"
   ]
  },
  {
   "cell_type": "markdown",
   "metadata": {},
   "source": [
    "<a id='2'></a>\n",
    "## 2. Parent et enfant\n",
    "\n",
    "Dans le cadre du langage HTML, les termes de parents (parent) et enfants (child) servent à désigner des élements emboîtés les uns dans les autres. Dans la construction suivante, par exemple :\n"
   ]
  },
  {
   "cell_type": "markdown",
   "metadata": {},
   "source": [
    "<div> \n",
    "    <p>\n",
    "       bla,bla\n",
    "    </p>\n",
    "</div>\n",
    "\n",
    "\n",
    "\n",
    "<div> \n",
    "\n",
    "</div>\n",
    "\n",
    "<p>\n",
    "   bla,bla\n",
    "</p>"
   ]
  },
  {
   "cell_type": "markdown",
   "metadata": {},
   "source": [
    "Sur la page web, cela apparaitra de la manière suivante : \n",
    "\n",
    "<div> \n",
    "    <p>\n",
    "       bla,bla\n",
    "    </p>\n",
    "</div>"
   ]
  },
  {
   "cell_type": "markdown",
   "metadata": {},
   "source": [
    "On dira que l'élément ``<div>`` est le parent de l'élément ``<p>`` tandis que l'élément ``<p>`` est l'enfant de l'élément ``<div>``."
   ]
  },
  {
   "cell_type": "markdown",
   "metadata": {},
   "source": [
    "## 3. Utiliser BeautifulSoup\n",
    "\n",
    "Les packages et étapes pour scrapper des pages HTML : \n",
    "- Etape 1: ``requests`` ou ``urllib`` pour faire des requêtes `GET` sur les pages\n",
    "- Etape 2: ``BeautifulSoup4`` pour parser le code HTML"
   ]
  },
  {
   "cell_type": "code",
   "execution_count": 2,
   "metadata": {},
   "outputs": [],
   "source": [
    "import urllib\n",
    "import bs4\n",
    "import requests"
   ]
  },
  {
   "cell_type": "markdown",
   "metadata": {},
   "source": [
    "### 1ere page HTML\n",
    "\n",
    "On va commencer facilement, prenons une page wikipedia, par exemple celle de la Ligue 1 de football : [Championnat de France de football 2019-2020](https://fr.wikipedia.org/wiki/Championnat_de_France_de_football_2019-2020). On va souhaiter récupérer la liste des équipes, ainsi que les url des pages Wikipedia de ces équipes.\n"
   ]
  },
  {
   "cell_type": "code",
   "execution_count": 4,
   "metadata": {
    "lines_to_next_cell": 2
   },
   "outputs": [
    {
     "name": "stdout",
     "output_type": "stream",
     "text": [
      "Status code: 200\n",
      "<class 'bs4.BeautifulSoup'>\n"
     ]
    }
   ],
   "source": [
    "# Etape 1 : se connecter à la page wikipedia et obtenir le code source\n",
    "\n",
    "url_ligue_1 = \"https://fr.wikipedia.org/wiki/Championnat_de_France_de_football_2019-2020\"\n",
    "    \n",
    "#from urllib import request\n",
    "\n",
    "response = requests.get(url_ligue_1)\n",
    "print(f\"Status code: {response.status_code}\")\n",
    "\n",
    "text = response.text\n",
    "#print(request_text[:1000])    \n",
    "#print(\"\\n type:\", type(request_text))\n",
    "\n",
    "\n",
    "# Etape 2 : utiliser le package BeautifulSoup\n",
    "page = bs4.BeautifulSoup(text, \"html\")\n",
    "\n",
    "print(type(page))"
   ]
  },
  {
   "cell_type": "markdown",
   "metadata": {
    "lines_to_next_cell": 2
   },
   "source": [
    "### Méthode ``.find()``\n",
    "Elle renvoie la première occurence trouvée avec cette balise "
   ]
  },
  {
   "cell_type": "code",
   "execution_count": 9,
   "metadata": {},
   "outputs": [
    {
     "name": "stdout",
     "output_type": "stream",
     "text": [
      "<title>Championnat de France de football 2019-2020 — Wikipédia</title>\n",
      "<class 'bs4.element.Tag'>\n",
      "\n",
      "\n",
      "Championnat de France de football 2019-2020 — Wikipédia\n",
      "<class 'str'>\n"
     ]
    }
   ],
   "source": [
    "title = page.find(\"title\")\n",
    "\n",
    "print(title)\n",
    "print(type(title))\n",
    "print(\"\\n\")\n",
    "\n",
    "print(title.text)\n",
    "print(type(title.text))\n",
    "\n",
    "#print(type(page.find(\"title\")))"
   ]
  },
  {
   "cell_type": "code",
   "execution_count": 14,
   "metadata": {},
   "outputs": [],
   "source": [
    "# print(page.find(\"table\"))"
   ]
  },
  {
   "cell_type": "markdown",
   "metadata": {},
   "source": [
    "La cellule avec le copier-coller du code source donne : \n",
    "\n",
    "<table><caption style=\"background:#99cc99;color:#000000;\">Généralités</caption><tbody><tr>\n",
    "<th scope=\"row\" style=\"width:10.5em;\">Sport</th>\n",
    "<td>\n",
    "<a href=\"/wiki/Football\" title=\"Football\">Football</a></td>\n",
    "</tr>\n",
    "<tr>\n",
    "<th scope=\"row\" style=\"width:10.5em;\">Organisateur(s)</th>\n",
    "<td>\n",
    "<a href=\"/wiki/Ligue_de_football_professionnel\" title=\"Ligue de football professionnel\">LFP</a></td>\n",
    "</tr>\n",
    "<tr>\n",
    "<th scope=\"row\" style=\"width:10.5em;\">Édition</th>\n",
    "<td>\n",
    "<abbr class=\"abbr\" title=\"Quatre-vingt-deuxième (huitante-deuxième / octante-deuxième)\">82<sup>e</sup></abbr></td>\n",
    "</tr>\n",
    "<tr>\n",
    "<th scope=\"row\" style=\"width:10.5em;\">Lieu(x)</th>\n",
    "<td>\n",
    "<span class=\"datasortkey\" data-sort-value=\"France\"><span class=\"flagicon\"><a class=\"image\" href=\"/wiki/Fichier:Flag_of_France.svg\" title=\"Drapeau de la France\"><img alt=\"Drapeau de la France\" class=\"noviewer thumbborder\" data-file-height=\"600\" data-file-width=\"900\" decoding=\"async\" height=\"13\" src=\"//upload.wikimedia.org/wikipedia/commons/thumb/c/c3/Flag_of_France.svg/20px-Flag_of_France.svg.png\" srcset=\"//upload.wikimedia.org/wikipedia/commons/thumb/c/c3/Flag_of_France.svg/30px-Flag_of_France.svg.png 1.5x, //upload.wikimedia.org/wikipedia/commons/thumb/c/c3/Flag_of_France.svg/40px-Flag_of_France.svg.png 2x\" width=\"20\"/></a> </span><a href=\"/wiki/France\" title=\"France\">France</a></span> et <br/><span class=\"datasortkey\" data-sort-value=\"Monaco\"><span class=\"flagicon\"><a class=\"image\" href=\"/wiki/Fichier:Flag_of_Monaco.svg\" title=\"Drapeau de Monaco\"><img alt=\"Drapeau de Monaco\" class=\"noviewer thumbborder\" data-file-height=\"800\" data-file-width=\"1000\" decoding=\"async\" height=\"16\" src=\"//upload.wikimedia.org/wikipedia/commons/thumb/e/ea/Flag_of_Monaco.svg/20px-Flag_of_Monaco.svg.png\" srcset=\"//upload.wikimedia.org/wikipedia/commons/thumb/e/ea/Flag_of_Monaco.svg/30px-Flag_of_Monaco.svg.png 1.5x, //upload.wikimedia.org/wikipedia/commons/thumb/e/ea/Flag_of_Monaco.svg/40px-Flag_of_Monaco.svg.png 2x\" width=\"20\"/></a> </span><a href=\"/wiki/Monaco\" title=\"Monaco\">Monaco</a></span></td>\n",
    "</tr>\n",
    "<tr>\n",
    "<th scope=\"row\" style=\"width:10.5em;\">Date</th>\n",
    "<td>\n",
    "Du <time class=\"nowrap date-lien\" data-sort-value=\"2019-08-09\" datetime=\"2019-08-09\"><a href=\"/wiki/9_ao%C3%BBt_en_sport\" title=\"9 août en sport\">9</a> <a class=\"mw-redirect\" href=\"/wiki/Ao%C3%BBt_2019_en_sport\" title=\"Août 2019 en sport\">août</a> <a href=\"/wiki/2019_en_football\" title=\"2019 en football\">2019</a></time><br/>au <time class=\"nowrap date-lien\" data-sort-value=\"2020-03-08\" datetime=\"2020-03-08\"><a href=\"/wiki/8_mars_en_sport\" title=\"8 mars en sport\">8 mars</a> <a href=\"/wiki/2020_en_football\" title=\"2020 en football\">2020</a></time> <small>(arrêt définitif)</small></td>\n",
    "</tr>\n",
    "<tr>\n",
    "<th scope=\"row\" style=\"width:10.5em;\">Participants</th>\n",
    "<td>\n",
    "20 équipes</td>\n",
    "</tr>\n",
    "<tr>\n",
    "<th scope=\"row\" style=\"width:10.5em;\">Matchs joués</th>\n",
    "<td>\n",
    "279</td>\n",
    "</tr>\n",
    "<tr>\n",
    "<th scope=\"row\" style=\"width:10.5em;\">Site web officiel</th>\n",
    "<td>\n",
    "<a class=\"external text\" href=\"https://www.ligue1.fr/\" rel=\"nofollow\">Site officiel</a></td>\n",
    "</tr></tbody></table>"
   ]
  },
  {
   "cell_type": "markdown",
   "metadata": {},
   "source": [
    "### Méthode ``.find_all()``\n",
    "Elle renvoie toutes les occurences trouvées avec cette balise "
   ]
  },
  {
   "cell_type": "code",
   "execution_count": 11,
   "metadata": {},
   "outputs": [
    {
     "name": "stdout",
     "output_type": "stream",
     "text": [
      "Il y a 34 éléments dans la page qui sont des <table>\n",
      "<class 'bs4.element.Tag'>\n"
     ]
    }
   ],
   "source": [
    "all_tables = page.find_all(\"table\")\n",
    "print(\"Il y a\", len(all_tables), \"éléments dans la page qui sont des <table>\")\n",
    "print(type(all_tables[0]))"
   ]
  },
  {
   "cell_type": "markdown",
   "metadata": {},
   "source": [
    "### Attribut ``.text``\n",
    "Il contient le texte entre des bablises"
   ]
  },
  {
   "cell_type": "code",
   "execution_count": 15,
   "metadata": {},
   "outputs": [
    {
     "name": "stdout",
     "output_type": "stream",
     "text": [
      "<p><b>Légende des couleurs</b>\n",
      "</p>\n",
      "Légende des couleurs\n",
      "\n"
     ]
    }
   ],
   "source": [
    "paragraph = page.find_all(\"p\")[10]\n",
    "print(paragraph)\n",
    "print(paragraph.text)"
   ]
  },
  {
   "cell_type": "markdown",
   "metadata": {},
   "source": [
    "### Filtrer sur une classe HTML avec ``find``ou ``find_all``"
   ]
  },
  {
   "cell_type": "code",
   "execution_count": 14,
   "metadata": {},
   "outputs": [
    {
     "name": "stdout",
     "output_type": "stream",
     "text": [
      "2 objects with class wikitable sortable\n"
     ]
    }
   ],
   "source": [
    "wikitables = page.find_all(\"table\", class_='wikitable sortable')\n",
    "print(len(wikitables), \"objects with class wikitable sortable\")"
   ]
  },
  {
   "cell_type": "markdown",
   "metadata": {},
   "source": [
    "### ``.get``pour récupérer un attribut\n",
    "Ici, on récupère l'attribut ``href``d'un tag avec ``.get(\"href\")``"
   ]
  },
  {
   "cell_type": "code",
   "execution_count": 15,
   "metadata": {},
   "outputs": [
    {
     "name": "stdout",
     "output_type": "stream",
     "text": [
      "2 objects with class wikitable sortable\n",
      "<th scope=\"col\">Classement<br/><a href=\"/wiki/Championnat_de_France_de_football_2018-2019\" title=\"Championnat de France de football 2018-2019\">2018-2019</a>\n",
      "</th>\n",
      "\n",
      "\n",
      "<a href=\"/wiki/Championnat_de_France_de_football_2018-2019\" title=\"Championnat de France de football 2018-2019\">2018-2019</a>\n",
      "/wiki/Championnat_de_France_de_football_2018-2019\n"
     ]
    }
   ],
   "source": [
    "wikitables = page.find_all(\"table\", class_='wikitable sortable')\n",
    "print(len(wikitables), \"objects with class wikitable sortable\")\n",
    "\n",
    "# th indique la ligne d'entête du tableau, on prend la troisième cellule \n",
    "# de la liste des entêtes\n",
    "tag_header = wikitables[0].find_all(\"th\")[3]\n",
    "print(tag_header)\n",
    "print('\\n')\n",
    "\n",
    "# on cherche maintenant la balise a dedans\n",
    "tag_a = tag_header.find(\"a\")\n",
    "print(tag_a)\n",
    "print(tag_a.get(\"href\"))"
   ]
  },
  {
   "cell_type": "code",
   "execution_count": 19,
   "metadata": {},
   "outputs": [
    {
     "data": {
      "text/plain": [
       "'/wiki/Championnat_de_France_de_football_2018-2019'"
      ]
     },
     "execution_count": 19,
     "metadata": {},
     "output_type": "execute_result"
    }
   ],
   "source": [
    "# première table\n",
    "# 4ème header\n",
    "# l'unique lien qui se trouve dedans (d'où l'usage)\n",
    "# récupération de l'url relative\n",
    "\n",
    "page.find_all(\"table\", class_='wikitable sortable')[0].find_all(\"th\")[3].find(\"a\").get(\"href\") \n"
   ]
  },
  {
   "cell_type": "markdown",
   "metadata": {},
   "source": [
    "## Exercices"
   ]
  },
  {
   "cell_type": "markdown",
   "metadata": {},
   "source": [
    "## Exercice 1 : obtenir la liste des équipes de Ligue 1\n",
    "\n",
    "Sur la page https://fr.wikipedia.org/wiki/Championnat_de_France_de_football_2019-2020, on veut scraper le tableau de la section Participants (celui avec ces colonnes : (Club, Dernière montée, Budget en M€, ...)"
   ]
  },
  {
   "cell_type": "markdown",
   "metadata": {},
   "source": [
    "#### 1) Trouver le tableau\n"
   ]
  },
  {
   "cell_type": "code",
   "execution_count": 25,
   "metadata": {},
   "outputs": [
    {
     "name": "stdout",
     "output_type": "stream",
     "text": [
      "Name: lxml\n",
      "Version: 4.6.1\n",
      "Summary: Powerful and Pythonic XML processing library combining libxml2/libxslt with the ElementTree API.\n",
      "Home-page: https://lxml.de/\n",
      "Author: lxml dev team\n",
      "Author-email: lxml-dev@lxml.de\n",
      "License: BSD\n",
      "Location: /usr/local/lib/python3.9/site-packages\n",
      "Requires: \n",
      "Required-by: fraddress, python-docx, svglib, yfinance\n"
     ]
    }
   ],
   "source": [
    "!pip3 show lxml\n",
    "#pour l'installer :  !pip3 install lxml"
   ]
  },
  {
   "cell_type": "code",
   "execution_count": 27,
   "metadata": {},
   "outputs": [
    {
     "name": "stdout",
     "output_type": "stream",
     "text": [
      "<tbody><tr>\n",
      "<th scope=\"col\">Club\n",
      "</th>\n",
      "<th scope=\"col\">Dernière<br/>montée\n",
      "</th>\n",
      "<th scope=\"col\">Budget<sup class=\"reference\" id=\"cite_ref-3\"><a href=\"#cite_note-3\"><span class=\"cite_crochet\">[</span>3<span class=\"cite_crochet\">]</span></a></sup><br/>en M<a href=\"/wiki/Euro\" title=\"Euro\">€</a>\n",
      "</th>\n",
      "<th scope=\"col\">Classement<br/><a href=\"/wiki/Championnat_de_France_de_football_2018-2019\" title=\"Championnat de France de football 2018-2019\">2018-2019</a>\n",
      "</th>\n",
      "<th scope=\"col\">Entraîneur\n",
      "</th>\n",
      "<th scope=\"col\">Depuis\n",
      "</th>\n",
      "<th scope=\"col\">Stade\n",
      "</th>\n",
      "<th scope=\"col\">Capacité<br/>en L1<sup class=\"reference\" id=\"cite_ref-4\"><a href=\"#cite_note-4\"><span class=\"cite_crochet\">[</span>4<span class=\"cite_crochet\">]</span></a></sup>\n",
      "</th>\n",
      "<th scope=\"col\">Nombre<br/>de saisons<br/>en L1\n",
      "</th></tr>\n",
      "<tr bgcolor=\"#97DEFF\">\n",
      "<td><a href=\"/wiki/Paris_Saint-Germain_Football_Club\" title=\"Paris Saint-Germain Football Club\">Paris Saint-Germain</a>\n",
      "</td>\n",
      "<td>1974\n",
      "</td>\n",
      "<td>637\n",
      "</td>\n",
      "<td><span data-sort-value=\"101 !\"></span><abbr class=\"abbr\" title=\"Premier\">1<sup>er</sup></abbr>\n",
      "</td>\n",
      "<td align=\"left\"><span class=\"flagicon\"><span class=\"mw-image-border noviewer\" typeof=\"mw:File\"><a class=\"mw-file-description\" href=\"/wiki/Fichier:Flag_of_Germany.svg\" title=\"Drapeau : Allemagne\"><img alt=\"\" class=\"mw-file-element\" data-file-height=\"600\" data-file-width=\"1000\" decoding=\"async\" height=\"12\" src=\"//upload.wikimedia.org/wikipedia/commons/thumb/b/ba/Flag_of_Germany.svg/20px-Flag_of_Germany.svg.png\" srcset=\"//upload.wikimedia.org/wikipedia/commons/thumb/b/ba/Flag_of_Germany.svg/30px-Flag_of_Germany.svg.png 1.5x, //upload.wikimedia.org/wikipedia/commons/thumb/b/ba/Flag_of_Germany.svg/40px-Flag_of_Germany.svg.png 2x\" width=\"20\"/></a></span></span> <a href=\"/wiki/Thomas_Tuchel\" title=\"Thomas Tuchel\">Thomas Tuchel</a>\n",
      "</td>\n",
      "<td>2018\n",
      "</td>\n",
      "<td><a href=\"/wiki/Parc_des_Princes\" title=\"Parc des Princes\">Parc des Princes</a>\n",
      "</td>\n",
      "<td>47 929\n",
      "</td>\n",
      "<td>46\n",
      "</td></tr>\n",
      "<tr bgcolor=\"#97DEFF\">\n",
      "<td><a href=\"/wiki/LOSC_Lille\" title=\"LOSC Lille\">LOSC Lille</a>\n",
      "</td>\n",
      "<td>2000\n",
      "</td>\n",
      "<td>120\n",
      "</td>\n",
      "<td><span data-sort-value=\"102 !\"></span><abbr class=\"abbr\" title=\"Deuxième\">2<sup>e</sup></abbr>\n",
      "</td>\n",
      "<td align=\"left\"><span class=\"flagicon\"><span class=\"mw-image-border noviewer\" typeof=\"mw:File\"><a class=\"mw-file-description\" href=\"/wiki/Fichier:Flag_of_France.svg\" title=\"Drapeau : France\"><img alt=\"\" class=\"mw-file-element\" data-file-height=\"600\" data-file-width=\"900\" decoding=\"async\" height=\"13\" src=\"//upload.wikimedia.org/wikipedia/commons/thumb/c/c3/Flag_of_France.svg/20px-Flag_of_France.svg.png\" srcset=\"//upload.wikimedia.org/wikipedia/commons/thumb/c/c3/Flag_of_France.svg/30px-Flag_of_France.svg.png 1.5x, //upload.wikimedia.org/wikipedia/commons/thumb/c/c3/Flag_of_France.svg/40px-Flag_of_France.svg.png 2x\" width=\"20\"/></a></span></span> <a href=\"/wiki/Christophe_Galtier\" title=\"Christophe Galtier\">Christophe Galtier</a>\n",
      "</td>\n",
      "<td>2017\n",
      "</td>\n",
      "<td><a href=\"/wiki/Stade_Pierre-Mauroy\" title=\"Stade Pierre-Mauroy\">Stade Pierre-Mauroy</a>\n",
      "</td>\n",
      "<td>49 712\n",
      "</td>\n",
      "<td>59\n",
      "</td></tr>\n",
      "<tr bgcolor=\"#97DEFF\">\n",
      "<td><a href=\"/wiki/Olympique_lyonnais\" title=\"Olympique lyonnais\">Olympique lyonnais</a>\n",
      "</td>\n",
      "<td>1989\n",
      "</td>\n",
      "<td>310\n",
      "</td>\n",
      "<td><span data-sort-value=\"103 !\"></span><abbr class=\"abbr\" title=\"Troisième\">3<sup>e</sup></abbr>\n",
      "</td>\n",
      "<td align=\"left\"><span class=\"flagicon\"><span class=\"mw-image-border noviewer\" typeof=\"mw:File\"><a class=\"mw-file-description\" href=\"/wiki/Fichier:Flag_of_France.svg\" title=\"Drapeau : France\"><img alt=\"\" class=\"mw-file-element\" data-file-height=\"600\" data-file-width=\"900\" decoding=\"async\" height=\"13\" src=\"//upload.wikimedia.org/wikipedia/commons/thumb/c/c3/Flag_of_France.svg/20px-Flag_of_France.svg.png\" srcset=\"//upload.wikimedia.org/wikipedia/commons/thumb/c/c3/Flag_of_France.svg/30px-Flag_of_France.svg.png 1.5x, //upload.wikimedia.org/wikipedia/commons/thumb/c/c3/Flag_of_France.svg/40px-Flag_of_France.svg.png 2x\" width=\"20\"/></a></span></span> <a href=\"/wiki/Rudi_Garcia\" title=\"Rudi Garcia\">Rudi Garcia</a>\n",
      "</td>\n",
      "<td>2019\n",
      "</td>\n",
      "<td><a href=\"/wiki/Parc_Olympique_lyonnais\" title=\"Parc Olympique lyonnais\">Groupama Stadium</a>\n",
      "</td>\n",
      "<td>57 206\n",
      "</td>\n",
      "<td>60\n",
      "</td></tr>\n",
      "<tr bgcolor=\"#FFE052\">\n",
      "<td><a href=\"/wiki/Association_sportive_de_Saint-%C3%89tienne\" title=\"Association sportive de Saint-Étienne\">AS Saint-Étienne</a>\n",
      "</td>\n",
      "<td>2004\n",
      "</td>\n",
      "<td>100\n",
      "</td>\n",
      "<td><span data-sort-value=\"104 !\"></span><abbr class=\"abbr\" title=\"Quatrième\">4<sup>e</sup></abbr>\n",
      "</td>\n",
      "<td align=\"left\"><span class=\"flagicon\"><span class=\"mw-image-border noviewer\" typeof=\"mw:File\"><a class=\"mw-file-description\" href=\"/wiki/Fichier:Flag_of_France.svg\" title=\"Drapeau : France\"><img alt=\"\" class=\"mw-file-element\" data-file-height=\"600\" data-file-width=\"900\" decoding=\"async\" height=\"13\" src=\"//upload.wikimedia.org/wikipedia/commons/thumb/c/c3/Flag_of_France.svg/20px-Flag_of_France.svg.png\" srcset=\"//upload.wikimedia.org/wikipedia/commons/thumb/c/c3/Flag_of_France.svg/30px-Flag_of_France.svg.png 1.5x, //upload.wikimedia.org/wikipedia/commons/thumb/c/c3/Flag_of_France.svg/40px-Flag_of_France.svg.png 2x\" width=\"20\"/></a></span></span> <a href=\"/wiki/Claude_Puel\" title=\"Claude Puel\">Claude Puel</a>\n",
      "</td>\n",
      "<td>2019\n",
      "</td>\n",
      "<td><a href=\"/wiki/Stade_Geoffroy-Guichard\" title=\"Stade Geoffroy-Guichard\">Stade Geoffroy-Guichard</a>\n",
      "</td>\n",
      "<td>41 965\n",
      "</td>\n",
      "<td>66\n",
      "</td></tr>\n",
      "<tr>\n",
      "<td><a href=\"/wiki/Olympique_de_Marseille\" title=\"Olympique de Marseille\">Olympique de Marseille</a>\n",
      "</td>\n",
      "<td>1996\n",
      "</td>\n",
      "<td>110\n",
      "</td>\n",
      "<td><span data-sort-value=\"105 !\"></span><abbr class=\"abbr\" title=\"Cinquième\">5<sup>e</sup></abbr>\n",
      "</td>\n",
      "<td align=\"left\"><span class=\"flagicon\"><span class=\"mw-image-border noviewer\" typeof=\"mw:File\"><a class=\"mw-file-description\" href=\"/wiki/Fichier:Flag_of_Portugal.svg\" title=\"Drapeau : Portugal\"><img alt=\"\" class=\"mw-file-element\" data-file-height=\"400\" data-file-width=\"600\" decoding=\"async\" height=\"13\" src=\"//upload.wikimedia.org/wikipedia/commons/thumb/5/5c/Flag_of_Portugal.svg/20px-Flag_of_Portugal.svg.png\" srcset=\"//upload.wikimedia.org/wikipedia/commons/thumb/5/5c/Flag_of_Portugal.svg/30px-Flag_of_Portugal.svg.png 1.5x, //upload.wikimedia.org/wikipedia/commons/thumb/5/5c/Flag_of_Portugal.svg/40px-Flag_of_Portugal.svg.png 2x\" width=\"20\"/></a></span></span> <a href=\"/wiki/Andr%C3%A9_Villas-Boas\" title=\"André Villas-Boas\">André Villas-Boas</a>\n",
      "</td>\n",
      "<td>2019\n",
      "</td>\n",
      "<td><a href=\"/wiki/Stade_V%C3%A9lodrome\" title=\"Stade Vélodrome\">Orange Vélodrome</a>\n",
      "</td>\n",
      "<td>66 226\n",
      "</td>\n",
      "<td>69\n",
      "</td></tr>\n",
      "<tr>\n",
      "<td><a href=\"/wiki/Montpellier_H%C3%A9rault_Sport_Club\" title=\"Montpellier Hérault Sport Club\">Montpellier HSC</a>\n",
      "</td>\n",
      "<td>2009\n",
      "</td>\n",
      "<td>40\n",
      "</td>\n",
      "<td><span data-sort-value=\"106 !\"></span><abbr class=\"abbr\" title=\"Sixième\">6<sup>e</sup></abbr>\n",
      "</td>\n",
      "<td align=\"left\"><span class=\"flagicon\"><span class=\"mw-image-border noviewer\" typeof=\"mw:File\"><a class=\"mw-file-description\" href=\"/wiki/Fichier:Flag_of_Armenia.svg\" title=\"Drapeau : Arménie\"><img alt=\"\" class=\"mw-file-element\" data-file-height=\"600\" data-file-width=\"1200\" decoding=\"async\" height=\"10\" src=\"//upload.wikimedia.org/wikipedia/commons/thumb/2/2f/Flag_of_Armenia.svg/20px-Flag_of_Armenia.svg.png\" srcset=\"//upload.wikimedia.org/wikipedia/commons/thumb/2/2f/Flag_of_Armenia.svg/30px-Flag_of_Armenia.svg.png 1.5x, //upload.wikimedia.org/wikipedia/commons/thumb/2/2f/Flag_of_Armenia.svg/40px-Flag_of_Armenia.svg.png 2x\" width=\"20\"/></a></span></span><span class=\"flagicon\"><span class=\"mw-image-border noviewer\" typeof=\"mw:File\"><a class=\"mw-file-description\" href=\"/wiki/Fichier:Flag_of_France.svg\" title=\"Drapeau : France\"><img alt=\"\" class=\"mw-file-element\" data-file-height=\"600\" data-file-width=\"900\" decoding=\"async\" height=\"13\" src=\"//upload.wikimedia.org/wikipedia/commons/thumb/c/c3/Flag_of_France.svg/20px-Flag_of_France.svg.png\" srcset=\"//upload.wikimedia.org/wikipedia/commons/thumb/c/c3/Flag_of_France.svg/30px-Flag_of_France.svg.png 1.5x, //upload.wikimedia.org/wikipedia/commons/thumb/c/c3/Flag_of_France.svg/40px-Flag_of_France.svg.png 2x\" width=\"20\"/></a></span></span> <a href=\"/wiki/Michel_Der_Zakarian\" title=\"Michel Der Zakarian\">Michel Der Zakarian</a>\n",
      "</td>\n",
      "<td>2017\n",
      "</td>\n",
      "<td><a href=\"/wiki/Stade_de_la_Mosson\" title=\"Stade de la Mosson\">Stade de la Mosson</a>\n",
      "</td>\n",
      "<td>22 000\n",
      "</td>\n",
      "<td>27\n",
      "</td></tr>\n",
      "<tr>\n",
      "<td><a class=\"mw-redirect\" href=\"/wiki/Olympique_Gymnaste_Club_Nice\" title=\"Olympique Gymnaste Club Nice\">OGC Nice</a>\n",
      "</td>\n",
      "<td>2002\n",
      "</td>\n",
      "<td>50\n",
      "</td>\n",
      "<td><span data-sort-value=\"107 !\"></span><abbr class=\"abbr\" title=\"Septième\">7<sup>e</sup></abbr>\n",
      "</td>\n",
      "<td align=\"left\"><span class=\"flagicon\"><span class=\"mw-image-border noviewer\" typeof=\"mw:File\"><a class=\"mw-file-description\" href=\"/wiki/Fichier:Flag_of_France.svg\" title=\"Drapeau : France\"><img alt=\"\" class=\"mw-file-element\" data-file-height=\"600\" data-file-width=\"900\" decoding=\"async\" height=\"13\" src=\"//upload.wikimedia.org/wikipedia/commons/thumb/c/c3/Flag_of_France.svg/20px-Flag_of_France.svg.png\" srcset=\"//upload.wikimedia.org/wikipedia/commons/thumb/c/c3/Flag_of_France.svg/30px-Flag_of_France.svg.png 1.5x, //upload.wikimedia.org/wikipedia/commons/thumb/c/c3/Flag_of_France.svg/40px-Flag_of_France.svg.png 2x\" width=\"20\"/></a></span></span> <a href=\"/wiki/Patrick_Vieira\" title=\"Patrick Vieira\">Patrick Vieira</a>\n",
      "</td>\n",
      "<td>2018\n",
      "</td>\n",
      "<td><a href=\"/wiki/Allianz_Riviera\" title=\"Allianz Riviera\">Allianz Riviera</a>\n",
      "</td>\n",
      "<td>35 596\n",
      "</td>\n",
      "<td>60\n",
      "</td></tr>\n",
      "<tr>\n",
      "<td><a href=\"/wiki/Stade_de_Reims\" title=\"Stade de Reims\">Stade de Reims</a>\n",
      "</td>\n",
      "<td>2018\n",
      "</td>\n",
      "<td>45\n",
      "</td>\n",
      "<td><span data-sort-value=\"108 !\"></span><abbr class=\"abbr\" title=\"Huitième\">8<sup>e</sup></abbr>\n",
      "</td>\n",
      "<td align=\"left\"><span class=\"flagicon\"><span class=\"mw-image-border noviewer\" typeof=\"mw:File\"><a class=\"mw-file-description\" href=\"/wiki/Fichier:Flag_of_France.svg\" title=\"Drapeau : France\"><img alt=\"\" class=\"mw-file-element\" data-file-height=\"600\" data-file-width=\"900\" decoding=\"async\" height=\"13\" src=\"//upload.wikimedia.org/wikipedia/commons/thumb/c/c3/Flag_of_France.svg/20px-Flag_of_France.svg.png\" srcset=\"//upload.wikimedia.org/wikipedia/commons/thumb/c/c3/Flag_of_France.svg/30px-Flag_of_France.svg.png 1.5x, //upload.wikimedia.org/wikipedia/commons/thumb/c/c3/Flag_of_France.svg/40px-Flag_of_France.svg.png 2x\" width=\"20\"/></a></span></span> <a href=\"/wiki/David_Guion\" title=\"David Guion\">David Guion</a>\n",
      "</td>\n",
      "<td>2017\n",
      "</td>\n",
      "<td><a href=\"/wiki/Stade_Auguste-Delaune\" title=\"Stade Auguste-Delaune\">Stade Auguste-Delaune</a>\n",
      "</td>\n",
      "<td>20 546\n",
      "</td>\n",
      "<td>35\n",
      "</td></tr>\n",
      "<tr>\n",
      "<td><a href=\"/wiki/N%C3%AEmes_Olympique\" title=\"Nîmes Olympique\">Nîmes Olympique</a>\n",
      "</td>\n",
      "<td>2018\n",
      "</td>\n",
      "<td>27\n",
      "</td>\n",
      "<td><span data-sort-value=\"109 !\"></span><abbr class=\"abbr\" title=\"Neuvième\">9<sup>e</sup></abbr>\n",
      "</td>\n",
      "<td align=\"left\"><span class=\"flagicon\"><span class=\"mw-image-border noviewer\" typeof=\"mw:File\"><a class=\"mw-file-description\" href=\"/wiki/Fichier:Flag_of_France.svg\" title=\"Drapeau : France\"><img alt=\"\" class=\"mw-file-element\" data-file-height=\"600\" data-file-width=\"900\" decoding=\"async\" height=\"13\" src=\"//upload.wikimedia.org/wikipedia/commons/thumb/c/c3/Flag_of_France.svg/20px-Flag_of_France.svg.png\" srcset=\"//upload.wikimedia.org/wikipedia/commons/thumb/c/c3/Flag_of_France.svg/30px-Flag_of_France.svg.png 1.5x, //upload.wikimedia.org/wikipedia/commons/thumb/c/c3/Flag_of_France.svg/40px-Flag_of_France.svg.png 2x\" width=\"20\"/></a></span></span> <a href=\"/wiki/Bernard_Blaquart\" title=\"Bernard Blaquart\">Bernard Blaquart</a>\n",
      "</td>\n",
      "<td>2015\n",
      "</td>\n",
      "<td><a href=\"/wiki/Stade_des_Costi%C3%A8res\" title=\"Stade des Costières\">Stade des Costières</a>\n",
      "</td>\n",
      "<td>15 788\n",
      "</td>\n",
      "<td>35\n",
      "</td></tr>\n",
      "<tr bgcolor=\"#FFE052\">\n",
      "<td><a class=\"mw-redirect\" href=\"/wiki/Stade_rennais_football_club\" title=\"Stade rennais football club\">Stade rennais FC</a>\n",
      "</td>\n",
      "<td>1994\n",
      "</td>\n",
      "<td>65\n",
      "</td>\n",
      "<td><span data-sort-value=\"110 !\"></span><abbr class=\"abbr\" title=\"Dixième\">10<sup>e</sup></abbr>\n",
      "</td>\n",
      "<td align=\"left\"><span class=\"flagicon\"><span class=\"mw-image-border noviewer\" typeof=\"mw:File\"><a class=\"mw-file-description\" href=\"/wiki/Fichier:Flag_of_France.svg\" title=\"Drapeau : France\"><img alt=\"\" class=\"mw-file-element\" data-file-height=\"600\" data-file-width=\"900\" decoding=\"async\" height=\"13\" src=\"//upload.wikimedia.org/wikipedia/commons/thumb/c/c3/Flag_of_France.svg/20px-Flag_of_France.svg.png\" srcset=\"//upload.wikimedia.org/wikipedia/commons/thumb/c/c3/Flag_of_France.svg/30px-Flag_of_France.svg.png 1.5x, //upload.wikimedia.org/wikipedia/commons/thumb/c/c3/Flag_of_France.svg/40px-Flag_of_France.svg.png 2x\" width=\"20\"/></a></span></span> <a href=\"/wiki/Julien_St%C3%A9phan\" title=\"Julien Stéphan\">Julien Stéphan</a>\n",
      "</td>\n",
      "<td>2018\n",
      "</td>\n",
      "<td><a href=\"/wiki/Roazhon_Park\" title=\"Roazhon Park\">Roazhon Park</a>\n",
      "</td>\n",
      "<td>29 194\n",
      "</td>\n",
      "<td>62\n",
      "</td></tr>\n",
      "<tr bgcolor=\"#FFF052\">\n",
      "<td><a href=\"/wiki/Racing_Club_de_Strasbourg_Alsace\" title=\"Racing Club de Strasbourg Alsace\">RC Strasbourg Alsace</a>\n",
      "</td>\n",
      "<td>2017\n",
      "</td>\n",
      "<td>43\n",
      "</td>\n",
      "<td><span data-sort-value=\"111 !\"></span><abbr class=\"abbr\" title=\"Onzième\">11<sup>e</sup></abbr>\n",
      "</td>\n",
      "<td align=\"left\"><span class=\"flagicon\"><span class=\"mw-image-border noviewer\" typeof=\"mw:File\"><a class=\"mw-file-description\" href=\"/wiki/Fichier:Flag_of_France.svg\" title=\"Drapeau : France\"><img alt=\"\" class=\"mw-file-element\" data-file-height=\"600\" data-file-width=\"900\" decoding=\"async\" height=\"13\" src=\"//upload.wikimedia.org/wikipedia/commons/thumb/c/c3/Flag_of_France.svg/20px-Flag_of_France.svg.png\" srcset=\"//upload.wikimedia.org/wikipedia/commons/thumb/c/c3/Flag_of_France.svg/30px-Flag_of_France.svg.png 1.5x, //upload.wikimedia.org/wikipedia/commons/thumb/c/c3/Flag_of_France.svg/40px-Flag_of_France.svg.png 2x\" width=\"20\"/></a></span></span> <a href=\"/wiki/Thierry_Laurey\" title=\"Thierry Laurey\">Thierry Laurey</a>\n",
      "</td>\n",
      "<td>2016\n",
      "</td>\n",
      "<td><a href=\"/wiki/Stade_de_la_Meinau\" title=\"Stade de la Meinau\">Stade de la Meinau</a>\n",
      "</td>\n",
      "<td>26 109\n",
      "</td>\n",
      "<td>58\n",
      "</td></tr>\n",
      "<tr>\n",
      "<td><a href=\"/wiki/Football_Club_de_Nantes\" title=\"Football Club de Nantes\">FC Nantes</a>\n",
      "</td>\n",
      "<td>2013\n",
      "</td>\n",
      "<td>70\n",
      "</td>\n",
      "<td><span data-sort-value=\"112 !\"></span><abbr class=\"abbr\" title=\"Douzième\">12<sup>e</sup></abbr>\n",
      "</td>\n",
      "<td align=\"left\"><span class=\"flagicon\"><span class=\"mw-image-border noviewer\" typeof=\"mw:File\"><a class=\"mw-file-description\" href=\"/wiki/Fichier:Flag_of_France.svg\" title=\"Drapeau : France\"><img alt=\"\" class=\"mw-file-element\" data-file-height=\"600\" data-file-width=\"900\" decoding=\"async\" height=\"13\" src=\"//upload.wikimedia.org/wikipedia/commons/thumb/c/c3/Flag_of_France.svg/20px-Flag_of_France.svg.png\" srcset=\"//upload.wikimedia.org/wikipedia/commons/thumb/c/c3/Flag_of_France.svg/30px-Flag_of_France.svg.png 1.5x, //upload.wikimedia.org/wikipedia/commons/thumb/c/c3/Flag_of_France.svg/40px-Flag_of_France.svg.png 2x\" width=\"20\"/></a></span></span> <a href=\"/wiki/Christian_Gourcuff\" title=\"Christian Gourcuff\">Christian Gourcuff</a>\n",
      "</td>\n",
      "<td>2019\n",
      "</td>\n",
      "<td><a href=\"/wiki/Stade_de_la_Beaujoire\" title=\"Stade de la Beaujoire\">Stade de la Beaujoire - Louis Fonteneau</a>\n",
      "</td>\n",
      "<td>35 322\n",
      "</td>\n",
      "<td>51\n",
      "</td></tr>\n",
      "<tr>\n",
      "<td><a class=\"mw-redirect\" href=\"/wiki/Angers_sporting_club_de_l%27Ouest\" title=\"Angers sporting club de l'Ouest\">SCO d’Angers</a>\n",
      "</td>\n",
      "<td>2015\n",
      "</td>\n",
      "<td>32\n",
      "</td>\n",
      "<td><span data-sort-value=\"113 !\"></span><abbr class=\"abbr\" title=\"Treizième\">13<sup>e</sup></abbr>\n",
      "</td>\n",
      "<td align=\"left\"><span class=\"flagicon\"><span class=\"mw-image-border noviewer\" typeof=\"mw:File\"><a class=\"mw-file-description\" href=\"/wiki/Fichier:Flag_of_France.svg\" title=\"Drapeau : France\"><img alt=\"\" class=\"mw-file-element\" data-file-height=\"600\" data-file-width=\"900\" decoding=\"async\" height=\"13\" src=\"//upload.wikimedia.org/wikipedia/commons/thumb/c/c3/Flag_of_France.svg/20px-Flag_of_France.svg.png\" srcset=\"//upload.wikimedia.org/wikipedia/commons/thumb/c/c3/Flag_of_France.svg/30px-Flag_of_France.svg.png 1.5x, //upload.wikimedia.org/wikipedia/commons/thumb/c/c3/Flag_of_France.svg/40px-Flag_of_France.svg.png 2x\" width=\"20\"/></a></span></span> <a href=\"/wiki/St%C3%A9phane_Moulin_(football)\" title=\"Stéphane Moulin (football)\">Stéphane Moulin</a>\n",
      "</td>\n",
      "<td>2011\n",
      "</td>\n",
      "<td><a href=\"/wiki/Stade_Raymond-Kopa\" title=\"Stade Raymond-Kopa\">Stade Raymond-Kopa</a>\n",
      "</td>\n",
      "<td>14 582\n",
      "</td>\n",
      "<td>27\n",
      "</td></tr>\n",
      "<tr>\n",
      "<td><a href=\"/wiki/Football_Club_des_Girondins_de_Bordeaux\" title=\"Football Club des Girondins de Bordeaux\">Girondins de Bordeaux</a>\n",
      "</td>\n",
      "<td>1992\n",
      "</td>\n",
      "<td>70\n",
      "</td>\n",
      "<td><span data-sort-value=\"114 !\"></span><abbr class=\"abbr\" title=\"Quatorzième\">14<sup>e</sup></abbr>\n",
      "</td>\n",
      "<td align=\"left\"><span class=\"flagicon\"><span class=\"mw-image-border noviewer\" typeof=\"mw:File\"><a class=\"mw-file-description\" href=\"/wiki/Fichier:Flag_of_Portugal.svg\" title=\"Drapeau : Portugal\"><img alt=\"\" class=\"mw-file-element\" data-file-height=\"400\" data-file-width=\"600\" decoding=\"async\" height=\"13\" src=\"//upload.wikimedia.org/wikipedia/commons/thumb/5/5c/Flag_of_Portugal.svg/20px-Flag_of_Portugal.svg.png\" srcset=\"//upload.wikimedia.org/wikipedia/commons/thumb/5/5c/Flag_of_Portugal.svg/30px-Flag_of_Portugal.svg.png 1.5x, //upload.wikimedia.org/wikipedia/commons/thumb/5/5c/Flag_of_Portugal.svg/40px-Flag_of_Portugal.svg.png 2x\" width=\"20\"/></a></span></span> <a href=\"/wiki/Paulo_Sousa_(football,_1970)\" title=\"Paulo Sousa (football, 1970)\">Paulo Sousa</a>\n",
      "</td>\n",
      "<td>2019\n",
      "</td>\n",
      "<td><a href=\"/wiki/Matmut_Atlantique\" title=\"Matmut Atlantique\">Matmut Atlantique</a>\n",
      "</td>\n",
      "<td>42 115\n",
      "</td>\n",
      "<td>66\n",
      "</td></tr>\n",
      "<tr>\n",
      "<td><a href=\"/wiki/Amiens_Sporting_Club\" title=\"Amiens Sporting Club\">Amiens SC</a>\n",
      "</td>\n",
      "<td>2017\n",
      "</td>\n",
      "<td>30\n",
      "</td>\n",
      "<td><span data-sort-value=\"115 !\"></span><abbr class=\"abbr\" title=\"Quinzième\">15<sup>e</sup></abbr>\n",
      "</td>\n",
      "<td align=\"left\"><span class=\"flagicon\"><span class=\"mw-image-border noviewer\" typeof=\"mw:File\"><a class=\"mw-file-description\" href=\"/wiki/Fichier:Flag_of_Slovenia.svg\" title=\"Drapeau : Slovénie\"><img alt=\"\" class=\"mw-file-element\" data-file-height=\"600\" data-file-width=\"1200\" decoding=\"async\" height=\"10\" src=\"//upload.wikimedia.org/wikipedia/commons/thumb/f/f0/Flag_of_Slovenia.svg/20px-Flag_of_Slovenia.svg.png\" srcset=\"//upload.wikimedia.org/wikipedia/commons/thumb/f/f0/Flag_of_Slovenia.svg/30px-Flag_of_Slovenia.svg.png 1.5x, //upload.wikimedia.org/wikipedia/commons/thumb/f/f0/Flag_of_Slovenia.svg/40px-Flag_of_Slovenia.svg.png 2x\" width=\"20\"/></a></span></span> <a href=\"/wiki/Luka_Elsner\" title=\"Luka Elsner\">Luka Elsner</a>\n",
      "</td>\n",
      "<td>2019\n",
      "</td>\n",
      "<td><a href=\"/wiki/Stade_de_la_Licorne\" title=\"Stade de la Licorne\">Stade Crédit Agricole la Licorne</a>\n",
      "</td>\n",
      "<td>12 999\n",
      "</td>\n",
      "<td>2\n",
      "</td></tr>\n",
      "<tr>\n",
      "<td><a href=\"/wiki/Toulouse_Football_Club\" title=\"Toulouse Football Club\">Toulouse FC</a>\n",
      "</td>\n",
      "<td>2003\n",
      "</td>\n",
      "<td>35\n",
      "</td>\n",
      "<td><span data-sort-value=\"116 !\"></span><abbr class=\"abbr\" title=\"Seizième\">16<sup>e</sup></abbr>\n",
      "</td>\n",
      "<td align=\"left\"><span class=\"flagicon\"><span class=\"mw-image-border noviewer\" typeof=\"mw:File\"><a class=\"mw-file-description\" href=\"/wiki/Fichier:Flag_of_France.svg\" title=\"Drapeau : France\"><img alt=\"\" class=\"mw-file-element\" data-file-height=\"600\" data-file-width=\"900\" decoding=\"async\" height=\"13\" src=\"//upload.wikimedia.org/wikipedia/commons/thumb/c/c3/Flag_of_France.svg/20px-Flag_of_France.svg.png\" srcset=\"//upload.wikimedia.org/wikipedia/commons/thumb/c/c3/Flag_of_France.svg/30px-Flag_of_France.svg.png 1.5x, //upload.wikimedia.org/wikipedia/commons/thumb/c/c3/Flag_of_France.svg/40px-Flag_of_France.svg.png 2x\" width=\"20\"/></a></span></span> <a href=\"/wiki/Denis_Zanko\" title=\"Denis Zanko\">Denis Zanko</a>\n",
      "</td>\n",
      "<td>2020\n",
      "</td>\n",
      "<td><a href=\"/wiki/Stadium_de_Toulouse\" title=\"Stadium de Toulouse\">Stadium de Toulouse</a>\n",
      "</td>\n",
      "<td>33 033\n",
      "</td>\n",
      "<td>32\n",
      "</td></tr>\n",
      "<tr>\n",
      "<td><a class=\"mw-redirect\" href=\"/wiki/Association_sportive_de_Monaco_football_club\" title=\"Association sportive de Monaco football club\">AS Monaco</a>\n",
      "</td>\n",
      "<td>2013\n",
      "</td>\n",
      "<td>220\n",
      "</td>\n",
      "<td><span data-sort-value=\"117 !\"></span><abbr class=\"abbr\" title=\"Dix-septième\">17<sup>e</sup></abbr>\n",
      "</td>\n",
      "<td align=\"left\"><span class=\"flagicon\"><span class=\"mw-image-border noviewer\" typeof=\"mw:File\"><a class=\"mw-file-description\" href=\"/wiki/Fichier:Flag_of_Spain.svg\" title=\"Drapeau : Espagne\"><img alt=\"\" class=\"mw-file-element\" data-file-height=\"500\" data-file-width=\"750\" decoding=\"async\" height=\"13\" src=\"//upload.wikimedia.org/wikipedia/commons/thumb/9/9a/Flag_of_Spain.svg/20px-Flag_of_Spain.svg.png\" srcset=\"//upload.wikimedia.org/wikipedia/commons/thumb/9/9a/Flag_of_Spain.svg/30px-Flag_of_Spain.svg.png 1.5x, //upload.wikimedia.org/wikipedia/commons/thumb/9/9a/Flag_of_Spain.svg/40px-Flag_of_Spain.svg.png 2x\" width=\"20\"/></a></span></span> <a href=\"/wiki/Robert_Moreno\" title=\"Robert Moreno\">Robert Moreno</a>\n",
      "</td>\n",
      "<td>2019\n",
      "</td>\n",
      "<td><a href=\"/wiki/Stade_Louis-II\" title=\"Stade Louis-II\">Stade Louis-II</a>\n",
      "</td>\n",
      "<td>16 500\n",
      "</td>\n",
      "<td>60\n",
      "</td></tr>\n",
      "<tr>\n",
      "<td><a href=\"/wiki/Dijon_Football_C%C3%B4te-d%27Or\" title=\"Dijon Football Côte-d'Or\">Dijon FCO</a>\n",
      "</td>\n",
      "<td>2016\n",
      "</td>\n",
      "<td>38\n",
      "</td>\n",
      "<td><span data-sort-value=\"118 !\"></span><abbr class=\"abbr\" title=\"Dix-huitième\">18<sup>e</sup></abbr>\n",
      "</td>\n",
      "<td align=\"left\"><span class=\"flagicon\"><span class=\"mw-image-border noviewer\" typeof=\"mw:File\"><a class=\"mw-file-description\" href=\"/wiki/Fichier:Flag_of_France.svg\" title=\"Drapeau : France\"><img alt=\"\" class=\"mw-file-element\" data-file-height=\"600\" data-file-width=\"900\" decoding=\"async\" height=\"13\" src=\"//upload.wikimedia.org/wikipedia/commons/thumb/c/c3/Flag_of_France.svg/20px-Flag_of_France.svg.png\" srcset=\"//upload.wikimedia.org/wikipedia/commons/thumb/c/c3/Flag_of_France.svg/30px-Flag_of_France.svg.png 1.5x, //upload.wikimedia.org/wikipedia/commons/thumb/c/c3/Flag_of_France.svg/40px-Flag_of_France.svg.png 2x\" width=\"20\"/></a></span></span> <a href=\"/wiki/St%C3%A9phane_Jobard\" title=\"Stéphane Jobard\">Stéphane Jobard</a>\n",
      "</td>\n",
      "<td>2019\n",
      "</td>\n",
      "<td><a href=\"/wiki/Stade_Gaston-G%C3%A9rard\" title=\"Stade Gaston-Gérard\">Parc des Sports Gaston-Gérard</a>\n",
      "</td>\n",
      "<td>15 459\n",
      "</td>\n",
      "<td>4\n",
      "</td></tr>\n",
      "<tr bgcolor=\"#a8fca8\">\n",
      "<td><a href=\"/wiki/Football_Club_de_Metz\" title=\"Football Club de Metz\">FC Metz</a>\n",
      "</td>\n",
      "<td>2019\n",
      "</td>\n",
      "<td>40\n",
      "</td>\n",
      "<td><span data-sort-value=\"201 !\"></span><abbr class=\"abbr\" title=\"Premier\">1<sup>er</sup></abbr> (<a class=\"mw-redirect\" href=\"/wiki/Championnat_de_France_de_football_de_Ligue_2_2018-2019\" title=\"Championnat de France de football de Ligue 2 2018-2019\">Ligue 2</a>)\n",
      "</td>\n",
      "<td align=\"left\"><span class=\"flagicon\"><span class=\"mw-image-border noviewer\" typeof=\"mw:File\"><a class=\"mw-file-description\" href=\"/wiki/Fichier:Flag_of_France.svg\" title=\"Drapeau : France\"><img alt=\"\" class=\"mw-file-element\" data-file-height=\"600\" data-file-width=\"900\" decoding=\"async\" height=\"13\" src=\"//upload.wikimedia.org/wikipedia/commons/thumb/c/c3/Flag_of_France.svg/20px-Flag_of_France.svg.png\" srcset=\"//upload.wikimedia.org/wikipedia/commons/thumb/c/c3/Flag_of_France.svg/30px-Flag_of_France.svg.png 1.5x, //upload.wikimedia.org/wikipedia/commons/thumb/c/c3/Flag_of_France.svg/40px-Flag_of_France.svg.png 2x\" width=\"20\"/></a></span></span> <a href=\"/wiki/Vincent_Hognon\" title=\"Vincent Hognon\">Vincent Hognon</a>\n",
      "</td>\n",
      "<td>2019\n",
      "</td>\n",
      "<td><a href=\"/wiki/Stade_Saint-Symphorien\" title=\"Stade Saint-Symphorien\">Stade Saint-Symphorien</a>\n",
      "</td>\n",
      "<td>25 865\n",
      "</td>\n",
      "<td>61\n",
      "</td></tr>\n",
      "<tr bgcolor=\"#a8fca8\">\n",
      "<td><a href=\"/wiki/Stade_brestois_29\" title=\"Stade brestois 29\">Stade brestois 29</a>\n",
      "</td>\n",
      "<td>2019\n",
      "</td>\n",
      "<td>30\n",
      "</td>\n",
      "<td><span data-sort-value=\"202 !\"></span><abbr class=\"abbr\" title=\"Deuxième\">2<sup>e</sup></abbr> (<a class=\"mw-redirect\" href=\"/wiki/Championnat_de_France_de_football_de_Ligue_2_2018-2019\" title=\"Championnat de France de football de Ligue 2 2018-2019\">Ligue 2</a>)\n",
      "</td>\n",
      "<td align=\"left\"><span class=\"flagicon\"><span class=\"mw-image-border noviewer\" typeof=\"mw:File\"><a class=\"mw-file-description\" href=\"/wiki/Fichier:Flag_of_France.svg\" title=\"Drapeau : France\"><img alt=\"\" class=\"mw-file-element\" data-file-height=\"600\" data-file-width=\"900\" decoding=\"async\" height=\"13\" src=\"//upload.wikimedia.org/wikipedia/commons/thumb/c/c3/Flag_of_France.svg/20px-Flag_of_France.svg.png\" srcset=\"//upload.wikimedia.org/wikipedia/commons/thumb/c/c3/Flag_of_France.svg/30px-Flag_of_France.svg.png 1.5x, //upload.wikimedia.org/wikipedia/commons/thumb/c/c3/Flag_of_France.svg/40px-Flag_of_France.svg.png 2x\" width=\"20\"/></a></span></span> <a href=\"/wiki/Olivier_Dall%27Oglio\" title=\"Olivier Dall'Oglio\">Olivier Dall'Oglio</a>\n",
      "</td>\n",
      "<td>2019\n",
      "</td>\n",
      "<td><a href=\"/wiki/Stade_Francis-Le_Bl%C3%A9\" title=\"Stade Francis-Le Blé\">Stade Francis-Le Blé</a>\n",
      "</td>\n",
      "<td>14 920\n",
      "</td>\n",
      "<td>13\n",
      "</td></tr></tbody>\n"
     ]
    }
   ],
   "source": [
    "import requests\n",
    "from bs4 import BeautifulSoup\n",
    "\n",
    "url_ligue_1 = \"https://fr.wikipedia.org/wiki/Championnat_de_France_de_football_2019-2020\"\n",
    "\n",
    "# Requête et son contenu\n",
    "response = requests.get(url_ligue_1)\n",
    "content = response.content\n",
    "\n",
    "# On parse le html\n",
    "page = BeautifulSoup(content, 'html')\n",
    "\n",
    "# On trouve le tableau\n",
    "tableau_participants = page.find(\n",
    "    'table', \n",
    "    class_=['wikitable', 'sortable'] # ou directement 'wikitable sortable'\n",
    ")\n",
    "\n",
    "# Dans le tableau, on trouve le fuls tbody\n",
    "table_body = tableau_participants.find('tbody')\n",
    "\n",
    "print(table_body)"
   ]
  },
  {
   "cell_type": "markdown",
   "metadata": {},
   "source": [
    "#### 2) Récupérer chaque ligne du table\n"
   ]
  },
  {
   "cell_type": "code",
   "execution_count": 2,
   "metadata": {
    "lines_to_next_cell": 2
   },
   "outputs": [],
   "source": [
    "# on recherche toutes les lignes du tableau avec la balise \"tr\"\n",
    "rows = table_body.find_all('tr')"
   ]
  },
  {
   "cell_type": "code",
   "execution_count": 3,
   "metadata": {},
   "outputs": [],
   "source": [
    "# Example : \n",
    "row = rows[12]\n",
    "row = row.text.split(\"\\n\")\n",
    "row = [x for x in row if x != \"\"]"
   ]
  },
  {
   "cell_type": "code",
   "execution_count": 4,
   "metadata": {},
   "outputs": [],
   "source": [
    "# On reproduit cette logique sur toutes les lignes\n",
    "rows_cleaned = []\n",
    "for row in rows:\n",
    "    row_cleaned = row.text.split(\"\\n\")\n",
    "    row_cleaned = [x for x in row_cleaned if x != \"\"]\n",
    "    rows_cleaned.append(row_cleaned)\n",
    "    \n",
    "rows_cleaned = [[x for x in row.text.split(\"\\n\") if x != \"\"] for row in rows] "
   ]
  },
  {
   "cell_type": "code",
   "execution_count": 5,
   "metadata": {},
   "outputs": [
    {
     "data": {
      "text/plain": [
       "['FC Nantes',\n",
       " '2013',\n",
       " '70',\n",
       " '12e',\n",
       " ' Christian Gourcuff',\n",
       " '2019',\n",
       " 'Stade de la Beaujoire - Louis Fonteneau',\n",
       " '35\\xa0322',\n",
       " '51']"
      ]
     },
     "execution_count": 5,
     "metadata": {},
     "output_type": "execute_result"
    }
   ],
   "source": [
    "# Example\n",
    "row = rows[12]\n",
    "values = row.find_all(\"td\")\n",
    "values = [tag.text.strip(\"\\n\") for tag in values]\n",
    "values"
   ]
  },
  {
   "cell_type": "code",
   "execution_count": 6,
   "metadata": {},
   "outputs": [],
   "source": [
    "# On reproduit cette logique sur toutes les lignes\n",
    "l_values = []\n",
    "\n",
    "# On récupère les entêtes avec th\n",
    "values = rows[0].find_all(\"th\")\n",
    "values = [tag.text.strip(\"\\n\") for tag in values]\n",
    "l_values.append(values)\n",
    "\n",
    "for row in rows:\n",
    "    # On récupère les valeurs dans les cellules\n",
    "    values = row.find_all(\"td\")\n",
    "    values = [tag.text.strip(\"\\n\") for tag in values]\n",
    "    l_values.append(values)"
   ]
  },
  {
   "cell_type": "code",
   "execution_count": 20,
   "metadata": {},
   "outputs": [],
   "source": [
    "# l_values"
   ]
  },
  {
   "cell_type": "markdown",
   "metadata": {},
   "source": [
    "## Exercice 2\n",
    "- A partir de la suivante : [pokedex](https://pokemondb.net/pokedex/national), l'objectif est de constituer la liste de tous les pokemons\n",
    " - 1. Dans un premier temps, on voudrait la liste avec nom, numéro et types pour chaque pokémon\n",
    " - 2. Ensuite, on souhaiterait aussi garder l'url pour chaque pokemon (par exemple en utilisant l'attribut ``href``) pour pouvoir ensuite faire une requête ``GET``sur cette page (par exemple : https://pokemondb.net/pokedex/venusaur) et récupérer les données de taille et de poids"
   ]
  },
  {
   "cell_type": "code",
   "execution_count": 46,
   "metadata": {},
   "outputs": [
    {
     "name": "stdout",
     "output_type": "stream",
     "text": [
      "https://pokemondb.net/pokedex/bulbasaur\n",
      "['0.7\\xa0m (2′04″)', '6.9\\xa0kg (15.2\\xa0lbs)']\n",
      "https://pokemondb.net/pokedex/ivysaur\n",
      "['1.0\\xa0m (3′03″)', '13.0\\xa0kg (28.7\\xa0lbs)']\n"
     ]
    }
   ],
   "source": [
    "## Question 1 \n",
    "\n",
    "import requests\n",
    "from bs4 import BeautifulSoup\n",
    "import os\n",
    "\n",
    "\n",
    "url = \"https://pokemondb.net/pokedex/national\"\n",
    "\n",
    "# Requête\n",
    "response = requests.get(url)\n",
    "content = response.content\n",
    "page = BeautifulSoup(content, 'html.parser')\n",
    "# Division infocard pour chaque pokemon\n",
    "info_cards = page.find_all(\"div\", class_=\"infocard\")\n",
    "\n",
    "l_pokemons = []\n",
    "for info_card in info_cards[:15]:\n",
    "   \n",
    "    # On filtre sur la classe et on prend l'attribut text\n",
    "    name_tag = info_card.find('a', class_=\"ent-name\")\n",
    "    name = name_tag.text\n",
    "    number = info_card.find('small').text[1:]\n",
    "    \n",
    "    url = \"https://pokemondb.net/pokedex/\" + name_tag.get(\"href\").split(\"/\")[2]\n",
    "    \n",
    "    # On peut le trouver ainsi\n",
    "    types = info_card.find_all(\"small\")[1]\n",
    "    #print(types)\n",
    "    \n",
    "    # On peut aussi utiliser\n",
    "    types  = info_card.find('small').find_next(\"small\")#.text\n",
    "    #print(types)\n",
    "    types = [t.strip() for t in types.text.split(\" · \")]\n",
    "    \n",
    "    d = {\"name\":name, \"number\":number, \"types\":types, \"url\": url}\n",
    "   \n",
    "    l_pokemons.append(d)\n",
    "## Question 1 (partielle, il n'y a pas les types)\n",
    "\n",
    "\n",
    "for pokemon in l_pokemons[:2]:\n",
    "    url = pokemon[\"url\"]\n",
    "    print(url)\n",
    "    \n",
    "    # Requête\n",
    "    response = requests.get(url)\n",
    "    content = response.content\n",
    "    page = BeautifulSoup(content, 'html.parser')\n",
    "    \n",
    "    # On récupère les nom des variables (en-têtes mais à gauche dans cette table)\n",
    "    ths = page.find(\"table\", class_=\"vitals-table\").find_all(\"th\")\n",
    "    \n",
    "    #for th in ths:\n",
    "    #    if th.text in [\"Height\", \"Weight\"]:\n",
    "    #        print(th.find_next())\n",
    "    \n",
    "    # On utilise find_next après avoir trouvé l'entête\n",
    "    # In this order\n",
    "    data = [th.find_next().text for th in ths if th.text in [\"Height\", \"Weight\"]]\n",
    "    print(data)\n",
    "    \n",
    "    height = data[0].split(\"(\")[0].replace(\"\\xa0\", \" \").strip()\n",
    "    weight = data[1].split(\"(\")[0].replace(\"\\xa0\", \" \").strip()\n",
    "\n",
    "    pokemon[\"height\"] = height\n",
    "    pokemon[\"weight\"] = weight"
   ]
  },
  {
   "cell_type": "code",
   "execution_count": 48,
   "metadata": {},
   "outputs": [],
   "source": [
    "# page.find(\"table\", class_=\"vitals-table\")"
   ]
  },
  {
   "cell_type": "code",
   "execution_count": 49,
   "metadata": {},
   "outputs": [],
   "source": [
    "# pokemon"
   ]
  },
  {
   "cell_type": "code",
   "execution_count": 50,
   "metadata": {},
   "outputs": [],
   "source": [
    "# data"
   ]
  },
  {
   "cell_type": "code",
   "execution_count": null,
   "metadata": {},
   "outputs": [],
   "source": []
  }
 ],
 "metadata": {
  "kernelspec": {
   "display_name": "Python 3 (ipykernel)",
   "language": "python",
   "name": "python3"
  },
  "language_info": {
   "codemirror_mode": {
    "name": "ipython",
    "version": 3
   },
   "file_extension": ".py",
   "mimetype": "text/x-python",
   "name": "python",
   "nbconvert_exporter": "python",
   "pygments_lexer": "ipython3",
   "version": "3.9.7"
  }
 },
 "nbformat": 4,
 "nbformat_minor": 4
}

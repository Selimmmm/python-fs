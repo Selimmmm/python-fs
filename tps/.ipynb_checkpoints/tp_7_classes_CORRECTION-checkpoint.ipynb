{
 "cells": [
  {
   "cell_type": "markdown",
   "metadata": {},
   "source": [
    "# **Python**\n",
    "# **TP 7 - Les classes en Python**\n",
    "\n",
    "\n",
    "***\n",
    "\n",
    "[**Notions et exercices**](#notions)\n",
    "\n",
    "0. [Introduction](#0)\n",
    "1. [La méthode ``.__init__()``](#1)\n",
    "2. [Définir une méthode](#2)\n",
    "3. [Initialiser avec des arguments](#3)\n",
    "4. [Définir une méthode avec un argument](#4)\n",
    "5. [Exercices](#5)\n",
    "6. [Programmation orientée objet](#6)\n",
    "7. [Héritage de classe](#7)\n",
    "8. [Exercices](#8)\n",
    "\n",
    "***\n",
    "\n",
    "\n",
    "[![Open In Colab](https://colab.research.google.com/assets/colab-badge.svg)](https://colab.research.google.com/github/Selimmmm/hetic_m1_csb_public/blob/master/tp_7_classes.ipynb)\n"
   ]
  },
  {
   "cell_type": "markdown",
   "metadata": {},
   "source": [
    "## 0. Introduction"
   ]
  },
  {
   "cell_type": "markdown",
   "metadata": {},
   "source": [
    "- En Python, tous les objets vus jusqu'ici ont un type :"
   ]
  },
  {
   "cell_type": "code",
   "execution_count": 10,
   "metadata": {},
   "outputs": [
    {
     "name": "stdout",
     "output_type": "stream",
     "text": [
      "1 est de type <class 'int'>\n",
      "1.5 est de type <class 'float'>\n",
      "[] est de type <class 'list'>\n",
      "{} est de type <class 'dict'>\n"
     ]
    }
   ],
   "source": [
    "n = 1 # entier\n",
    "f = 1.5 # réel\n",
    "l = []\n",
    "d = {}\n",
    "\n",
    "for value in [n, f, l , d]:\n",
    "    print(f\"{value} est de type {type(value)}\")"
   ]
  },
  {
   "cell_type": "markdown",
   "metadata": {},
   "source": [
    "- Le mot ``class`` est un autre mot pour désigner les types en Python. On peut soi-même définir ses propres types, que l'on appellera classe.\n",
    "- On pourra ainsi définir ses propres types et choisir leurs : \n",
    "    - attributs (ceux sont des informations)\n",
    "    - méthodes (ceux sont des fonctions liée à cette classe)"
   ]
  },
  {
   "cell_type": "code",
   "execution_count": 11,
   "metadata": {},
   "outputs": [
    {
     "name": "stdout",
     "output_type": "stream",
     "text": [
      "[5, 6]\n"
     ]
    },
    {
     "data": {
      "text/plain": [
       "dict_keys(['a'])"
      ]
     },
     "execution_count": 11,
     "metadata": {},
     "output_type": "execute_result"
    }
   ],
   "source": [
    "# un exemple de méthode\n",
    "l = []\n",
    "l.append(5) ## .append() pour la méthode liste\n",
    "l.append(6)\n",
    "l.sort()\n",
    "print(l)\n",
    "\n",
    "# un exemple de méthode\n",
    "d = {\"a\":1}\n",
    "d.keys() ## un exemple de méthode pour les dictionnaires"
   ]
  },
  {
   "cell_type": "markdown",
   "metadata": {},
   "source": [
    "<a id=\"1\"></a>\n",
    "## 1. La méthode ``.__init__()``"
   ]
  },
  {
   "cell_type": "code",
   "execution_count": 12,
   "metadata": {},
   "outputs": [],
   "source": [
    "# voiture_de_sport # snakecase\n",
    "# VoitureDeSport # camelcase"
   ]
  },
  {
   "cell_type": "code",
   "execution_count": 1,
   "metadata": {
    "collapsed": false,
    "jupyter": {
     "outputs_hidden": false
    }
   },
   "outputs": [],
   "source": [
    "class Voiture:\n",
    "    def __init__(self):\n",
    "        self.x = 0 # attribut x\n",
    "        self.y = 0 # attribut y\n",
    "        self.couleur = \"rouge\" # couleur"
   ]
  },
  {
   "cell_type": "code",
   "execution_count": 4,
   "metadata": {},
   "outputs": [
    {
     "data": {
      "text/plain": [
       "[1, 2, 3]"
      ]
     },
     "execution_count": 4,
     "metadata": {},
     "output_type": "execute_result"
    }
   ],
   "source": [
    "list((1, 2, 3))"
   ]
  },
  {
   "cell_type": "code",
   "execution_count": 2,
   "metadata": {},
   "outputs": [],
   "source": [
    "voiture = Voiture()  # pas d'autres arguments que self dans le __init__ \n",
    "                     # donc rien de plus à l'initialisation"
   ]
  },
  {
   "cell_type": "markdown",
   "metadata": {},
   "source": [
    "- Cette méthode permet de définir les valeurs des attributs (ici x et y)\n",
    "- ``self`` est une syntaxe qui permet d'avoir accès à notre objet n'importe où dans notre classe - qui désigne la voiture dans ce cas\n",
    "- ``x`` et ``y`` sont des attributs de le classe ``Voiture``"
   ]
  },
  {
   "cell_type": "markdown",
   "metadata": {},
   "source": [
    "- Ici, on instancie la classe : on crée une variable ``voiture``qui est une instance de la classe ``Voiture``"
   ]
  },
  {
   "cell_type": "code",
   "execution_count": 14,
   "metadata": {},
   "outputs": [
    {
     "name": "stdout",
     "output_type": "stream",
     "text": [
      "140314909497792 140314909497792\n",
      "140314899931920 140314883418576\n"
     ]
    }
   ],
   "source": [
    "# Ids pour distinguer des objets\n",
    "l = []\n",
    "l1 = l\n",
    "print(id(l), id(l1)) # les mêmes car mêmes objets\n",
    "\n",
    "# Identifiants mémoire de voiture (l'instance) et de Voiture (classe)\n",
    "print(id(voiture), id(Voiture))"
   ]
  },
  {
   "cell_type": "code",
   "execution_count": 15,
   "metadata": {},
   "outputs": [
    {
     "name": "stdout",
     "output_type": "stream",
     "text": [
      "position x : 0 position y : 0 couleur :  rouge\n"
     ]
    }
   ],
   "source": [
    "voiture = Voiture()\n",
    "position_x = voiture.x\n",
    "position_y = voiture.y\n",
    "print(\"position x :\", position_x, \"position y :\", position_y, \"couleur : \", voiture.couleur)"
   ]
  },
  {
   "cell_type": "code",
   "execution_count": 16,
   "metadata": {},
   "outputs": [
    {
     "name": "stdout",
     "output_type": "stream",
     "text": [
      "140314897087840\n",
      "140314897088128\n"
     ]
    },
    {
     "data": {
      "text/plain": [
       "(None, None)"
      ]
     },
     "execution_count": 16,
     "metadata": {},
     "output_type": "execute_result"
    }
   ],
   "source": [
    "voiture_1 = Voiture()\n",
    "voiture_2 = Voiture()\n",
    "print(id(voiture_1)), print(id(voiture_2))"
   ]
  },
  {
   "cell_type": "code",
   "execution_count": 17,
   "metadata": {},
   "outputs": [
    {
     "name": "stdout",
     "output_type": "stream",
     "text": [
      "<p>My first paragraph.</p>\n",
      "<class 'bs4.element.Tag'>\n",
      "My first paragraph.\n"
     ]
    }
   ],
   "source": [
    "from bs4 import BeautifulSoup\n",
    "\n",
    "html = \"\"\"<!DOCTYPE html>\n",
    "<html>\n",
    "<body>\n",
    "<p>My first paragraph.</p>\n",
    "</body>\n",
    "</html>\"\"\"\n",
    "\n",
    "soup = BeautifulSoup(html)\n",
    "\n",
    "p = soup.find(\"p\") # méthode .find\n",
    "print(p)\n",
    "print(type(p))\n",
    "print(p.text) # attribut texte"
   ]
  },
  {
   "cell_type": "markdown",
   "metadata": {},
   "source": [
    "<a id=\"2\"></a>\n",
    "## 2. Définir une méthode\n",
    "- Notre classe voiture possède deux informations mais ne peut rien faire d'autre. Nous allons ici définir une première méthode"
   ]
  },
  {
   "cell_type": "code",
   "execution_count": 21,
   "metadata": {
    "collapsed": false,
    "jupyter": {
     "outputs_hidden": false
    }
   },
   "outputs": [],
   "source": [
    "class Voiture:\n",
    "    def __init__(self):\n",
    "        self.x = 0\n",
    "        self.y = 0\n",
    "        self.say_hello_to_driver()\n",
    "        \n",
    "    def avancer_sur_y(self):\n",
    "        self.y += 1 # pareil self.y = self.y + 1\n",
    "        \n",
    "    def say_hello_to_driver(self):\n",
    "        print(\"Have a nice ride.\")"
   ]
  },
  {
   "cell_type": "markdown",
   "metadata": {},
   "source": [
    "- Regardons ce que devient l'attribut ``y``"
   ]
  },
  {
   "cell_type": "code",
   "execution_count": 22,
   "metadata": {},
   "outputs": [
    {
     "name": "stdout",
     "output_type": "stream",
     "text": [
      "Have a nice ride.\n",
      "position x : 0 position y : 0\n",
      "position x : 0 position y : 1\n"
     ]
    }
   ],
   "source": [
    "voiture = Voiture()\n",
    "position_x = voiture.x\n",
    "position_y = voiture.y\n",
    "print(\"position x :\", position_x, \"position y :\", position_y)\n",
    "\n",
    "# On avance\n",
    "voiture.avancer_sur_y()\n",
    "position_y_new = voiture.y\n",
    "print(\"position x :\", position_x, \"position y :\", position_y_new)"
   ]
  },
  {
   "cell_type": "markdown",
   "metadata": {},
   "source": [
    "- Définissons une flotte de voiture (``list`` de ``Voiture``) :"
   ]
  },
  {
   "cell_type": "code",
   "execution_count": 23,
   "metadata": {},
   "outputs": [
    {
     "name": "stdout",
     "output_type": "stream",
     "text": [
      "Have a nice ride.\n",
      "Have a nice ride.\n",
      "Have a nice ride.\n",
      "Have a nice ride.\n",
      "Have a nice ride.\n",
      "Have a nice ride.\n",
      "Have a nice ride.\n",
      "Have a nice ride.\n",
      "Have a nice ride.\n",
      "Have a nice ride.\n"
     ]
    }
   ],
   "source": [
    "flotte = [Voiture() for _ in range(10)] # _ pour la variable d'itération, car on ne s'en sert pas"
   ]
  },
  {
   "cell_type": "markdown",
   "metadata": {},
   "source": [
    "- Faisons avancer la première voiture"
   ]
  },
  {
   "cell_type": "code",
   "execution_count": 24,
   "metadata": {},
   "outputs": [
    {
     "name": "stdout",
     "output_type": "stream",
     "text": [
      "Position y : 1\n"
     ]
    }
   ],
   "source": [
    "voiture_0 = flotte[0]\n",
    "voiture_0.avancer_sur_y()\n",
    "print(\"Position y :\", voiture_0.y)"
   ]
  },
  {
   "cell_type": "markdown",
   "metadata": {},
   "source": [
    "- Faisons les toutes avancer"
   ]
  },
  {
   "cell_type": "code",
   "execution_count": 28,
   "metadata": {},
   "outputs": [
    {
     "name": "stdout",
     "output_type": "stream",
     "text": [
      "Les positions y des voitures de la flotte sont : [29, 25, 16, 22, 17, 14, 22, 24, 25, 20]\n"
     ]
    }
   ],
   "source": [
    "#for i in range(len(flotte)):\n",
    "#    flotte[i].avancer_sur_y()\n",
    "\n",
    "import random\n",
    "\n",
    "for v in flotte:\n",
    "    steps_y = random.randint(1, 10)\n",
    "    for _ in range(steps_y):\n",
    "        v.avancer_sur_y()\n",
    "    \n",
    "print(\"Les positions y des voitures de la flotte sont : {}\".format([v.y for v in flotte]))"
   ]
  },
  {
   "cell_type": "markdown",
   "metadata": {},
   "source": [
    "- Différence méthodes et fonctions : \n",
    "    - Différence syntaxique une fonction s'appelle ainsi : ``f(a)``, une méthode ``objet.notre_methode()``\n",
    "    - Différence d'usage : une fonction peut gérer dans certains cas plusieurs types, une méthode est reliée à sa classe (\"son type\")"
   ]
  },
  {
   "cell_type": "code",
   "execution_count": 29,
   "metadata": {},
   "outputs": [
    {
     "name": "stdout",
     "output_type": "stream",
     "text": [
      "'dict' object has no attribute 'append'\n",
      "5\n",
      "3\n",
      "1\n"
     ]
    }
   ],
   "source": [
    "# Une méthode est liée à un type d'objet\n",
    "l = []\n",
    "l.append(5)\n",
    "#print(l)\n",
    "\n",
    "d = {}\n",
    "try: \n",
    "    d.append(3)\n",
    "    \n",
    "except Exception as e:\n",
    "    print(e)\n",
    "    \n",
    "# Fonction len\n",
    "s = 'HETIC'\n",
    "l = [1, 2, 3]\n",
    "d = {\"a\":4}\n",
    "for value in [s, l , d]:\n",
    "    print(len(value))"
   ]
  },
  {
   "cell_type": "markdown",
   "metadata": {},
   "source": [
    "<a id='3'></a>\n",
    "## 3. Initialiser avec des arguments"
   ]
  },
  {
   "cell_type": "code",
   "execution_count": 30,
   "metadata": {},
   "outputs": [],
   "source": [
    "class Voiture:\n",
    "    def __init__(self, x, y, couleur):\n",
    "        self.x = x\n",
    "        self.y = y\n",
    "        self.couleur = couleur\n",
    "            \n",
    "    def avancer_sur_y(self):\n",
    "        self.y += 1"
   ]
  },
  {
   "cell_type": "code",
   "execution_count": 31,
   "metadata": {},
   "outputs": [
    {
     "name": "stdout",
     "output_type": "stream",
     "text": [
      "position x : 1 position y : 10 couleur :  red\n",
      "position x : 1 position y : 11\n"
     ]
    }
   ],
   "source": [
    "voiture = Voiture(x=1, y=10, couleur=\"red\")\n",
    "position_x = voiture.x\n",
    "position_y = voiture.y\n",
    "print(\"position x :\", position_x, \"position y :\", position_y, \"couleur : \", voiture.couleur)\n",
    "\n",
    "# On avance\n",
    "voiture.avancer_sur_y()\n",
    "position_y = voiture.y\n",
    "print(\"position x :\", position_x, \"position y :\", position_y)"
   ]
  },
  {
   "cell_type": "markdown",
   "metadata": {},
   "source": [
    "<a id='4'></a>\n",
    "## 4. Définir une méthode avec un argument"
   ]
  },
  {
   "cell_type": "code",
   "execution_count": 32,
   "metadata": {},
   "outputs": [],
   "source": [
    "class Voiture:\n",
    "    def __init__(self):\n",
    "        self.x = 0\n",
    "        self.y = 0\n",
    "        \n",
    "    def avancer_sur_y(self, distance_sur_y):\n",
    "        self.y += distance_sur_y"
   ]
  },
  {
   "cell_type": "code",
   "execution_count": 33,
   "metadata": {},
   "outputs": [
    {
     "name": "stdout",
     "output_type": "stream",
     "text": [
      "position x : 0 position y : 0\n",
      "position x : 0 position y : 100\n",
      "position x : 0 position y : 110\n"
     ]
    }
   ],
   "source": [
    "voiture = Voiture()\n",
    "position_x = voiture.x\n",
    "position_y = voiture.y\n",
    "print(\"position x :\", position_x, \"position y :\", position_y)\n",
    "\n",
    "# On avance\n",
    "voiture.avancer_sur_y(distance_sur_y=100)\n",
    "position_y = voiture.y\n",
    "print(\"position x :\", position_x, \"position y :\", position_y)\n",
    "\n",
    "# On avance\n",
    "voiture.avancer_sur_y(distance_sur_y=10)\n",
    "position_y = voiture.y\n",
    "print(\"position x :\", position_x, \"position y :\", position_y)"
   ]
  },
  {
   "cell_type": "code",
   "execution_count": 34,
   "metadata": {},
   "outputs": [],
   "source": [
    "l = [3, 5, 4]\n",
    "l.sort() # méthode sans argument\n",
    "l.append(7) # méthode avec argument"
   ]
  },
  {
   "cell_type": "markdown",
   "metadata": {},
   "source": [
    "<a id='5'></a>\n",
    "\n",
    "## 5. Exercices\n",
    "\n",
    "- Ecrire une classe ``FrenchTeacher`` qui :\n",
    "    - s'initialise sans argument\n",
    "    - possède une méthode ``check_first_caps`` qui prend en argument une chaîne de caractères et vérifie que la première lettre est bien une majuscule (on pourra utiliser ``.lower()`` ou ``.upper()``)\n",
    "\n",
    "\n",
    "- Ecrire une classe ``MathsTeacher`` qui :\n",
    "    - s'initialise avec un argument ``name`` qui servira à initialiser un attribut du même nom (c'est le nom du prof)\n",
    "    - possède une méthode ``compute_mean``qui prend en argument une liste et calcule sa moyenne\n",
    "    - possède une méthode ``say_hello`` qui prend en argument une instance de la classe ``MathsTeacher`` appellé ``other_instance`` et affiche (print) ``\"Salut {other_instance.name}\"``\n",
    "    \n",
    "  \n",
    "- (Plus difficile) Ecrire une classe ``HeadsOrTails`` qui permet à un utilisateur de jouer au jeu suivant :\n",
    " - On commence avec un score de 0\n",
    " - On est invité à jouer à Pile ou Face 4 fois\n",
    "    - A chaque fois, si on devine correctement, on gagne 1\n",
    "    - Sinon on perd 1\n",
    "    - Dans les deux cas on affiche un message à l'utilisateur pour lui indiqué s'il a réussi ou non\n",
    " - A la fin, on affiche le score final\n",
    " - On pourra par exemple utiliser :\n",
    "    - ``input()``pour que l'utilisateur saisisse une valeur\n",
    "    - la fonction ``randint``du package ``random``\n",
    "        \n",
    "- (Plus difficile) Implémenter une classe ``Explorer`` qui vous permet :\n",
    "    - D'afficher tous les fichiers dans le dossier courant \n",
    "    - D'afficher la liste des extensions présentes dans le dossier courant\n",
    "    - De réaliser toutes les opérations ci-dessus dans n'importe quel dossier dont on connait le chemin\n",
    "    (On pourra utiliser ``os.getcwd()``, ``os.listdir()``)\n",
    "    - Question compliquée : écrire une methode qui permet de vérifier si deux noms de fichiers diffèrent de seulement un caractère au plus.\n",
    "        - Elle peut par exemple prendre en argument deux chaînes de caractères\n",
    "        - Si mêmes chaînes exactement : renvoie True\n",
    "        - Si diffèrent seulement d'un caractère : renvoie True\n",
    "        - Dans tous les autres cas : renvoie False\n",
    "        \n",
    "    \n",
    "- (Plus difficile) Ecrire une classe ``CsvReader`` qui permet à un utilisateur de lire un fichier .csv et de mettre les valeurs dans des listes de listes\n",
    "    - La classe s'initisalise avec le chemin vers le fichier\n",
    "    - Elle permettra de gérer les types ``float``, ``int`` et ``str``\n",
    "    - Elle possède une méthode ``parse`` qui transforme ce fichier ``data.csv`` (dans le repo Git):\n",
    "    ```csv \n",
    "Voiture, Vitesse, Prix\n",
    "Twingo, 100, 10000\n",
    "Mustang, 200, 100000\n",
    "```\n",
    "    - En cette liste de liste : \n",
    "    ```python\n",
    "    [[Voiture, Vitesse, Prix], [Twingo, 100, 10000], [Mustang, 200, 100000]]\n",
    "    ````"
   ]
  },
  {
   "cell_type": "code",
   "execution_count": 63,
   "metadata": {},
   "outputs": [
    {
     "name": "stdout",
     "output_type": "stream",
     "text": [
      "Hello Roger ! you're really a nice colleague\n"
     ]
    }
   ],
   "source": [
    "class FrenchTeacher:\n",
    "    def check_first_cap(self, text):\n",
    "        return text[0].isupper()\n",
    "      \n",
    "french_teacher = FrenchTeacher()\n",
    "\n",
    "#for word in [\"Lala\", \"Jean\", \"jean\", \"Jeanne\", \"D'arc\"]:\n",
    "#    has_first_cap = french_teacher.check_first_cap(word)\n",
    "#    print(word, has_first_cap)\n",
    "    \n",
    "    \n",
    "class MathsTeacher:\n",
    "    def __init__(self, name):\n",
    "        self.name = name\n",
    "        \n",
    "    def compute_mean(self, list_):\n",
    "        return sum(list_) / len(list_)\n",
    "    \n",
    "    def say_hello(self, other_instance):\n",
    "        print(f\"Hello {other_instance.name} ! you're really a nice colleague\")\n",
    "        \n",
    "        \n",
    "jean_marie = MathsTeacher(name=\"Jean-Marie\")\n",
    "roger = MathsTeacher(name=\"Roger\")\n",
    "\n",
    "jean_marie.say_hello(roger)"
   ]
  },
  {
   "cell_type": "code",
   "execution_count": 3,
   "metadata": {},
   "outputs": [],
   "source": [
    "import random \n",
    "\n",
    "class HeadOrTails:\n",
    "    def __init__(self, n_games):\n",
    "        # Score de départ\n",
    "        self.score = 0\n",
    "        self.n_games = n_games\n",
    "    \n",
    "    def play_once(self):\n",
    "        \n",
    "        result = str(random.randint(0,1)) # 0 pour Tail et 1 pour Head\n",
    "        \n",
    "        user_tentative = None\n",
    "        while user_tentative not in [\"0\",\"1\"]:\n",
    "            print(\"Veuillez saisir 0 pour Pile ou 1 pour Face\")\n",
    "            user_tentative = input()\n",
    "            \n",
    "        if result == user_tentative:\n",
    "            print(\"Bonne réponse ! \")\n",
    "            self.score += 1\n",
    "        else:\n",
    "            print(\"Mauvaise réponse ! \")\n",
    "            self.score -= 1\n",
    "            \n",
    "    def play_n_times(self):\n",
    "        for _ in range(self.n_games):\n",
    "            self.play_once()\n",
    "            \n",
    "        print(f\"Votre score final est {self.score}\")"
   ]
  },
  {
   "cell_type": "code",
   "execution_count": 93,
   "metadata": {},
   "outputs": [
    {
     "name": "stdout",
     "output_type": "stream",
     "text": [
      "Taper 0 pour Pile ou 1 pour Face\n"
     ]
    },
    {
     "name": "stdin",
     "output_type": "stream",
     "text": [
      " 0\n"
     ]
    },
    {
     "name": "stdout",
     "output_type": "stream",
     "text": [
      "Mauvaise réponse ! \n",
      "Taper 0 pour Pile ou 1 pour Face\n"
     ]
    },
    {
     "name": "stdin",
     "output_type": "stream",
     "text": [
      " 1\n"
     ]
    },
    {
     "name": "stdout",
     "output_type": "stream",
     "text": [
      "Bonne réponse ! \n",
      "Taper 0 pour Pile ou 1 pour Face\n"
     ]
    },
    {
     "name": "stdin",
     "output_type": "stream",
     "text": [
      " 0\n"
     ]
    },
    {
     "name": "stdout",
     "output_type": "stream",
     "text": [
      "Mauvaise réponse ! \n",
      "Taper 0 pour Pile ou 1 pour Face\n"
     ]
    },
    {
     "name": "stdin",
     "output_type": "stream",
     "text": [
      " 1\n"
     ]
    },
    {
     "name": "stdout",
     "output_type": "stream",
     "text": [
      "Mauvaise réponse ! \n",
      "Taper 0 pour Pile ou 1 pour Face\n"
     ]
    },
    {
     "name": "stdin",
     "output_type": "stream",
     "text": [
      " 0\n"
     ]
    },
    {
     "name": "stdout",
     "output_type": "stream",
     "text": [
      "Mauvaise réponse ! \n",
      "Votre score final est -3\n"
     ]
    }
   ],
   "source": [
    "hot = HeadOrTails(n_games=5)\n",
    "hot.play_n_times()"
   ]
  },
  {
   "cell_type": "markdown",
   "metadata": {},
   "source": [
    "<a id='6'></a>\n",
    "## 6. Programmation orientée objet\n",
    "- Les classes font partie d'un paradigme de programmation appelé Programmation Orientée Objet (ou Object Oriented Programming). Le but de ce paradigme est d'utiliser des classes pour construire le programme. \n",
    "\n",
    "- Une classe est une portion de code qui définit les attributs (information) et méthodes (comportements) qui représentent précisément ce qu'on veut que le programme fasse.\n",
    "\n",
    "- Un attribut est une information, c'est une variable qui fait partie de la classe.\n",
    "\n",
    "- Une méthode est un comportement, c'une fonction qui fait partie de la classe.\n",
    "\n",
    "- Une instance (``voiture``) d'une classe est un objet qui a cette classe (``Voiture``) pour type."
   ]
  },
  {
   "cell_type": "code",
   "execution_count": 36,
   "metadata": {},
   "outputs": [],
   "source": [
    "class Voiture:\n",
    "    def __init__(self, x, y, couleur):\n",
    "        self.x = x\n",
    "        self.y = y\n",
    "        self.couleur = couleur\n",
    "        \n",
    "    def avancer_sur_y(self, distance_sur_y):\n",
    "        self.y += distance_sur_y\n",
    "        \n",
    "        \n",
    "corbillard = Voiture(x=0, y=-6, couleur='noir')\n",
    "\n",
    "magnum_car = Voiture(x=0, y=0, couleur='rouge')"
   ]
  },
  {
   "cell_type": "code",
   "execution_count": 37,
   "metadata": {},
   "outputs": [
    {
     "name": "stdout",
     "output_type": "stream",
     "text": [
      "140314883595072\n",
      "140314910592832\n",
      "140314910591488\n"
     ]
    }
   ],
   "source": [
    "print(id(Voiture)) # identifiant\n",
    "print(id(corbillard))\n",
    "print(id(magnum_car))"
   ]
  },
  {
   "cell_type": "markdown",
   "metadata": {},
   "source": [
    "## 7. Héritage de classe\n",
    "- ``Voiture`` est la classe mère et ``VoitureDeSport`` est la classe fille. On dit que ``VoitureDeSport``hérite de ``Voiture``\n",
    "- On initialise la classe mère, puis on peut rajouter de la logique qui n'est que pour la classe fille"
   ]
  },
  {
   "cell_type": "code",
   "execution_count": 38,
   "metadata": {
    "collapsed": false,
    "jupyter": {
     "outputs_hidden": false
    }
   },
   "outputs": [],
   "source": [
    "class Voiture:\n",
    "    def __init__(self, x, y):\n",
    "        self.x = x\n",
    "        self.y = y\n",
    "        \n",
    "    def avancer_sur_y(self, distance_sur_y):\n",
    "        self.y += distance_sur_y\n",
    "        \n",
    "    def avancer_sur_x(self, distance_sur_x):\n",
    "        self.x += distance_sur_x\n",
    "        \n",
    "\n",
    "class VoitureDeSport(Voiture):\n",
    "    def __init__(self, x, y , prix):  #self, arguments de la classe mère, arguments de la classe fille\n",
    "        # initialisation classe mère\n",
    "        Voiture.__init__(self, x, y)\n",
    "        # On ajoute le prix\n",
    "        self.prix = prix\n",
    "        print(\"J'ai une voiture puissante\")"
   ]
  },
  {
   "cell_type": "markdown",
   "metadata": {},
   "source": [
    "- ``.__dict__`` permet d'afficher tous les attributs d'une instance d'une classe"
   ]
  },
  {
   "cell_type": "code",
   "execution_count": 39,
   "metadata": {},
   "outputs": [],
   "source": [
    "voiture = Voiture(1,1)"
   ]
  },
  {
   "cell_type": "code",
   "execution_count": 40,
   "metadata": {},
   "outputs": [
    {
     "name": "stdout",
     "output_type": "stream",
     "text": [
      "J'ai une voiture puissante\n"
     ]
    }
   ],
   "source": [
    "voiture_de_sport = VoitureDeSport(1,1, 100000)"
   ]
  },
  {
   "cell_type": "code",
   "execution_count": 41,
   "metadata": {},
   "outputs": [
    {
     "data": {
      "text/plain": [
       "1"
      ]
     },
     "execution_count": 41,
     "metadata": {},
     "output_type": "execute_result"
    }
   ],
   "source": [
    "voiture_de_sport.x"
   ]
  },
  {
   "cell_type": "code",
   "execution_count": 43,
   "metadata": {},
   "outputs": [
    {
     "name": "stdout",
     "output_type": "stream",
     "text": [
      "attributs de voiture : {'x': 1, 'y': 1}\n",
      "attributs de voiture_de_sport : {'x': 1, 'y': 1, 'prix': 100000}\n"
     ]
    }
   ],
   "source": [
    "print(\"attributs de voiture :\", voiture.__dict__)\n",
    "print(\"attributs de voiture_de_sport :\",voiture_de_sport.__dict__)"
   ]
  },
  {
   "cell_type": "markdown",
   "metadata": {},
   "source": [
    "- On peut initialiser la classe mère avec la fonction ``super()`` (pas besoin d'ajouter le mot clef ``self``)"
   ]
  },
  {
   "cell_type": "code",
   "execution_count": 48,
   "metadata": {},
   "outputs": [],
   "source": [
    "class VoitureDeSport(Voiture):\n",
    "    def __init__(self, x, y, prix): \n",
    "        # initialisation classe mère avec super\n",
    "        super().__init__(x, y) # super(Voiture, self).__init__(x, y)\n",
    "        # On ajoute le prix\n",
    "        self.prix = prix"
   ]
  },
  {
   "cell_type": "code",
   "execution_count": 49,
   "metadata": {},
   "outputs": [
    {
     "name": "stdout",
     "output_type": "stream",
     "text": [
      "attributs de voiture_de_sport : {'x': 1, 'y': 1, 'prix': 100000}\n",
      "attributs de voiture_de_sport : {'x': 1, 'y': 11, 'prix': 100000}\n"
     ]
    }
   ],
   "source": [
    "voiture_de_sport = VoitureDeSport(1,1, 100000)\n",
    "print(\"attributs de voiture_de_sport :\",voiture_de_sport.__dict__)\n",
    "voiture_de_sport.avancer_sur_y(10)\n",
    "print(\"attributs de voiture_de_sport :\",voiture_de_sport.__dict__)"
   ]
  },
  {
   "cell_type": "code",
   "execution_count": 52,
   "metadata": {},
   "outputs": [
    {
     "name": "stdout",
     "output_type": "stream",
     "text": [
      "<__main__.VoitureDeSport object at 0x7f9d9c670820>\n"
     ]
    }
   ],
   "source": [
    "print(voiture_de_sport)"
   ]
  },
  {
   "cell_type": "markdown",
   "metadata": {},
   "source": [
    "- On peut définir des méthodes qui n'existent que pour la classe fille"
   ]
  },
  {
   "cell_type": "code",
   "execution_count": 55,
   "metadata": {},
   "outputs": [],
   "source": [
    "class VoitureDeSport(Voiture):\n",
    "    def __init__(self, x, y, prix): #def __init__(self, arguments_, arguments_parent_class):\n",
    "        # initialisation classe mère avec super\n",
    "        super().__init__(x, y)\n",
    "        # On ajoute le prix\n",
    "        self.prix = prix\n",
    "        \n",
    "    # On écrase la méthode avancer_sur_y de le classe mère\n",
    "    # Car on la réécrit\n",
    "    def avancer_sur_y(self):\n",
    "        self.y += 2000\n",
    "        \n",
    "    def avancer_sur_y_rapidement(self):\n",
    "        self.y += 10000\n",
    "        \n",
    "    def prendre_de_la_valeur(self):\n",
    "        self.prix += 10000\n",
    "    \n",
    "    # La méthode est utilisée pour choisir ce qu'on affiche quand on utilise print\n",
    "    def __repr__(self):\n",
    "        return f\"Voiture de sport - son prix est {self.prix}\""
   ]
  },
  {
   "cell_type": "code",
   "execution_count": 56,
   "metadata": {},
   "outputs": [
    {
     "name": "stdout",
     "output_type": "stream",
     "text": [
      "Voiture de sport - son prix est 100000\n",
      "Attributs de voiture_de_sport : {'x': 1, 'y': 1, 'prix': 100000}\n",
      "Attributs de voiture_de_sport : {'x': 1, 'y': 10001, 'prix': 100000}\n",
      "Attributs de voiture_de_sport : {'x': 1, 'y': 10001, 'prix': 110000}\n",
      "Cette méthode n'existe que pour les voitures de sport pas pour les voitures\n"
     ]
    }
   ],
   "source": [
    "voiture_de_sport = VoitureDeSport(1,1, 100000)\n",
    "print(voiture_de_sport)\n",
    "\n",
    "print(\"Attributs de voiture_de_sport :\",voiture_de_sport.__dict__)\n",
    "voiture_de_sport.avancer_sur_y_rapidement()\n",
    "print(\"Attributs de voiture_de_sport :\",voiture_de_sport.__dict__)\n",
    "voiture_de_sport.prendre_de_la_valeur()\n",
    "print(\"Attributs de voiture_de_sport :\",voiture_de_sport.__dict__)\n",
    "\n",
    "\n",
    "try:\n",
    "    voiture.avancer_sur_y_rapidement()\n",
    "except:\n",
    "    print(\"Cette méthode n'existe que pour les voitures de sport pas pour les voitures\")"
   ]
  },
  {
   "cell_type": "code",
   "execution_count": 57,
   "metadata": {},
   "outputs": [
    {
     "name": "stdout",
     "output_type": "stream",
     "text": [
      "Attributs de voiture_de_sport : {'x': 1, 'y': 12001, 'prix': 110000}\n"
     ]
    }
   ],
   "source": [
    "voiture_de_sport.avancer_sur_y()\n",
    "print(\"Attributs de voiture_de_sport :\",voiture_de_sport.__dict__)"
   ]
  },
  {
   "cell_type": "code",
   "execution_count": 58,
   "metadata": {},
   "outputs": [
    {
     "name": "stdout",
     "output_type": "stream",
     "text": [
      "Voiture de sport - son prix est 110000\n"
     ]
    }
   ],
   "source": [
    "print(voiture_de_sport)"
   ]
  },
  {
   "cell_type": "markdown",
   "metadata": {},
   "source": [
    "## 8. Exercices\n",
    "- Reprendre la classe ``HeadsOrTails`` de l'exercice précédent et implémenter une classe fille``HeadsOrTailsV2`` qui en plus : \n",
    "    - Demande le nom du joueur\n",
    "    - Le salue en début et en fin de partie\n",
    "    \n",
    "    \n",
    "- Implémenter une classe ``Personne`` qui aura pour attribut ``nom``, ``prenom`` âge\n",
    "    - Implémenter une classe fille ``Lyceen`` qui aura en plus un attribut ``classe`` et une méthode ``veillir()`` qui augmente son âge de 1\n",
    "    - Implémenter une classe fille ``Enseignant`` qui aura en plus un attribut ``matière`` et une méthode ``noter_lyceen`` qui prend un argument une instance de classe ``Lycéen`` et affiche un message avec le nom de l'étudiant et une note aléatoire entre 0 et 20\n",
    "    \n",
    "- (Plus difficile) Implémenter une classe ``MySoup`` qui : \n",
    "\n",
    "    - s'initialise avec une chaîne de caractères représentant du code html\n",
    "    - contient une méthode ``.find_all_p``qui permet de renvoyer toutes les portions contenues dans des balises ``<p>``\n",
    "    - (plus difficile) contient une méthode qui est capable de vérifier si toutes les balises sont correctement ouvertes et fermées"
   ]
  },
  {
   "cell_type": "markdown",
   "metadata": {},
   "source": [
    "- HeadsOrTailsV2"
   ]
  },
  {
   "cell_type": "code",
   "execution_count": 17,
   "metadata": {},
   "outputs": [],
   "source": [
    "import random \n",
    "\n",
    "class HeadOrTails:\n",
    "    def __init__(self, n_games):\n",
    "        # Score de départ\n",
    "        self.score = 0\n",
    "        self.n_games = n_games\n",
    "        self.EXAMPLE = \"Example\"\n",
    "    \n",
    "    def play_once(self):\n",
    "        \n",
    "        result = str(random.randint(0,1)) # 0 pour Tail et 1 pour Head\n",
    "        \n",
    "        user_tentative = None\n",
    "        while user_tentative not in [\"0\",\"1\"]:\n",
    "            print(\"Veuillez saisir 0 pour Pile ou 1 pour Face\")\n",
    "            user_tentative = input()\n",
    "            \n",
    "        if result == user_tentative:\n",
    "            print(\"Bonne réponse ! \")\n",
    "            self.score += 1\n",
    "        else:\n",
    "            print(\"Mauvaise réponse ! \")\n",
    "            self.score -= 1\n",
    "            \n",
    "    def play_n_times(self):\n",
    "        for _ in range(self.n_games):\n",
    "            self.play_once()\n",
    "            \n",
    "        print(f\"Votre score final est {self.score}\")"
   ]
  },
  {
   "cell_type": "code",
   "execution_count": 29,
   "metadata": {},
   "outputs": [],
   "source": [
    "class HeadsOrTailsV2(HeadOrTails):\n",
    "    \n",
    "    def __init__(self, n_games):\n",
    "        # Initialisation de la classe mère\n",
    "        super().__init__(n_games)\n",
    "        self.user_name = None\n",
    "        \n",
    "    def ask_name(self):\n",
    "        print('Comment vous appelez vous ?')\n",
    "        self.user_name = input()\n",
    "        \n",
    "    def say_hello(self):\n",
    "        print(f\"Salut {self.user_name}\")\n",
    "        \n",
    "    def say_goodbye(self):\n",
    "        print(f\"Au revoir {self.user_name}\")\n",
    "        \n",
    "    def play_and_greet(self):\n",
    "        self.ask_name()\n",
    "        self.say_hello()\n",
    "        self.play_once()    # Cette méthode est la méthode du parent\n",
    "        self.say_goodbye()\n",
    "              \n",
    "    def play_once(self):\n",
    "        self.ask_name()\n",
    "        self.say_hello()\n",
    "        super().play_once()    # Cette méthode est la méthode du parent\n",
    "        self.say_goodbye()        \n",
    "        "
   ]
  },
  {
   "cell_type": "code",
   "execution_count": 30,
   "metadata": {},
   "outputs": [],
   "source": [
    "game_v2 = HeadsOrTailsV2(n_games=5)"
   ]
  },
  {
   "cell_type": "code",
   "execution_count": 31,
   "metadata": {},
   "outputs": [
    {
     "name": "stdout",
     "output_type": "stream",
     "text": [
      "Comment vous appelez vous ?\n"
     ]
    },
    {
     "name": "stdin",
     "output_type": "stream",
     "text": [
      " Intervenant Python\n"
     ]
    },
    {
     "name": "stdout",
     "output_type": "stream",
     "text": [
      "Salut Intervenant Python\n",
      "Veuillez saisir 0 pour Pile ou 1 pour Face\n"
     ]
    },
    {
     "name": "stdin",
     "output_type": "stream",
     "text": [
      " 0\n"
     ]
    },
    {
     "name": "stdout",
     "output_type": "stream",
     "text": [
      "Mauvaise réponse ! \n",
      "Au revoir Intervenant Python\n"
     ]
    }
   ],
   "source": [
    "game_v2.play_once()"
   ]
  },
  {
   "cell_type": "markdown",
   "metadata": {},
   "source": [
    "Implémenter une classe Personne qui aura pour attribut nom, prenom âge\n",
    "\n",
    "Implémenter une classe fille Lyceen qui aura en plus un attribut classe et une méthode veillir() qui augmente son âge de 1\n",
    "Implémenter une classe fille Enseignant qui aura en plus un attribut matière et une méthode noter_lyceen qui prend un argument une instance de classe Lycéen et affiche un message avec le nom de l'étudiant et une note aléatoire entre 0 et 20"
   ]
  }
 ],
 "metadata": {
  "kernelspec": {
   "display_name": "Python 3 (ipykernel)",
   "language": "python",
   "name": "python3"
  },
  "language_info": {
   "codemirror_mode": {
    "name": "ipython",
    "version": 3
   },
   "file_extension": ".py",
   "mimetype": "text/x-python",
   "name": "python",
   "nbconvert_exporter": "python",
   "pygments_lexer": "ipython3",
   "version": "3.9.7"
  }
 },
 "nbformat": 4,
 "nbformat_minor": 4
}

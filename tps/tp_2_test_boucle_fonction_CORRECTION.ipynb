{
 "cells": [
  {
   "cell_type": "code",
   "execution_count": 1,
   "metadata": {},
   "outputs": [
    {
     "data": {
      "text/plain": [
       "NoneType"
      ]
     },
     "execution_count": 1,
     "metadata": {},
     "output_type": "execute_result"
    }
   ],
   "source": [
    "type(None)"
   ]
  },
  {
   "cell_type": "markdown",
   "metadata": {},
   "source": [
    "# **Python**\n",
    "# **TP 2 - Tests, boucles et fonctions**\n",
    "\n",
    "***\n",
    "\n",
    "[**Notions**](#notions)\n",
    "\n",
    "1. Les tests\n",
    "\n",
    "- [1.a.  Tests avec contrepartie](#1a)\n",
    "- [1.b. Tests successifs](#1b)\n",
    "- [1.c. Pièges classiques](#1c)\n",
    "\n",
    "\n",
    "2. Les boucles\n",
    "\n",
    "- [2.a.  Boucles inconditionnelles](#2a)\n",
    "- [2.b. List comprehension](#2b)\n",
    "- [2.c. Boucles conditionnelles](#2c)\n",
    "\n",
    "\n",
    "3. Fonctions\n",
    "- [3.a. Définition de fonctions](#3a)\n",
    "- [3.b. Paramètres et éléments retournés](#3b)\n",
    "- [3.c. Fonctions récursives](#3c)\n",
    "\n",
    "[**Exercices**](#exercices)\n",
    "\n",
    "***\n",
    "\n",
    "\n",
    "[![Open In Colab](https://colab.research.google.com/assets/colab-badge.svg)](https://colab.research.google.com/github/Selimmmm/hetic_m1_csb_public/blob/master/tp_2_test_boucle_fonction.ipynb)"
   ]
  },
  {
   "cell_type": "markdown",
   "metadata": {},
   "source": [
    "# Notions\n",
    "***\n",
    "# 1. Les tests\n",
    "- Les tests permettent d'exécuter une portion de code spécifique selon la valeur d'une condition. \n",
    "\n",
    "\n",
    "\n",
    "\n",
    "<a id='1a'></a>\n",
    "\n",
    "\n",
    "## 1.a Tests avec contrepartie\n",
    "\n",
    "\n",
    "- On veut tester une condition, c'est ce qui suit le mot clef `if`\n",
    "- Si la condition est vraie on exécute le bloc de code en dessous\n",
    "- Sinon, on exécute le bloc de code sous le `else` - c'est la contrepartie\n",
    "\n",
    "### Test d'une égalité ou inégalité"
   ]
  },
  {
   "cell_type": "code",
   "execution_count": 3,
   "metadata": {},
   "outputs": [
    {
     "name": "stdout",
     "output_type": "stream",
     "text": [
      "x est plus grand que 5\n",
      "x est plus petit que 10\n",
      "x est égale à 6\n"
     ]
    }
   ],
   "source": [
    "x = 6\n",
    "\n",
    "if x >= 5 :\n",
    "    print(\"x est plus grand que 5\")\n",
    "else : # la contrepartie si la condition if n'est pas réalisée\n",
    "    print(\"x est plus petit que 5\")\n",
    "    \n",
    "    \n",
    "if x >= 10 :\n",
    "    print(\"x est plus grand que 10\")\n",
    "else : # la contrepartie si la condition if n'est pas réalisée\n",
    "    print(\"x est plus petit que 10\")\n",
    "    \n",
    "    \n",
    "if x == 6 :\n",
    "    print(\"x est égale à 6\")\n",
    "else:\n",
    "    print(\"x n'est pas égal à 6\")"
   ]
  },
  {
   "cell_type": "markdown",
   "metadata": {},
   "source": [
    "\n",
    "\n",
    "### Test dans un intervalle\n"
   ]
  },
  {
   "cell_type": "code",
   "execution_count": 4,
   "metadata": {},
   "outputs": [
    {
     "name": "stdout",
     "output_type": "stream",
     "text": [
      "....\n"
     ]
    }
   ],
   "source": [
    "if 5 < x: \n",
    "    if x < 10:\n",
    "        print(\"....\")"
   ]
  },
  {
   "cell_type": "code",
   "execution_count": 5,
   "metadata": {},
   "outputs": [
    {
     "name": "stdout",
     "output_type": "stream",
     "text": [
      "x est entre 5 et 10\n"
     ]
    }
   ],
   "source": [
    "# on peut avoir des intervalles directement\n",
    "x = 6\n",
    "if 5 < x < 10 : \n",
    "    print(\"x est entre 5 et 10\")\n",
    "else : \n",
    "    print(\"x est plus grand que 10\")"
   ]
  },
  {
   "cell_type": "markdown",
   "metadata": {},
   "source": [
    "### Tests de plusieurs conditions avec `or`"
   ]
  },
  {
   "cell_type": "code",
   "execution_count": 7,
   "metadata": {},
   "outputs": [
    {
     "name": "stdout",
     "output_type": "stream",
     "text": [
      "x vaut 5 ou 10\n"
     ]
    }
   ],
   "source": [
    "# tester plusieurs valeurs avec l'opérateur logique \"or\"\n",
    "x = 5\n",
    "if x == 5 or x == 10 : \n",
    "    print(\"x vaut 5 ou 10\")    \n",
    "else : \n",
    "    print(\"x est différent de 5 et 10\")\n",
    "    \n",
    "    \n",
    "    \n",
    "if x > 5 and x < 10 : \n",
    "    pass\n",
    "else : \n",
    "    pass"
   ]
  },
  {
   "cell_type": "markdown",
   "metadata": {},
   "source": [
    "<a id='1b'></a>\n",
    "## 1.b Tests successifs :\n",
    "\n",
    "- On peut parfois vouloir tester plusieurs conditions, maix exclusivement les unes des autres, c'est à dire qu'on veut s'arrêter à la première condition qui est vérifiée c'est ce à quoi sert le mot clef `elif`\n",
    "\n",
    "\n",
    "### Exemple : \n",
    "- L'exemple suivant montre ce qui se passe si on exécute le même code en remplant des `if` par des `elif`"
   ]
  },
  {
   "cell_type": "code",
   "execution_count": 8,
   "metadata": {},
   "outputs": [
    {
     "name": "stdout",
     "output_type": "stream",
     "text": [
      "x est plus petit que 4\n",
      "x est plus petit que 5\n"
     ]
    }
   ],
   "source": [
    "# Avec des if :\n",
    "# On va trouver tous les entiers strictement plus grand que 3, donc 4 et 5\n",
    "x = 3\n",
    "\n",
    "if x < 1:\n",
    "    print(\"x est plus petit que 1\")\n",
    "if x < 2:\n",
    "    print(\"x est plus petit que 2\")\n",
    "if x < 3:\n",
    "    print(\"x est plus petit que 3\")\n",
    "if x < 4:\n",
    "    print(\"x est plus petit que 4\")\n",
    "if x < 5:\n",
    "    print(\"x est plus petit que 5\")"
   ]
  },
  {
   "cell_type": "code",
   "execution_count": 6,
   "metadata": {},
   "outputs": [
    {
     "name": "stdout",
     "output_type": "stream",
     "text": [
      "x est plus petit que 4\n"
     ]
    }
   ],
   "source": [
    "# Avec des elif :\n",
    "# On va trouver le premier entier plus grand que 3, donc 4\n",
    "x = 3\n",
    "\n",
    "if x < 1:\n",
    "    print(\"x est plus petit que 1\")\n",
    "elif x < 2:\n",
    "    print(\"x est plus petit que 2\")\n",
    "elif x < 3:\n",
    "    print(\"x est plus petit que 3\")\n",
    "elif x < 4:\n",
    "    print(\"x est plus petit que 4\")\n",
    "elif x < 5:\n",
    "    print(\"x est plus petit que 5\")"
   ]
  },
  {
   "cell_type": "markdown",
   "metadata": {
    "lines_to_next_cell": 2
   },
   "source": [
    "# 2. Boucles\n",
    "\n",
    "<a id='2a'></a>\n",
    "## 2.a. Boucles inconditionnelles\n",
    "\n",
    "- Les boucles inconditionnelles parcourent un ensemble prédéfini à l'avance, on utilise le mot clef `for`\n",
    "\n"
   ]
  },
  {
   "cell_type": "markdown",
   "metadata": {},
   "source": [
    "### Parcourir une liste croissante d'entiers"
   ]
  },
  {
   "cell_type": "code",
   "execution_count": 8,
   "metadata": {},
   "outputs": [
    {
     "name": "stdout",
     "output_type": "stream",
     "text": [
      "0\n",
      "1\n",
      "2\n"
     ]
    }
   ],
   "source": [
    "for i in range(0,3): \n",
    "    print(i)"
   ]
  },
  {
   "cell_type": "markdown",
   "metadata": {},
   "source": [
    "\n",
    "### Parcourir une liste décroissante d'entiers\n"
   ]
  },
  {
   "cell_type": "code",
   "execution_count": 9,
   "metadata": {},
   "outputs": [
    {
     "name": "stdout",
     "output_type": "stream",
     "text": [
      "3\n",
      "2\n",
      "1\n"
     ]
    }
   ],
   "source": [
    "for i in range(3,0,-1) : \n",
    "    print(i)"
   ]
  },
  {
   "cell_type": "code",
   "execution_count": 11,
   "metadata": {},
   "outputs": [
    {
     "name": "stdout",
     "output_type": "stream",
     "text": [
      "0\n",
      "10\n",
      "20\n",
      "30\n",
      "40\n",
      "50\n",
      "60\n",
      "70\n",
      "80\n",
      "90\n"
     ]
    }
   ],
   "source": [
    "for i in range(0,100,10) : \n",
    "    print(i)"
   ]
  },
  {
   "cell_type": "markdown",
   "metadata": {},
   "source": [
    "\n",
    "### Parcourir une liste de chaines de caractères"
   ]
  },
  {
   "cell_type": "code",
   "execution_count": 12,
   "metadata": {},
   "outputs": [],
   "source": [
    "# list(range(len(list_cities), 0, -1))"
   ]
  },
  {
   "cell_type": "code",
   "execution_count": 16,
   "metadata": {},
   "outputs": [
    {
     "name": "stdout",
     "output_type": "stream",
     "text": [
      "Paris\n",
      "Singapore\n",
      "Berlin\n",
      "\n",
      "\n",
      "Berlin\n",
      "Singapore\n",
      "Paris\n"
     ]
    }
   ],
   "source": [
    "list_cities = ['Paris', 'Singapore', 'Berlin']\n",
    "\n",
    "for city in list_cities : \n",
    "    print(city)\n",
    "    \n",
    "print(\"\\n\")\n",
    "\n",
    "list_cities = list_cities[::-1]\n",
    "for city in list_cities : \n",
    "    print(city)"
   ]
  },
  {
   "cell_type": "markdown",
   "metadata": {},
   "source": [
    "### Parcourir une chaine de caractères"
   ]
  },
  {
   "cell_type": "code",
   "execution_count": 23,
   "metadata": {},
   "outputs": [
    {
     "name": "stdout",
     "output_type": "stream",
     "text": [
      "H\n",
      "e\n",
      "l\n",
      "l\n",
      "o\n",
      " \n",
      "w\n",
      "o\n",
      "r\n",
      "l\n",
      "d\n",
      " \n",
      "!\n"
     ]
    }
   ],
   "source": [
    "text = \"Hello world !\"\n",
    "for c in text:\n",
    "    print(c)"
   ]
  },
  {
   "cell_type": "markdown",
   "metadata": {},
   "source": [
    "<a id='2b'></a>\n",
    "\n",
    "## 2.b. List comprehension\n",
    "\n",
    "- Avec les listes, on peut écrire les boucles for d'une certaine manière, qui rend le code plus lisible et permet d'avoir moins de niveaux d'indentation\n",
    "\n"
   ]
  },
  {
   "cell_type": "markdown",
   "metadata": {},
   "source": [
    "### Exemple : Liste des caractères qui forment une chaîne de caractères"
   ]
  },
  {
   "cell_type": "code",
   "execution_count": 20,
   "metadata": {},
   "outputs": [
    {
     "name": "stdout",
     "output_type": "stream",
     "text": [
      "['H', 'E', 'T', 'I', 'C', ' ', '-', ' ', 'M', '1']\n",
      "['H', 'E', 'T', 'I', 'C', ' ', '-', ' ', 'M', '1']\n"
     ]
    }
   ],
   "source": [
    "# Sans list comprehension\n",
    "liste_lettres = []\n",
    "for lettre in 'HETIC - M1':\n",
    "    liste_lettres.append(lettre)\n",
    "print(liste_lettres)\n",
    "\n",
    "# Avec une list comprehension\n",
    "liste_lettres_2 = [letter for letter in 'HETIC - M1']\n",
    "print(liste_lettres_2)"
   ]
  },
  {
   "cell_type": "code",
   "execution_count": 21,
   "metadata": {},
   "outputs": [],
   "source": [
    "liste_lettres = []\n",
    "for lettre in 'HETIC - M1':\n",
    "    liste_lettres.append(lettre)\n",
    "\n",
    "liste_lettres_2 = [letter for letter in 'HETIC - M1']\n",
    "\n",
    "\n",
    "s = 'HETIC - M1'\n",
    "l = [lt for lt in s]"
   ]
  },
  {
   "cell_type": "markdown",
   "metadata": {},
   "source": [
    "### Exemple : Liste des entiers pairs plus petits que 10"
   ]
  },
  {
   "cell_type": "code",
   "execution_count": 35,
   "metadata": {},
   "outputs": [
    {
     "data": {
      "text/plain": [
       "0"
      ]
     },
     "execution_count": 35,
     "metadata": {},
     "output_type": "execute_result"
    }
   ],
   "source": [
    "1024 % 2"
   ]
  },
  {
   "cell_type": "code",
   "execution_count": 24,
   "metadata": {},
   "outputs": [
    {
     "name": "stdout",
     "output_type": "stream",
     "text": [
      "[0, 2, 4, 6, 8, 10]\n",
      "[0, 2, 4, 6, 8, 10]\n",
      "[0, 1, 2, 3, 4, 5, 6, 7, 8, 9, 10]\n"
     ]
    }
   ],
   "source": [
    "# Sans list comprehension\n",
    "liste_entiers_pairs = []\n",
    "for entier in range(0, 11):\n",
    "    if entier % 2 == 0: # on test qu'il soit pair\n",
    "        liste_entiers_pairs.append(entier)\n",
    "print(liste_entiers_pairs)\n",
    "\n",
    "# Avec une list comprehension\n",
    "liste_entiers_pairs = [entier for entier in range(0, 11) if entier % 2 == 0]\n",
    "print(liste_entiers_pairs)\n",
    "\n",
    "liste_entiers = [entier for entier in range(0, 11)]\n",
    "print(liste_entiers)"
   ]
  },
  {
   "cell_type": "markdown",
   "metadata": {
    "lines_to_next_cell": 2
   },
   "source": [
    "## 2.c Boucles conditionnelles\n",
    "\n",
    "- Les boucles conditionnelles parcourent un ensemble prédéfini et s'arrêtent dès qu'une condition est vérifiée - Une erreur qui arrive souvent, écrire une boucle while dont la condition ne sera jamais vérifiée. Elle ne s'arrête donc jamais"
   ]
  },
  {
   "cell_type": "markdown",
   "metadata": {},
   "source": [
    "### Exemple :"
   ]
  },
  {
   "cell_type": "code",
   "execution_count": 26,
   "metadata": {},
   "outputs": [
    {
     "name": "stdout",
     "output_type": "stream",
     "text": [
      "y n'est pas encore plus grand que x\n",
      "y = 8\n",
      "y n'est pas encore plus grand que x\n",
      "y = 9\n",
      "y n'est pas encore plus grand que x\n",
      "y = 10\n",
      "y est plus grand que x et vaut 11\n"
     ]
    }
   ],
   "source": [
    "x = 10\n",
    "y = 8\n",
    "# tant que y est plus petit que 10, je continue de lui ajouter 1\n",
    "while y <= x: \n",
    "    print(\"y n'est pas encore plus grand que x\")\n",
    "    print(\"y =\", y)\n",
    "    y += 1 # l'incrément\n",
    "else: \n",
    "    print(\"y est plus grand que x et vaut\",y)"
   ]
  },
  {
   "cell_type": "code",
   "execution_count": 27,
   "metadata": {},
   "outputs": [],
   "source": [
    "import random\n",
    "l = list(range(0, 1000))\n",
    "random.shuffle(l)"
   ]
  },
  {
   "cell_type": "code",
   "execution_count": 28,
   "metadata": {},
   "outputs": [
    {
     "data": {
      "text/plain": [
       "[550, 777, 153, 23, 891, 170, 698, 977, 399, 121]"
      ]
     },
     "execution_count": 28,
     "metadata": {},
     "output_type": "execute_result"
    }
   ],
   "source": [
    "l[:10]"
   ]
  },
  {
   "cell_type": "code",
   "execution_count": 33,
   "metadata": {},
   "outputs": [
    {
     "name": "stdout",
     "output_type": "stream",
     "text": [
      "value est égale à 10\n",
      "528\n",
      "1000\n"
     ]
    }
   ],
   "source": [
    "ct = 0\n",
    "for value in l:\n",
    "    ct+=1\n",
    "    if value == 10:\n",
    "        print(\"value est égale à 10\")\n",
    "        print(ct)\n",
    "print(ct)"
   ]
  },
  {
   "cell_type": "code",
   "execution_count": 35,
   "metadata": {},
   "outputs": [
    {
     "name": "stdout",
     "output_type": "stream",
     "text": [
      "528\n"
     ]
    }
   ],
   "source": [
    "found = False\n",
    "ct = 0\n",
    "while not found:\n",
    "    found = (l[ct] == 10)\n",
    "    ct+=1\n",
    "print(ct)"
   ]
  },
  {
   "cell_type": "markdown",
   "metadata": {
    "lines_to_next_cell": 2
   },
   "source": [
    "## 3. Fonctions\n",
    "<a id='3a'></a>\n",
    "### 3.a. Définition de fonctions\n",
    "\n",
    "- Les fonctions permettent de faire la même chose sans avoir à recopier le code plusieurs fois dans le même programme. \n",
    "- Elles peuvent prendre plusieurs paramètres (ou aucun) elles peuvent retourner plusieurs résultats (ou aucun)\n",
    "- Pour documenter une fonction on écrit au début entre \"\"\" \"\"\" (en rouge dans l'exemple)"
   ]
  },
  {
   "cell_type": "markdown",
   "metadata": {},
   "source": [
    "### Une fonction qui incrémente un entier"
   ]
  },
  {
   "cell_type": "code",
   "execution_count": 37,
   "metadata": {},
   "outputs": [
    {
     "data": {
      "text/plain": [
       "1025"
      ]
     },
     "execution_count": 37,
     "metadata": {},
     "output_type": "execute_result"
    }
   ],
   "source": [
    "def ma_fonction_increment(parametre) : \n",
    "    \"\"\"Cette fonction ajoute 1 au paramètre qu'on lui donne\"\"\"\n",
    "    x = parametre + 1 \n",
    "    return x\n",
    "\n",
    "ma_fonction_increment(1)\n",
    "ma_fonction_increment(1024)"
   ]
  },
  {
   "cell_type": "markdown",
   "metadata": {},
   "source": [
    "### Une fonction qui retourne plusieurs objets"
   ]
  },
  {
   "cell_type": "code",
   "execution_count": 42,
   "metadata": {},
   "outputs": [
    {
     "data": {
      "text/plain": [
       "(2, 3)"
      ]
     },
     "execution_count": 42,
     "metadata": {},
     "output_type": "execute_result"
    }
   ],
   "source": [
    "def ma_fonction_increment_1_2(x) : \n",
    "    \"\"\"Cette fonction ajoute 1 au paramètre qu'on lui donne\"\"\"\n",
    "    return x + 1, x + 2\n",
    "\n",
    "ma_fonction_increment_1_2(1)"
   ]
  },
  {
   "cell_type": "markdown",
   "metadata": {},
   "source": [
    "<a id = '3b'> </a>\n",
    "## 3.b. Paramètres et éléments retournés"
   ]
  },
  {
   "cell_type": "markdown",
   "metadata": {},
   "source": [
    "On peut également : \n",
    "\n",
    "- avoir des paramètres __facultatifs__, mais ils doivent toujours être placés à la __fin des paramètres__ \n",
    "- en cas de paramètre facultatif, il faut lui donner une valeur par défaut\n",
    "- retourner plus d'un élément à la fin d'une fonction\n",
    "- avoir des paramètres de taille différentes\n"
   ]
  },
  {
   "cell_type": "code",
   "execution_count": 48,
   "metadata": {},
   "outputs": [
    {
     "name": "stdout",
     "output_type": "stream",
     "text": [
      "(1, 2)\n",
      "(1, 2)\n",
      "(5, 6)\n"
     ]
    }
   ],
   "source": [
    "def ma_fonction(a1, a2, b=None) :\n",
    "    if b is None:\n",
    "        return a1, a2\n",
    "    else:\n",
    "        a1_plus_b = a1 + b\n",
    "        a2_plus_b = a2 + b\n",
    "        return a1_plus_b, a2_plus_b\n",
    "\n",
    "print(ma_fonction(1, 2))\n",
    "\n",
    "print(ma_fonction(a1=1, a2=2, b=0))\n",
    "\n",
    "print(ma_fonction(a1=1, a2=2, b=4))"
   ]
  },
  {
   "cell_type": "code",
   "execution_count": 50,
   "metadata": {},
   "outputs": [
    {
     "name": "stdout",
     "output_type": "stream",
     "text": [
      "(5, 6)\n",
      "5 6\n"
     ]
    }
   ],
   "source": [
    "res = ma_fonction(a1=1, a2=2, b=4)\n",
    "print(res)\n",
    "print(res[0], res[1])"
   ]
  },
  {
   "cell_type": "markdown",
   "metadata": {},
   "source": [
    "### Unpacking"
   ]
  },
  {
   "cell_type": "code",
   "execution_count": 52,
   "metadata": {},
   "outputs": [
    {
     "name": "stdout",
     "output_type": "stream",
     "text": [
      "5 6\n"
     ]
    }
   ],
   "source": [
    "res_a1_plus_b, res_a2_plus_b = ma_fonction(a1=1, a2=2, b=4)\n",
    "print(res_a1_plus_b, res_a2_plus_b)"
   ]
  },
  {
   "cell_type": "code",
   "execution_count": 15,
   "metadata": {},
   "outputs": [
    {
     "name": "stdout",
     "output_type": "stream",
     "text": [
      "(1, 2)\n",
      "(4, 5)\n"
     ]
    }
   ],
   "source": [
    "print(ma_fonction(a1=1, a2=2))\n",
    "print(ma_fonction(4, 5))"
   ]
  },
  {
   "cell_type": "markdown",
   "metadata": {},
   "source": [
    "<a id = '3c'> </a>\n",
    "\n",
    "## 3.c. Fonctions récursives"
   ]
  },
  {
   "cell_type": "markdown",
   "metadata": {},
   "source": [
    "- Une fonction peut également s'appeler elle même : c'est ce qu'on appelle une fonction récursive.\n",
    "- Dans cet exemple, somme_recursion() est une fonction que nous avons défini de sorte à ce qu'elle s'appelle elle même (récursif). \n",
    "- On utilise l'argument k, qui décroit (-1) chaque fois qu'on fait appelle à la fonction. \n",
    "- La récursion s'arrête quand k est nul. \n",
    "- Dans ce cet exemple, on va donc appeler 6 fois la fonction récursive."
   ]
  },
  {
   "cell_type": "code",
   "execution_count": 57,
   "metadata": {},
   "outputs": [
    {
     "name": "stdout",
     "output_type": "stream",
     "text": [
      "15.0\n",
      "15\n",
      "15\n"
     ]
    }
   ],
   "source": [
    "# Cette même fonction sans récursion : plusieurs solutions\n",
    "\n",
    "def somme_sans_recursion(k):\n",
    "    \"\"\"Somme des entiers consécutifs\"\"\"\n",
    "    return k * (k + 1) / 2\n",
    "\n",
    "def somme_sans_recursion_avec_for(k):\n",
    "    somme = 0\n",
    "    for i in range(1, k+1):\n",
    "        somme += i\n",
    "    return somme\n",
    "\n",
    "def somme_sans_recursion_avec_for_and_list_comprehension(k):\n",
    "    l = list(range(1, k+1))\n",
    "    return sum(l)\n",
    "    \n",
    "print(somme_sans_recursion(5))\n",
    "print(somme_sans_recursion_avec_for(5))\n",
    "print(somme_sans_recursion_avec_for_and_list_comprehension(5))"
   ]
  },
  {
   "cell_type": "code",
   "execution_count": 60,
   "metadata": {},
   "outputs": [
    {
     "data": {
      "text/plain": [
       "15"
      ]
     },
     "execution_count": 60,
     "metadata": {},
     "output_type": "execute_result"
    }
   ],
   "source": [
    "def somme_recursion(k):\n",
    "    if k > 0:\n",
    "        result = k + somme_recursion(k-1)\n",
    "    else:\n",
    "        result = 0\n",
    "    return result\n",
    "\n",
    "somme_recursion(5)"
   ]
  },
  {
   "cell_type": "markdown",
   "metadata": {},
   "source": [
    "<a id='exercices'></a>\n",
    "# Exercices"
   ]
  },
  {
   "cell_type": "markdown",
   "metadata": {},
   "source": [
    "### Manipulation d'entiers\n",
    "- Ecrire un programme qui peut trouver tous les nombres divisibles par 31 mais pas par 2 entre 2000 et 3000\n",
    "- Ecrire une autre version de ce programme pour qu'il ne renvoie plus les nombres divisibles par 3\n",
    "- Si vous avez utiliser une boucle for, réécrire ce programme avec une boucle while et inversement"
   ]
  },
  {
   "cell_type": "code",
   "execution_count": 67,
   "metadata": {},
   "outputs": [
    {
     "data": {
      "text/plain": [
       "False"
      ]
     },
     "execution_count": 67,
     "metadata": {},
     "output_type": "execute_result"
    }
   ],
   "source": [
    "def is_divisible_by_x(number, x):\n",
    "    return  number % x == 0 \n",
    "\n",
    "(not is_divisible_by_x(310, 2)) and is_divisible_by_x(310, 31)"
   ]
  },
  {
   "cell_type": "code",
   "execution_count": 68,
   "metadata": {},
   "outputs": [],
   "source": [
    "selected_numbers = []\n",
    "for number in range(2000, 3000):\n",
    "    if (not is_divisible_by_x(number, 2)) and is_divisible_by_x(number, 31):\n",
    "        selected_numbers.append(number)"
   ]
  },
  {
   "cell_type": "code",
   "execution_count": 70,
   "metadata": {},
   "outputs": [],
   "source": [
    "selected_numbers = [\n",
    "    number\n",
    "    for number in range(2000, 3000)\n",
    "    if (not is_divisible_by_x(number, 2)) and is_divisible_by_x(number, 31)\n",
    "]"
   ]
  },
  {
   "cell_type": "code",
   "execution_count": 72,
   "metadata": {},
   "outputs": [],
   "source": [
    "selected_numbers = [\n",
    "    number\n",
    "    for number in range(2000, 3000)\n",
    "    if (not number % 2 == 0) and number % 31 == 0 \n",
    "]"
   ]
  },
  {
   "cell_type": "code",
   "execution_count": 73,
   "metadata": {},
   "outputs": [
    {
     "data": {
      "text/plain": [
       "[2015,\n",
       " 2077,\n",
       " 2139,\n",
       " 2201,\n",
       " 2263,\n",
       " 2325,\n",
       " 2387,\n",
       " 2449,\n",
       " 2511,\n",
       " 2573,\n",
       " 2635,\n",
       " 2697,\n",
       " 2759,\n",
       " 2821,\n",
       " 2883,\n",
       " 2945]"
      ]
     },
     "execution_count": 73,
     "metadata": {},
     "output_type": "execute_result"
    }
   ],
   "source": [
    "selected_numbers"
   ]
  },
  {
   "cell_type": "code",
   "execution_count": 61,
   "metadata": {},
   "outputs": [],
   "source": [
    "def is_divisible_by_x(x):\n",
    "    \"\"\"Retourne tous les nombres divisibles par x, mais pas par 2 entre 2000 et 3000\"\"\"\n",
    "    return [number for number in range(2000, 3001) if number % x == 0 and number % 2 != 0]\n",
    "\n",
    "\n",
    "def is_divisible_by_x_with_while(x: int) -> list:\n",
    "    \"\"\"Retourne tous les nombres divisibles par x, mais pas par 2 entre 2000 et 3000 avec la boucle while\"\"\"\n",
    "    l = []\n",
    "\n",
    "    number = 2000\n",
    "    while number <= 3000:\n",
    "        if number % x == 0 and number % 2 != 0:\n",
    "            l.append(number)"
   ]
  },
  {
   "cell_type": "markdown",
   "metadata": {},
   "source": [
    "### Manipulation de chaîne de caractères\n",
    "- Definir une liste contenant les mois de l\\'année\n",
    "- Trier cette liste par ordre alphabétique\n",
    "- Créer un dictionnaire qui contient en clef les noms des mois et en valeur le nombre de lettres dans le nom du mois\n",
    "- Ecrire une fonction qui prend en argument une chaîne de caractères et renvoie True si elle est de longueur plus grande que 6\n",
    "- Créer la liste des noms des mois qui ont plus de 6 lettres\n"
   ]
  },
  {
   "cell_type": "code",
   "execution_count": 59,
   "metadata": {},
   "outputs": [
    {
     "data": {
      "text/plain": [
       "['decembre',\n",
       " 'février',\n",
       " 'janvier',\n",
       " 'juillet',\n",
       " 'novembre',\n",
       " 'octobre',\n",
       " 'septembre']"
      ]
     },
     "execution_count": 59,
     "metadata": {},
     "output_type": "execute_result"
    }
   ],
   "source": [
    "liste_mois = [\n",
    "    \"janvier\",\n",
    "    \"février\",\n",
    "    \"mars\",\n",
    "    \"avril\",\n",
    "    \"mai\",\n",
    "    \"juin\",\n",
    "    \"juillet\",\n",
    "    \"août\",\n",
    "    \"septembre\",\n",
    "    \"octobre\",\n",
    "    \"novembre\",\n",
    "    \"decembre\"\n",
    "]\n",
    "\n",
    "#liste_mois.sort()\n",
    "\n",
    "liste_mois = sorted(liste_mois) # équivalent à ci-dessus\n",
    "\n",
    "d = {\n",
    "    mois: len(mois)\n",
    "    for mois in liste_mois\n",
    "}\n",
    "\n",
    "def is_longer_than_6(text):\n",
    "    return len(text) >= 6\n",
    "\n",
    "\n",
    "liste_mois_longer_than_6 = [mois for mois in liste_mois if is_longer_than_6(mois)]\n",
    "liste_mois_longer_than_6"
   ]
  },
  {
   "cell_type": "markdown",
   "metadata": {},
   "source": [
    "### Définition de fonctions :\n",
    "- Définir une fonction pour compter le nombre de voyelles dans une chaîne de caractères\n",
    "- L'appliquer au texte ci-dessous \n",
    "- Définir une fonction pour compter le nombre de consonnes dans une chaîne de caractères\n",
    "- L'appliquer au texte ci-dessous \n",
    "- Définir une fonction qui renvoie le nombre de voyelles et le nombre de consonnes dans une chaîne de caractères"
   ]
  },
  {
   "cell_type": "code",
   "execution_count": 2,
   "metadata": {},
   "outputs": [],
   "source": [
    "text = \"\"\"Lorem Ipsum is simply dummy text of the printing and typesetting industry. \n",
    "          Lorem Ipsum has been the industry's standard dummy text ever since the 1500s, \n",
    "          when an unknown printer took a galley of type and scrambled it to make a type specimen book. \n",
    "          It has survived not only five centuries, but also the leap into electronic typesetting, \n",
    "          remaining essentially unchanged.\"\"\""
   ]
  },
  {
   "cell_type": "code",
   "execution_count": 3,
   "metadata": {},
   "outputs": [
    {
     "data": {
      "text/plain": [
       "'AEIOUY'"
      ]
     },
     "execution_count": 3,
     "metadata": {},
     "output_type": "execute_result"
    }
   ],
   "source": [
    "\"aeiouy\".upper()"
   ]
  },
  {
   "cell_type": "code",
   "execution_count": 4,
   "metadata": {},
   "outputs": [
    {
     "name": "stdout",
     "output_type": "stream",
     "text": [
      "115\n"
     ]
    }
   ],
   "source": [
    "# Methode 1\n",
    "def is_vowel(char):\n",
    "    return char in \"aeiouy\" +  \"AEIOUY\" #\"aeiouy\".upper()\n",
    "    # return char in [\"a\", \"e\", \"i\", \"o\", \"u\", \"y\"]\n",
    "\n",
    "def filter_vowels(text):\n",
    "    return [char for char in text if is_vowel(char)]\n",
    "\n",
    "def count_vowels(text):\n",
    "    return len(filter_vowels(text))\n",
    "\n",
    "print(count_vowels(text))"
   ]
  },
  {
   "cell_type": "code",
   "execution_count": 5,
   "metadata": {},
   "outputs": [
    {
     "name": "stdout",
     "output_type": "stream",
     "text": [
      "115\n"
     ]
    }
   ],
   "source": [
    "# Methode 2\n",
    "#def is_vowel(char):\n",
    "#    return char in \"aeiouy\"\n",
    "\n",
    "def count_vowels(text):\n",
    "    return sum([char in \"aeiouy\" +  \"AEIOUY\" for char in text])\n",
    "\n",
    "print(count_vowels(text))"
   ]
  },
  {
   "cell_type": "code",
   "execution_count": 6,
   "metadata": {},
   "outputs": [
    {
     "ename": "NameError",
     "evalue": "name 'string' is not defined",
     "output_type": "error",
     "traceback": [
      "\u001b[0;31m---------------------------------------------------------------------------\u001b[0m",
      "\u001b[0;31mNameError\u001b[0m                                 Traceback (most recent call last)",
      "Input \u001b[0;32mIn [6]\u001b[0m, in \u001b[0;36m<module>\u001b[0;34m\u001b[0m\n\u001b[1;32m      3\u001b[0m     \u001b[38;5;28;01mreturn\u001b[39;00m char \u001b[38;5;129;01min\u001b[39;00m l\n\u001b[1;32m      5\u001b[0m list_vowels \u001b[38;5;241m=\u001b[39m \u001b[38;5;124m\"\u001b[39m\u001b[38;5;124maeiouy\u001b[39m\u001b[38;5;124m\"\u001b[39m \u001b[38;5;241m+\u001b[39m \u001b[38;5;124m\"\u001b[39m\u001b[38;5;124mAEIOUY\u001b[39m\u001b[38;5;124m\"\u001b[39m\n\u001b[0;32m----> 6\u001b[0m list_digits \u001b[38;5;241m=\u001b[39m \u001b[43mstring\u001b[49m\u001b[38;5;241m.\u001b[39mdigits\n\u001b[1;32m      7\u001b[0m list_punctuation \u001b[38;5;241m=\u001b[39m string\u001b[38;5;241m.\u001b[39mpunctuation\n\u001b[1;32m      8\u001b[0m list_whitespace \u001b[38;5;241m=\u001b[39m string\u001b[38;5;241m.\u001b[39mwhitespace\n",
      "\u001b[0;31mNameError\u001b[0m: name 'string' is not defined"
     ]
    }
   ],
   "source": [
    "# Méthode 1 \n",
    "def is_char_in_list(char, l):\n",
    "    return char in l\n",
    "\n",
    "\n",
    "import string \n",
    "\n",
    "list_vowels = \"aeiouy\" + \"AEIOUY\"\n",
    "list_digits = string.digits\n",
    "list_punctuation = string.punctuation\n",
    "list_whitespace = string.whitespace\n",
    "\n",
    "print(\"Test list_vowels\",  is_char_in_list(\"a\", list_vowels), is_char_in_list(\"z\", list_vowels))\n",
    "print(\"Test list_digits\",  is_char_in_list(\"a\", list_digits), is_char_in_list(\"1\", list_digits))\n",
    "print(\"Test list_punctuation\",  is_char_in_list(\"a\", list_punctuation), is_char_in_list(\":\", list_punctuation))\n",
    "print(\"Test list_whitespace\",  is_char_in_list(\"\\x0c\", list_whitespace), is_char_in_list(\"z\", list_whitespace))\n",
    "\n",
    "\n",
    "def is_char_consonant(char):\n",
    "    return not (is_char_in_list(char, list_vowels) or \\\n",
    "           is_char_in_list(char, list_digits) or \\\n",
    "           is_char_in_list(char, list_punctuation) or \\\n",
    "           is_char_in_list(char, list_whitespace))\n",
    "    \n",
    "def count_consonants(text):\n",
    "    return sum([is_char_consonant(char) for char in text])\n",
    "\n",
    "count_consonants(text)"
   ]
  },
  {
   "cell_type": "code",
   "execution_count": 132,
   "metadata": {},
   "outputs": [
    {
     "data": {
      "text/plain": [
       "181"
      ]
     },
     "execution_count": 132,
     "metadata": {},
     "output_type": "execute_result"
    }
   ],
   "source": [
    "# Méthode 2\n",
    "def is_char_in_list(char, l):\n",
    "    return char in l\n",
    "\n",
    "list_global = list_vowels + list_digits + list_punctuation + list_whitespace\n",
    "\n",
    "def is_char_consonant(char, list_global=list_global):\n",
    "    return not is_char_in_list(char, list_global)\n",
    "\n",
    "def count_consonants(text):\n",
    "    return sum([is_char_consonant(char) for char in text])\n",
    "\n",
    "count_consonants(text)"
   ]
  },
  {
   "cell_type": "code",
   "execution_count": 133,
   "metadata": {},
   "outputs": [],
   "source": [
    "def count_consonants_and_vowels(text):\n",
    "    return count_consonants(text), count_vowels(text)"
   ]
  },
  {
   "cell_type": "code",
   "execution_count": 137,
   "metadata": {},
   "outputs": [
    {
     "data": {
      "text/plain": [
       "(tuple, (181, 115))"
      ]
     },
     "execution_count": 137,
     "metadata": {},
     "output_type": "execute_result"
    }
   ],
   "source": [
    "type(count_consonants_and_vowels(text)), count_consonants_and_vowels(text)"
   ]
  },
  {
   "cell_type": "code",
   "execution_count": 141,
   "metadata": {},
   "outputs": [
    {
     "name": "stdout",
     "output_type": "stream",
     "text": [
      "#Consonants : 181\n",
      "#Vowels : 115\n"
     ]
    }
   ],
   "source": [
    "count_consonants_int, count_vowels_int = count_consonants_and_vowels(text)\n",
    "print(f\"#Consonants : {count_consonants_int}\\n#Vowels : {count_vowels_int}\")"
   ]
  },
  {
   "cell_type": "code",
   "execution_count": null,
   "metadata": {},
   "outputs": [],
   "source": []
  }
 ],
 "metadata": {
  "kernelspec": {
   "display_name": "Python 3 (ipykernel)",
   "language": "python",
   "name": "python3"
  },
  "language_info": {
   "codemirror_mode": {
    "name": "ipython",
    "version": 3
   },
   "file_extension": ".py",
   "mimetype": "text/x-python",
   "name": "python",
   "nbconvert_exporter": "python",
   "pygments_lexer": "ipython3",
   "version": "3.9.7"
  }
 },
 "nbformat": 4,
 "nbformat_minor": 4
}

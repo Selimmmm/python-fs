{
 "cells": [
  {
   "cell_type": "markdown",
   "metadata": {},
   "source": [
    "# **Python**\n",
    "# **TP 1 - Syntaxe, variables et types**\n",
    "\n",
    "***\n",
    "\n",
    "[**Notions**](#notions)\n",
    "\n",
    "1. Premiers éléments de syntaxe en Python\n",
    "\n",
    "- [1.a. L'indentation est primordiale - elle impacte l'exécution du code](#1a)\n",
    "- [1.b. On commence à numéroter à 0](#1b)\n",
    "- [1.c. Les marques de ponctuation sont très importantes](#1c)\n",
    "\n",
    "\n",
    "2. Output et fonction print\n",
    "- [Exemples](#2)\n",
    "\n",
    "\n",
    "3. Variables et types\n",
    "- [3.a. Variables de types immuables](#3a)\n",
    "- [3.b. Variables de types muables](#3b)\n",
    "- [3.c. Quelques méthodes sur les types muables](#3c)\n",
    "- [3.d Syntaxe pour les types muables](#3d)\n",
    "\n",
    "[**Exercices**](#exercices)\n",
    "\n",
    "***\n",
    "\n",
    "<!--- [![Open In Colab](https://colab.research.google.com/assets/colab-badge.svg)](https://colab.research.google.com/github/Selimmmm/hetic_m1_csb_public/blob/master/tp_1_syntaxe_variables_et_types.ipynb) --> \n"
   ]
  },
  {
   "cell_type": "markdown",
   "metadata": {},
   "source": [
    "<a id='notions'></a>\n",
    "# Notions \n",
    "\n",
    "<a id='1a'></a>\n",
    "\n",
    "## 1. Premiers éléments de syntaxe en Python\n",
    "\n",
    "### 1.a. L'indentation est primordiale - elle impacte l'exécution du code\n",
    "\n",
    "- L'indentation indique à l'interpréteur quel est l'ordre d'exécution des blocs (ce qui n'est généralement pas le cas pour les autres langages de programmation informatique). \n",
    "- Il faut donc faire attention au niveaux d'indentation du code."
   ]
  },
  {
   "cell_type": "markdown",
   "metadata": {},
   "source": [
    "#### Cet exemple est correct :"
   ]
  },
  {
   "cell_type": "code",
   "execution_count": 1,
   "metadata": {},
   "outputs": [
    {
     "name": "stdout",
     "output_type": "stream",
     "text": [
      "nombre :  1\n",
      "nombre :  2\n",
      "nombre :  3\n",
      "nombre :  4\n",
      "nombre :  5\n"
     ]
    }
   ],
   "source": [
    "# Exemple :\n",
    "for nombre in [1, 2, 3, 4, 5]:\n",
    "    print(\"nombre : \", nombre)"
   ]
  },
  {
   "cell_type": "markdown",
   "metadata": {},
   "source": [
    "#### Celui-ci ne l'est pas (IndentationError) :"
   ]
  },
  {
   "cell_type": "code",
   "execution_count": 4,
   "metadata": {},
   "outputs": [
    {
     "ename": "IndentationError",
     "evalue": "expected an indented block (1493093420.py, line 3)",
     "output_type": "error",
     "traceback": [
      "\u001b[0;36m  Input \u001b[0;32mIn [4]\u001b[0;36m\u001b[0m\n\u001b[0;31m    print(\"nombre : \", nombre)\u001b[0m\n\u001b[0m    ^\u001b[0m\n\u001b[0;31mIndentationError\u001b[0m\u001b[0;31m:\u001b[0m expected an indented block\n"
     ]
    }
   ],
   "source": [
    "# Exemple :\n",
    "for nombre in [1, 2, 3, 4, 5]:\n",
    "print(\"nombre : \", nombre)"
   ]
  },
  {
   "cell_type": "markdown",
   "metadata": {},
   "source": [
    "<a id='1b'></a>\n",
    "\n",
    "### 1.b. On commence à numéroter à 0\n",
    "- Un peu comme en maths, et comme dans de nombreux autres langages de programmation, on commence à compter à 0.\n",
    "- Par exemple, le premier élément d'une liste est l'élément numéroté (ou indicé) 0"
   ]
  },
  {
   "cell_type": "markdown",
   "metadata": {},
   "source": [
    "#### Exemple :"
   ]
  },
  {
   "cell_type": "code",
   "execution_count": 5,
   "metadata": {},
   "outputs": [
    {
     "name": "stdout",
     "output_type": "stream",
     "text": [
      "élément d'indice 0 :  In\n",
      "élément d'indice 1 :  Python\n"
     ]
    }
   ],
   "source": [
    "# On initialise une liste\n",
    "l = [\"In\", \"Python\", \"We\", \"Trust\"]\n",
    "\n",
    "print(\"élément d'indice 0 : \", l[0])\n",
    "print(\"élément d'indice 1 : \", l[1])"
   ]
  },
  {
   "cell_type": "markdown",
   "metadata": {},
   "source": [
    "<a id='1c'></a>\n",
    "\n",
    "### 1.c. Ces symboles sont très importants : \n",
    "* Pour une liste : `[]`\n",
    "* Pour un dictionnaire : `{}`\n",
    "* Pour un tuple : `()`\n",
    "* Pour séparer des éléments `:` ,\n",
    "* Pour commenter un bout de code : `#`\n",
    "* Pour aller à la ligne dans un bloc d'instructions : `\\`\n",
    "* Les majuscules et minuscules sont importantes\n",
    "* Par contre l'usage des `'` ou des `\"` est indifférent (il faut utiliser le même au début et à la fin).\n"
   ]
  },
  {
   "cell_type": "markdown",
   "metadata": {},
   "source": [
    "#### Exemples : "
   ]
  },
  {
   "cell_type": "code",
   "execution_count": 19,
   "metadata": {},
   "outputs": [],
   "source": [
    "# Une liste\n",
    "l = []\n",
    "# Une liste contenant des lettres\n",
    "l_letters = [\"a\", \"b\", \"z\", \"d\"]\n",
    "\n",
    "# Un dictionnaire vide\n",
    "d = {}\n",
    "# Un dictionnaire \n",
    "d_letters = {\"a\":1, \"b\":2}\n",
    "\n",
    "# tuple vide\n",
    "t = ()\n",
    "# tuple\n",
    "t_letters = (\"a\", \"b\", \"c\")\n",
    "\n",
    "# Retour à la ligne\n",
    "a_very_big_num = 1 + 2 + 3 + 4 + 5 + 6 + 7 + 8 + 9 + 10 + \\\n",
    "    sum([11, 12, 13, 14, 15])"
   ]
  },
  {
   "cell_type": "markdown",
   "metadata": {},
   "source": [
    "<a id='2'></a>\n",
    "\n",
    "## 2. Output et fonction print\n",
    "- La fonction print permet d'afficher la valeur d'une variable, ou un message plus élaboré, elle sera très utile pour débugger\n",
    "- Nous en discuterons plus en détail dans le TP sur les fonctions"
   ]
  },
  {
   "cell_type": "markdown",
   "metadata": {},
   "source": [
    "#### Un premier exemple : affichage d'une valeur"
   ]
  },
  {
   "cell_type": "code",
   "execution_count": 21,
   "metadata": {},
   "outputs": [],
   "source": [
    "# Rien ne s'affiche quand on executé cette cellule\n",
    "a = 1\n",
    "b = 2"
   ]
  },
  {
   "cell_type": "code",
   "execution_count": 23,
   "metadata": {},
   "outputs": [
    {
     "name": "stdout",
     "output_type": "stream",
     "text": [
      "1\n"
     ]
    }
   ],
   "source": [
    "# On affiche la valeur de a\n",
    "print(a)"
   ]
  },
  {
   "cell_type": "markdown",
   "metadata": {},
   "source": [
    "#### Un second exemple : affichage d'une valeur et output d'un code"
   ]
  },
  {
   "cell_type": "code",
   "execution_count": 24,
   "metadata": {},
   "outputs": [
    {
     "name": "stdout",
     "output_type": "stream",
     "text": [
      "1\n"
     ]
    },
    {
     "data": {
      "text/plain": [
       "2"
      ]
     },
     "execution_count": 24,
     "metadata": {},
     "output_type": "execute_result"
    }
   ],
   "source": [
    "# On affiche la valeur de a et on appelle b sur la dernière ligne\n",
    "a = 1\n",
    "print(a)\n",
    "b = 2 \n",
    "#print(b)\n",
    "b\n",
    "# b # Sera l'output de notre code (noté le [] à gauche de la valeur)"
   ]
  },
  {
   "cell_type": "markdown",
   "metadata": {},
   "source": [
    "## 3. Variables et types\n",
    "\n",
    "- Toute variable a un type. \n",
    "- Il existe plusieurs types de base en Python. \n",
    "- Les variables sont muables ou immuables en fonction de leur type.\n",
    "\n",
    "\n",
    "### 3.a. Les variables - types immuables\n",
    "<a id='3a'></a>\n",
    "\n",
    "Les variables immuables ne peuvent être modifiées\n",
    "\n",
    "- `None` : ce type est une convention de programmation - il n'y a pas de valeur\n",
    "- `bool` : un booléen\n",
    "- `int` : un entier\n",
    "- `float` : un réel\n",
    "- `str` : une chaine de caractères\n",
    "- `tuple` : un vecteur (ou n-uplet)\n",
    "\n"
   ]
  },
  {
   "cell_type": "markdown",
   "metadata": {},
   "source": [
    "#### Exemples :"
   ]
  },
  {
   "cell_type": "code",
   "execution_count": 33,
   "metadata": {},
   "outputs": [
    {
     "name": "stdout",
     "output_type": "stream",
     "text": [
      "3 3.3 exemple None (1, 2)\n"
     ]
    }
   ],
   "source": [
    "i = 3         # entier = type numérique (type int)\n",
    "r = 3.3       # réel   = type numérique (type float)\n",
    "s = \"exemple\" # chaîne de caractères = type str \n",
    "n = None      # None signifie que la variable existe mais qu'elle ne contient rien\n",
    "              # elle est souvent utilisée pour signifier qu'il n'y a pas de résultat\n",
    "a = (1,2)     # tuple\n",
    "\n",
    "print(i,r,s,n,a)         "
   ]
  },
  {
   "cell_type": "code",
   "execution_count": 36,
   "metadata": {},
   "outputs": [
    {
     "ename": "TypeError",
     "evalue": "'str' object does not support item assignment",
     "output_type": "error",
     "traceback": [
      "\u001b[0;31m---------------------------------------------------------------------------\u001b[0m",
      "\u001b[0;31mTypeError\u001b[0m                                 Traceback (most recent call last)",
      "Input \u001b[0;32mIn [36]\u001b[0m, in \u001b[0;36m<module>\u001b[0;34m\u001b[0m\n\u001b[1;32m      1\u001b[0m \u001b[38;5;66;03m# On essaie de changer la première composante du string s qui vaut e, par la valeur E \u001b[39;00m\n\u001b[1;32m      2\u001b[0m \u001b[38;5;66;03m# Ceci déclenche une erreur\u001b[39;00m\n\u001b[0;32m----> 3\u001b[0m s[\u001b[38;5;241m0\u001b[39m] \u001b[38;5;241m=\u001b[39m \u001b[38;5;124m\"\u001b[39m\u001b[38;5;124mE\u001b[39m\u001b[38;5;124m\"\u001b[39m\n",
      "\u001b[0;31mTypeError\u001b[0m: 'str' object does not support item assignment"
     ]
    }
   ],
   "source": [
    "# On essaie de changer la première composante du string s qui vaut e, par la valeur E \n",
    "# Ceci déclenche une erreur\n",
    "s[0] = \"E\""
   ]
  },
  {
   "cell_type": "code",
   "execution_count": 41,
   "metadata": {},
   "outputs": [
    {
     "ename": "TypeError",
     "evalue": "'tuple' object does not support item assignment",
     "output_type": "error",
     "traceback": [
      "\u001b[0;31m---------------------------------------------------------------------------\u001b[0m",
      "\u001b[0;31mTypeError\u001b[0m                                 Traceback (most recent call last)",
      "Input \u001b[0;32mIn [41]\u001b[0m, in \u001b[0;36m<module>\u001b[0;34m\u001b[0m\n\u001b[1;32m      1\u001b[0m \u001b[38;5;66;03m# On essaie de changer la première composante du tuple a qui vaut 1, par la valeur 10\u001b[39;00m\n\u001b[1;32m      2\u001b[0m \u001b[38;5;66;03m# Ceci déclenche une erreur\u001b[39;00m\n\u001b[0;32m----> 3\u001b[0m a[\u001b[38;5;241m0\u001b[39m] \u001b[38;5;241m=\u001b[39m \u001b[38;5;241m10\u001b[39m\n",
      "\u001b[0;31mTypeError\u001b[0m: 'tuple' object does not support item assignment"
     ]
    }
   ],
   "source": [
    "# On essaie de changer la première composante du tuple a qui vaut 1, par la valeur 10\n",
    "# Ceci déclenche une erreur\n",
    "a[0] = 10\n",
    "\n",
    "#a = (1, 2, 3)"
   ]
  },
  {
   "cell_type": "markdown",
   "metadata": {},
   "source": [
    "<a id='3b'></a>\n",
    "\n",
    "### 3.b. Les variables - types muables\n",
    "\n",
    "Les variables muables peuvent être modifiées \n",
    "\n",
    "- `list` : une liste (suites de valeurs - l'ordre compte)\n",
    "- `dict` : un dictionnaire (couples clefs / valeurs - l'ordre des clefs ne compte pas)\n",
    "\n"
   ]
  },
  {
   "cell_type": "markdown",
   "metadata": {},
   "source": [
    "#### Exemples : "
   ]
  },
  {
   "cell_type": "code",
   "execution_count": 44,
   "metadata": {},
   "outputs": [
    {
     "name": "stdout",
     "output_type": "stream",
     "text": [
      "LISTE : \n",
      "La longueur de ma liste est de 4\n",
      "Le premier élément de ma liste est : 1\n",
      "Le dernier élément de ma liste est : 4\n",
      "Le dernier élément de ma liste est : 4\n",
      "Après changement du premier élément : ['Nouvelle valeur', 2, 3, 4]\n",
      "\n",
      "DICTIONNAIRE : \n",
      "{'Paris': 75, 'Chartres': 28, 'Orléans': 45, 'Tours': 37}\n",
      "Après changement de la valeur pour la clef Paris :\n",
      " {'Paris': 'Soixante-quinze', 'Chartres': 28, 'Orléans': 45, 'Tours': 37}\n"
     ]
    }
   ],
   "source": [
    "ma_liste = [1, 2, 3, 4]\n",
    "\n",
    "print(\"LISTE : \")\n",
    "print(\"La longueur de ma liste est de\", len(ma_liste))\n",
    "print(\"Le premier élément de ma liste est :\", ma_liste[0])\n",
    "print(\"Le dernier élément de ma liste est :\", ma_liste[3])\n",
    "print(\"Le dernier élément de ma liste est :\", ma_liste[-1])\n",
    "\n",
    "\n",
    "ma_liste[0] = 'Nouvelle valeur' # on change le premier élément\n",
    "print(\"Après changement du premier élément :\", ma_liste)\n",
    "\n",
    "print(\"\\nDICTIONNAIRE : \")\n",
    "# un dictionnaire qui associe à une ville (clef) son département (valeur)\n",
    "mon_dico = { 'Paris': 75 , 'Chartres': 28, 'Orléans': 45, 'Tours': 37} \n",
    "print(mon_dico) \n",
    "\n",
    "mon_dico['Paris'] = 'Soixante-quinze' # on change la valeur pour la clef Paris\n",
    "print(\"Après changement de la valeur pour la clef Paris :\\n\", mon_dico)"
   ]
  },
  {
   "cell_type": "markdown",
   "metadata": {},
   "source": [
    "#### Un autre exemple : dictionnaire avec des valeurs de types différents"
   ]
  },
  {
   "cell_type": "code",
   "execution_count": 63,
   "metadata": {},
   "outputs": [],
   "source": [
    "mon_dico =  \\\n",
    "{ 'Paris' : [1, 2, 3, 4, 5, 6, 7, 8, 9, 10, 11, 12, 13, 14, 15, 16, 17, 18, 19, 20] , \n",
    "  'Chartres' : \"Eure et Loir\",\n",
    "  'Washington' : [\"Not in Europe\", \"USA\"]}"
   ]
  },
  {
   "cell_type": "code",
   "execution_count": 64,
   "metadata": {},
   "outputs": [
    {
     "name": "stdout",
     "output_type": "stream",
     "text": [
      "[1, 2, 3, 4, 5, 6, 7, 8, 9, 10, 11, 12, 13, 14, 15, 16, 17, 18, 19, 20]\n",
      "Eure et Loir\n",
      "['Not in Europe', 'USA']\n"
     ]
    }
   ],
   "source": [
    "print(mon_dico['Paris']) # on affiche une liste d'entiers\n",
    "print(mon_dico['Chartres']) # on affiche une chaîne de caractères\n",
    "print(mon_dico['Washington']) # on affiche une liste de chaînes de caractères"
   ]
  },
  {
   "cell_type": "code",
   "execution_count": 65,
   "metadata": {},
   "outputs": [],
   "source": [
    "# mon_dico[\"Paris\"] = \"Modification demandée\""
   ]
  },
  {
   "cell_type": "code",
   "execution_count": 66,
   "metadata": {},
   "outputs": [],
   "source": [
    "# mon_dico[\"Strasbourg\"] = mon_dico[\"Paris\"]\n",
    "# del mon_dico[\"Paris\"]"
   ]
  },
  {
   "cell_type": "code",
   "execution_count": 67,
   "metadata": {},
   "outputs": [
    {
     "name": "stdout",
     "output_type": "stream",
     "text": [
      "<class 'dict'>\n",
      "<class 'list'>\n",
      "<class 'list'>\n"
     ]
    }
   ],
   "source": [
    "print(type(mon_dico))\n",
    "print(type(ma_liste))\n",
    "print(type(mon_dico[\"Paris\"]))"
   ]
  },
  {
   "cell_type": "markdown",
   "metadata": {},
   "source": [
    "<a id='3c'></a>\n",
    "\n",
    "### 3.c. Quelques méthodes sur les types muables (listes et dictionnaires)\n",
    "\n",
    "#### Premiers exemples de méthode\n",
    "\n",
    "Les méthodes sont des actions qui s'appliquent à un objet. \n",
    "Nous allons nous intéresser à quelques méthodes sur les listes et dictionnaires   \n",
    " \n",
    "#### Une méthode pour les listes \n",
    "\n",
    "- Pour ajouter un item dans une liste : on va utiliser la méthode `.append()`\n",
    "- Pour trier une liste : on va utiliser la méthode `.sort()`\n",
    "\n",
    "\n",
    "#### Une méthode pour les dictionnaires\n",
    "\n",
    "- Pour connaitre l'ensemble des clés d'un dictionnaire, on appelle la méthode `.keys()`\n",
    "- Pour connaitre l'ensemble des valeurs d'un dictionnaire, on appelle la méthode `.values()`\n",
    "- Pour connaitre la liste des couples clefs/valeurs d'un dictionnaire, on appelle la méthode `.items()`\n",
    "\n",
    "\n",
    "\n",
    "#### Afficher les méthodes existantes pour un objet\n",
    "\n",
    "  - taper help(mon_objet) ou mon_objet? dans la console iPython\n",
    "  - taper mon_objet. + touche Tab dans votre IDE ou dans le notebook.  Tab permet d'afficher la complétion semi-automatique : c'est à dire qu'il propose plusieurs choix de saisie de caractères, qui feraient sens par rapport à ce que vous avez déjà tapé.\n",
    "  \n",
    "#### Exemples : "
   ]
  },
  {
   "cell_type": "code",
   "execution_count": 69,
   "metadata": {},
   "outputs": [
    {
     "name": "stdout",
     "output_type": "stream",
     "text": [
      "Méthodes sur les listes:\n",
      "avant insertion d'un nouvel élément [1, 2, 3, 4, 5]\n",
      "après insertion d'un nouvel élément [1, 2, 3, 4, 5, -1]\n",
      "après tri dans l'ordre croissant [-1, 1, 2, 3, 4, 5]\n",
      "\n",
      "Méthodes sur les dictionnaires:\n",
      "clefs :  dict_keys(['Max', 'Hubert'])\n",
      "valeurs :  dict_values([14, 17])\n",
      "items :  dict_items([('Max', 14), ('Hubert', 17)])\n"
     ]
    }
   ],
   "source": [
    "print(\"Méthodes sur les listes:\")\n",
    "my_list = [1, 2, 3, 4, 5]\n",
    "print(\"avant insertion d'un nouvel élément\", my_list)\n",
    "\n",
    "my_list.append(-1)\n",
    "print(\"après insertion d'un nouvel élément\", my_list)\n",
    "\n",
    "my_list.sort()\n",
    "print(\"après tri dans l'ordre croissant\", my_list)\n",
    "\n",
    "print(\"\\nMéthodes sur les dictionnaires:\")\n",
    "\n",
    "my_dict = {\"Max\": 14, \"Hubert\": 17}\n",
    "print(\"clefs : \",my_dict.keys())\n",
    "print(\"valeurs : \", my_dict.values())\n",
    "print(\"items : \", my_dict.items())"
   ]
  },
  {
   "cell_type": "markdown",
   "metadata": {},
   "source": [
    "<a id='3d'></a>\n",
    "### 3.d Syntaxe pour les types muables"
   ]
  },
  {
   "cell_type": "markdown",
   "metadata": {},
   "source": [
    "#### Syntaxe pour les listes :"
   ]
  },
  {
   "cell_type": "code",
   "execution_count": 70,
   "metadata": {},
   "outputs": [
    {
     "name": "stdout",
     "output_type": "stream",
     "text": [
      "Is name in the list ? True\n",
      "['Jax', 'Jack', 'Jacques', 'Jake', 'Max', 'Maxime', 'Maxi']\n",
      "Jack\n",
      "l[1:3] ['Jack', 'Jacques']\n",
      "4 Jack Jax\n",
      "['Jacques', 'Jake']\n"
     ]
    }
   ],
   "source": [
    "#########################################\n",
    "## Initialiser des listes\n",
    "#########################################\n",
    "\n",
    "l = [1, 2] # on initialise une liste avec deux entiers\n",
    "\n",
    "l = [\"un\", 1, \"deux\", 2] # création d’une liste composée de 2 chaînes de caractères\n",
    "# et de deux entiers, l’ordre d’écriture est important\n",
    "\n",
    "x = [3] # initialisation d’une liste d’un élément, sans la virgule,\n",
    "x = [] # initialisation d'une liste vide\n",
    "x = list() # initialisation d'une liste vide\n",
    "\n",
    "#########################################\n",
    "## Tester si un object est dans une liste\n",
    "#########################################\n",
    "name = \"Jax\"\n",
    "l = [\"Jax\", \"Jack\",\"Jacques\",\"Jake\"]\n",
    "print(\"Is name in the list ?\", name in l) # name in l = True car le string Jax est bien dans la liste\n",
    "\n",
    "#########################################\n",
    "## Concaténer deux listes\n",
    "#########################################\n",
    "l_other_names = [\"Max\",\"Maxime\", \"Maxi\"]\n",
    "print(l + l_other_names) # concaténation de l et l_other_names\n",
    "\n",
    "print(l[1]) # affiche l'élément 1 (deuxième position)\n",
    "\n",
    "print(\"l[1:3]\", l[1:3]) # affiche de l'élément 1 (deuxième position) jusqu'à l'élément 3 exclus \n",
    "       # (donc jusqu'à l'élément 2 qui est justement le troisième)\n",
    "\n",
    "#########################################\n",
    "## Longueur, Maximum et Minimum\n",
    "#########################################\n",
    "\n",
    "longueur = len(l) # Nombre d'éléments dans l\n",
    "minimum = min(l) # plus petit élément de l, ici par ordre alphabétique\n",
    "maximum = max(l) # plus grand élément de l, ici par ordre alphabétique\n",
    "print(longueur,minimum,maximum)\n",
    "\n",
    "#########################################\n",
    "## Suppression dans la liste\n",
    "#########################################\n",
    "\n",
    "del l[0:2] # supprime les éléments entre la position 0 et 2 exclue\n",
    "print(l)"
   ]
  },
  {
   "cell_type": "code",
   "execution_count": 75,
   "metadata": {},
   "outputs": [],
   "source": [
    "# min([\"a\", \"z\"]), max([\"a\", \"z\"])"
   ]
  },
  {
   "cell_type": "markdown",
   "metadata": {},
   "source": [
    "#### Syntaxe pour les dictionnaires :"
   ]
  },
  {
   "cell_type": "code",
   "execution_count": 78,
   "metadata": {},
   "outputs": [
    {
     "name": "stdout",
     "output_type": "stream",
     "text": [
      "Max dans les clefs ?\n",
      "True\n",
      "1 dans les clefs ?\n",
      "False\n",
      "\n",
      "Valeur de la clef Max :\n",
      "1\n",
      "\n",
      "Ajout de la clef Francine avec 3 pour valeur\n",
      "{'Max': 1, 'Hubert': 2, 'Francine': 3}\n",
      "3\n",
      "\n",
      "Avant et après suppression de la clef Francine\n",
      "{'Max': 1, 'Hubert': 2, 'Francine': 3}\n",
      "{'Max': 1, 'Hubert': 2}\n"
     ]
    }
   ],
   "source": [
    "#########################################\n",
    "## Initialiser des dictionnaires\n",
    "#########################################\n",
    "\n",
    "d = {\"Max\":1, \"Hubert\":2} # on initialise un dictionnaire\n",
    "\n",
    "d = {} # on initialise un dictionnaire vide\n",
    "d = dict() \n",
    "\n",
    "#########################################\n",
    "## Tester si un object est une clef du dictionnaire\n",
    "#########################################\n",
    "d = {\"Max\":1, \"Hubert\":2} \n",
    "name = \"Max\"\n",
    "print('Max dans les clefs ?')\n",
    "print(name in d) # (name in d = True) car Max est bien dans les clefs\n",
    "\n",
    "\n",
    "print('1 dans les clefs ?')\n",
    "value = 1\n",
    "print(value in d)  ### False, car on test si la valeur est dans les clefs\n",
    "\n",
    "#########################################\n",
    "## Afficher la valeur associée à une clef\n",
    "#########################################\n",
    "d = {\"Max\":1, \"Hubert\":2} \n",
    "print(\"\\nValeur de la clef Max :\")\n",
    "print(d[\"Max\"])\n",
    "\n",
    "\n",
    "#########################################\n",
    "## Ajouter un couple clef / valeur\n",
    "#########################################\n",
    "d = {\"Max\":1, \"Hubert\":2} \n",
    "d['Francine'] = 3\n",
    "print(\"\\nAjout de la clef Francine avec 3 pour valeur\")\n",
    "print(d)\n",
    "\n",
    "#########################################\n",
    "## Longueur, Maximum et Minimum\n",
    "#########################################\n",
    "\n",
    "longueur = len(d) # nombres de couples clef/valeur\n",
    "print(longueur)\n",
    "\n",
    "#########################################\n",
    "## Suppression dans la liste\n",
    "#########################################\n",
    "\n",
    "print(\"\\nAvant et après suppression de la clef Francine\")\n",
    "print(d)\n",
    "del d[\"Francine\"] # supprime le couple clef / valeur Francine\n",
    "print(d)"
   ]
  },
  {
   "cell_type": "markdown",
   "metadata": {},
   "source": [
    "<a id='exercices'> </a>\n",
    "# Exercices \n",
    "   - Quelle est la position de 7 dans la liste suivante"
   ]
  },
  {
   "cell_type": "code",
   "execution_count": 80,
   "metadata": {},
   "outputs": [
    {
     "data": {
      "text/plain": [
       "1"
      ]
     },
     "execution_count": 80,
     "metadata": {},
     "output_type": "execute_result"
    }
   ],
   "source": [
    "liste_nombres = [1,2,7,5,3,2]\n",
    "# En python : indice 2\n",
    "# En français : indice 3\n",
    "liste_nombres.index(2)"
   ]
  },
  {
   "cell_type": "markdown",
   "metadata": {},
   "source": [
    "- Comment afficher toutes les positions de la valeur 7 dans la liste suivante : \n"
   ]
  },
  {
   "cell_type": "code",
   "execution_count": 83,
   "metadata": {},
   "outputs": [],
   "source": [
    "liste_nombres = [1,2,7,5,3,7,7,7]\n",
    "# liste_nombres.index(7)\n",
    "# del liste_nombres[0:3]\n",
    "# liste_nombres"
   ]
  },
  {
   "cell_type": "markdown",
   "metadata": {},
   "source": [
    "- Combien de clés a ce dictionnaire ?     "
   ]
  },
  {
   "cell_type": "code",
   "execution_count": 84,
   "metadata": {},
   "outputs": [
    {
     "data": {
      "text/plain": [
       "3"
      ]
     },
     "execution_count": 84,
     "metadata": {},
     "output_type": "execute_result"
    }
   ],
   "source": [
    "dictionnaire_articles = {\"Manger\" : \"Nutella\", \n",
    "                          \"Boire\" : [\"Eau\",\"Jus de pomme\"] , \n",
    "                          \"Dormir\" : \"Lit\" }\n",
    "len(dictionnaire_articles)"
   ]
  },
  {
   "cell_type": "markdown",
   "metadata": {},
   "source": [
    "- Que faut-il écrire pour obtenir \"Jus de pomme\" en résultat à partir du dictionnaire_articles ? Afficher cette valeur avec Python"
   ]
  },
  {
   "cell_type": "code",
   "execution_count": 85,
   "metadata": {},
   "outputs": [
    {
     "data": {
      "text/plain": [
       "'Jus de pomme'"
      ]
     },
     "execution_count": 85,
     "metadata": {},
     "output_type": "execute_result"
    }
   ],
   "source": [
    "dictionnaire_articles[\"Boire\"][1]"
   ]
  },
  {
   "cell_type": "markdown",
   "metadata": {},
   "source": [
    "Effectuer les actions suivantes : \n",
    "- Définir la liste allant de 1 à 100\n",
    "- Ajouter le nombre 101 à la fin de la liste\n",
    "- Afficher la liste\n",
    "- Ajouter le nombre 0 à la fin de la liste\n",
    "- Afficher la liste\n",
    "- Triez et affichez la liste \n",
    "- Définir une deuxième liste contenant les valeurs \"Manger\" et \"Dormir\"\n",
    "- Créer une nouvelle liste égale à la concaténation des deux listes \n",
    "- Afficher la longueur de cette nouvelle liste\n",
    "- Dans cette nouvelle liste : Afficher l’indice de l’élément 72\n",
    "- Dans cette nouvelle liste : Afficher le dernier élément\n",
    "- Dans cette nouvelle liste : Afficher la sous-liste du 10ème au 14ème élément\n",
    "- Dans cette nouvelle liste : Afficher la sous-liste du 90ème élément à la fin de la liste"
   ]
  },
  {
   "cell_type": "code",
   "execution_count": 2,
   "metadata": {},
   "outputs": [
    {
     "name": "stdout",
     "output_type": "stream",
     "text": [
      "[1, 2, 3, 4, 5, 6, 7, 8, 9, 10, 11, 12, 13, 14, 15, 16, 17, 18, 19, 20, 21, 22, 23, 24, 25, 26, 27, 28, 29, 30, 31, 32, 33, 34, 35, 36, 37, 38, 39, 40, 41, 42, 43, 44, 45, 46, 47, 48, 49, 50, 51, 52, 53, 54, 55, 56, 57, 58, 59, 60, 61, 62, 63, 64, 65, 66, 67, 68, 69, 70, 71, 72, 73, 74, 75, 76, 77, 78, 79, 80, 81, 82, 83, 84, 85, 86, 87, 88, 89, 90, 91, 92, 93, 94, 95, 96, 97, 98, 99, 100, 101]\n",
      "[1, 2, 3, 4, 5, 6, 7, 8, 9, 10, 11, 12, 13, 14, 15, 16, 17, 18, 19, 20, 21, 22, 23, 24, 25, 26, 27, 28, 29, 30, 31, 32, 33, 34, 35, 36, 37, 38, 39, 40, 41, 42, 43, 44, 45, 46, 47, 48, 49, 50, 51, 52, 53, 54, 55, 56, 57, 58, 59, 60, 61, 62, 63, 64, 65, 66, 67, 68, 69, 70, 71, 72, 73, 74, 75, 76, 77, 78, 79, 80, 81, 82, 83, 84, 85, 86, 87, 88, 89, 90, 91, 92, 93, 94, 95, 96, 97, 98, 99, 100, 101, 0]\n",
      "[0, 1, 2, 3, 4, 5, 6, 7, 8, 9, 10, 11, 12, 13, 14, 15, 16, 17, 18, 19, 20, 21, 22, 23, 24, 25, 26, 27, 28, 29, 30, 31, 32, 33, 34, 35, 36, 37, 38, 39, 40, 41, 42, 43, 44, 45, 46, 47, 48, 49, 50, 51, 52, 53, 54, 55, 56, 57, 58, 59, 60, 61, 62, 63, 64, 65, 66, 67, 68, 69, 70, 71, 72, 73, 74, 75, 76, 77, 78, 79, 80, 81, 82, 83, 84, 85, 86, 87, 88, 89, 90, 91, 92, 93, 94, 95, 96, 97, 98, 99, 100, 101]\n",
      "104\n",
      "72\n",
      "dernier : Dormir\n",
      "sous_liste de 10 à 14 inclus [10, 11, 12, 13, 14]\n",
      "sous_liste de 90 à la fin [90, 91, 92, 93, 94, 95, 96, 97, 98, 99, 100, 101, 'Manger', 'Dormir']\n"
     ]
    }
   ],
   "source": [
    "# Définir la liste allant de 1 à 100\n",
    "l = list(range(1, 101))\n",
    "\n",
    "# Ajouter le nombre 101 à la fin de la liste\n",
    "l.append(101)\n",
    "\n",
    "# Afficher la liste\n",
    "print(l)\n",
    "\n",
    "# Ajouter le nombre 0 à la fin de la liste\n",
    "l.append(0)\n",
    "\n",
    "# Afficher la liste\n",
    "print(l)\n",
    "\n",
    "# Triez et affichez la liste \n",
    "l.sort()  \n",
    "## Attention print(l.sort()) affiche None, \n",
    "## car il s'agit d'une ligne qui effectue une opération, pas l directement\n",
    "print(l)\n",
    "\n",
    "# Définir une deuxième liste contenant les valeurs \"Manger\" et \"Dormir\"\n",
    "l_string = [\"Manger\", \"Dormir\"]\n",
    "\n",
    "# Créer une nouvelle liste égale à la concaténation des deux listes \n",
    "l_new = l + l_string\n",
    "\n",
    "# Afficher la longueur de cette nouvelle liste\n",
    "print(len(l_new))\n",
    "\n",
    "# Dans cette nouvelle liste : Afficher l’indice de l’élément 72\n",
    "print(l_new.index(72))\n",
    "\n",
    "\n",
    "# Dans cette nouvelle liste : Afficher le dernier élément\n",
    "print(\"dernier :\", l_new[-1])\n",
    "\n",
    "# Dans cette nouvelle liste : Afficher la sous-liste du 10ème au 14ème élément\n",
    "print(\"sous_liste de 10 à 14 inclus\", l_new[10:15])\n",
    "\n",
    "# Dans cette nouvelle liste : Afficher la sous-liste du 90ème élément à la fin de la liste\n",
    "print(\"sous_liste de 90 à la fin\", l_new[90:])"
   ]
  },
  {
   "cell_type": "markdown",
   "metadata": {},
   "source": [
    "\n",
    "\n",
    "Construire le dictionnaire des 7 jours de la semaine avec :\n",
    "- Comme clef le nom du jour\n",
    "- Comme valeur : 1 pour lundi, 2 pour mardi...\n",
    "- Créer une nouvelle clef week-end avec pour valeur '1-2'\n",
    "- Afficher les clefs du dictionnaire\n",
    "- Afficher les valeurs du dictionnaire\n",
    "- type(item) renvoie le type de le la variable item : afficher le type de deux valeurs du dictionnaire de type différents"
   ]
  },
  {
   "cell_type": "code",
   "execution_count": 1,
   "metadata": {},
   "outputs": [
    {
     "name": "stdout",
     "output_type": "stream",
     "text": [
      "dict_keys(['lundi', 'mardi', 'mercredi', 'jeudi', 'vendredi', 'samedi', 'dimanche', 'week-end'])\n",
      "dict_values([1, 2, 3, 4, 5, 6, 7, '1-2'])\n",
      "un type string : <class 'str'>\n",
      "un type entier : <class 'int'>\n"
     ]
    }
   ],
   "source": [
    "d = {\"lundi\": 1,\n",
    "    \"mardi\": 2,\n",
    "    \"mercredi\": 3,\n",
    "    \"jeudi\": 4,\n",
    "    \"vendredi\": 5,\n",
    "    \"samedi\": 6,\n",
    "    \"dimanche\": 7}\n",
    "\n",
    "# Créer nouveau couple clef / valeurs\n",
    "d[\"week-end\"] = '1-2'\n",
    "\n",
    "# Clefs\n",
    "print(d.keys())\n",
    "\n",
    "# Valeurs\n",
    "print(d.values())\n",
    "\n",
    "\n",
    "print(\"un type string :\", type(d[\"week-end\"]))\n",
    "\n",
    "print(\"un type entier :\", type(d[\"lundi\"]))"
   ]
  },
  {
   "cell_type": "code",
   "execution_count": null,
   "metadata": {},
   "outputs": [],
   "source": []
  }
 ],
 "metadata": {
  "kernelspec": {
   "display_name": "Python 3 (ipykernel)",
   "language": "python",
   "name": "python3"
  },
  "language_info": {
   "codemirror_mode": {
    "name": "ipython",
    "version": 3
   },
   "file_extension": ".py",
   "mimetype": "text/x-python",
   "name": "python",
   "nbconvert_exporter": "python",
   "pygments_lexer": "ipython3",
   "version": "3.9.7"
  }
 },
 "nbformat": 4,
 "nbformat_minor": 4
}

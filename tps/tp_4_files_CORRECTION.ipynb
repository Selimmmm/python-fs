{
 "cells": [
  {
   "cell_type": "markdown",
   "metadata": {},
   "source": [
    "# **Python**\n",
    "# **TP 4 - Manipulation de fichiers**\n",
    "\n",
    "\n",
    "\n",
    "***\n",
    "\n",
    "[**Notions**](#notions)\n",
    "\n",
    "1. [Nom des fichiers dans le dossier courant](#1)\n",
    "2. [Créer et écrire dans un fichier un fichier](#2)\n",
    "3. [Ajouter du texte à un fichier existant](#3)\n",
    "4. [Python : modes d'ouvertures d'un fichier (File Modes)](#4)\n",
    "5. [Lire un fichier](#5)\n",
    "6. [Pickle : sauvegarder n'importe quel objet Python](#6)\n",
    "\n",
    "\n",
    "*** \n",
    "\n",
    "[**Exercices**](#exercices)\n",
    "\n",
    "1. Fichiers du dossier courant\n",
    "2. Fichiers et datetimes\n",
    "3. Zen of Python\n",
    "\n",
    "\n",
    "***\n"
   ]
  },
  {
   "cell_type": "markdown",
   "metadata": {},
   "source": [
    "<a id='1'></a>\n",
    "## 1. Nom des fichiers dans le dossier courant\n",
    "-  La fonction `listdir` du packages `os` permet de renvoyer les noms de tous les fichiers dans le dossier courant"
   ]
  },
  {
   "cell_type": "code",
   "execution_count": null,
   "metadata": {},
   "outputs": [],
   "source": []
  },
  {
   "cell_type": "code",
   "execution_count": 4,
   "metadata": {},
   "outputs": [
    {
     "data": {
      "text/plain": [
       "True"
      ]
     },
     "execution_count": 4,
     "metadata": {},
     "output_type": "execute_result"
    }
   ],
   "source": [
    "\"alalala.txt\".endswith(\".txt\")\n",
    "\"alalala.txt\".startswith(\"alal\")"
   ]
  },
  {
   "cell_type": "code",
   "execution_count": 1,
   "metadata": {},
   "outputs": [
    {
     "name": "stdout",
     "output_type": "stream",
     "text": [
      "/Users/selim/repos/python-course-intermediate\n",
      "Tous les fichiers présents dans le dossier courant :\n",
      "['tp_6_webscraping_bs_STUDENT.ipynb', 'Untitled.ipynb', 'tp_4_files_STUDENT.ipynb', 'tp_1_syntaxe_variables_et_types_STUDENT.ipynb', 'README.md', 'tp_2_test_boucle_fonction_STUDENT.ipynb', 'tp_5_http_api_STUDENT.ipynb', '.ipynb_checkpoints', 'notes.md', '.git', 'tp_3_algorithmie_STUDENT.ipynb'] \n",
      "\n",
      "Tous les fichiers .txt présents dans le dossier courant :\n",
      "[]\n"
     ]
    }
   ],
   "source": [
    "import os\n",
    "\n",
    "\n",
    "# Voir le dossier courant\n",
    "print(os.getcwd())\n",
    "\n",
    "# Tous les fichiers dans le dossier courant\n",
    "print(\"Tous les fichiers présents dans le dossier courant :\")\n",
    "print(os.listdir(), \"\\n\")\n",
    "\n",
    "# Tous les fichiers de type .ipynb\n",
    "print(\"Tous les fichiers .ipynb présents dans le dossier courant :\")\n",
    "txt_files = [filename for filename in os.listdir() if filename.endswith(\".ipynb\")]\n",
    "print(txt_files)"
   ]
  },
  {
   "cell_type": "markdown",
   "metadata": {},
   "source": [
    "<a id='2'></a>\n",
    "## 2. Créer et écrire dans un fichier"
   ]
  },
  {
   "cell_type": "markdown",
   "metadata": {},
   "source": [
    "- On déclare la variable f égale au fichier `file.txt`.\n",
    "- Le premier argument de la fonction `open` est le nom du fichier\n",
    "- Le deuxième, `w`, indique que l'on veut pouvoir écrire dans le fichier, le `+`indique qu'on veut pouvoir lire et écrire (read and write)"
   ]
  },
  {
   "cell_type": "code",
   "execution_count": 22,
   "metadata": {},
   "outputs": [],
   "source": [
    "file = open(\"file_2.txt\",\"w+\")"
   ]
  },
  {
   "cell_type": "markdown",
   "metadata": {},
   "source": [
    "- On écrit dans le fichier sur les 10 premières lignes un message indiquant le numéro de la ligne\n",
    "- On ferme le fichier"
   ]
  },
  {
   "cell_type": "code",
   "execution_count": 23,
   "metadata": {},
   "outputs": [],
   "source": [
    "for i in range(10):\n",
    "    # Ecrire une ligne, le \\n indique un retour à la ligne\n",
    "    file.write(f\"Ligne numéro {i}\\n\")\n",
    "\n",
    "# Fermer le fichier\n",
    "file.close() "
   ]
  },
  {
   "cell_type": "markdown",
   "metadata": {},
   "source": [
    "<a id='3'></a>\n",
    "\n",
    "## 3. Ajouter du texte à un fichier existant"
   ]
  },
  {
   "cell_type": "markdown",
   "metadata": {},
   "source": [
    "- Le `a` indique 'append' c'est à dire ajouter (comme pour la méthode pour les listes)\n",
    "- Le `+`indique qu'on est en mode `read` and `write`"
   ]
  },
  {
   "cell_type": "code",
   "execution_count": 24,
   "metadata": {},
   "outputs": [],
   "source": [
    "file = open(\"file_2.txt\", \"a+\")\n",
    "\n",
    "for i in range(20):\n",
    "     file.write(f\"Ligne ajoutée line {i}\\n\")\n",
    "        \n",
    "file.close()"
   ]
  },
  {
   "cell_type": "markdown",
   "metadata": {},
   "source": [
    "<a id='4'></a>\n",
    "\n",
    "## 4. Python : modes d'ouvertures d'un fichier (File Modes)\n",
    "\n",
    "- 'r' : Mode par défaut. Ouvre un fichier pour le lire.\n",
    "- 'w': Ouvre un fichier pour écrire. Si le fichier n'existe pas, il est créé. (RISQUE d'ECRASÉMENT)\n",
    "- 'x': Crée un nouveau fichier. Si le fichier existe déjà, l'opération échoue.\n",
    "- 'a': Ouvre un fichier en mode `append`. S'il n'existe pas, il est créé.\n",
    "- 't': Mode par défaut, ouvre un fichier `text`\n",
    "- 'b': Ouvre un fichier de `bytes`\n",
    "- '+': On indique qu'on veut ouvrir pour lire et écrire"
   ]
  },
  {
   "cell_type": "code",
   "execution_count": 25,
   "metadata": {},
   "outputs": [],
   "source": [
    "file = open(\"file_2.txt\", \"at+\")\n",
    "\n",
    "for i in range(2):\n",
    "     file.write(f\"Ligne ajoutée ++ line {i}\\n\")\n",
    "        \n",
    "file.close()"
   ]
  },
  {
   "cell_type": "markdown",
   "metadata": {},
   "source": [
    "<a id='5'></a>\n",
    "\n",
    "## 5. Lire un fichier\n",
    "- On peut utilier la méthode `.read()` qui lit le fichier en entier et renvoie une chaîne de caractères\n",
    "- On peut utilier la méthode `.readlines()` pour lire ligne par ligne"
   ]
  },
  {
   "cell_type": "code",
   "execution_count": 28,
   "metadata": {},
   "outputs": [
    {
     "name": "stdout",
     "output_type": "stream",
     "text": [
      "<class 'str'> \n",
      "\n",
      "<class 'list'> \n",
      "\n"
     ]
    }
   ],
   "source": [
    "file = open(\"file_2.txt\", \"r\")\n",
    "content = file.read()\n",
    "print(type(content), \"\\n\")\n",
    "\n",
    "file = open(\"file_2.txt\", \"r\")\n",
    "lines = file.readlines()\n",
    "print(type(lines), \"\\n\")\n",
    "\n",
    "file.close()"
   ]
  },
  {
   "cell_type": "markdown",
   "metadata": {},
   "source": [
    "<a id='6'></a>\n",
    "## 6. Pickle : sauvegarder n'importe quel objet Python\n",
    "\n",
    "- On peut avec le package `pickle` garder une copie physique de n'importe quel objet Python (peu importe son type)\n"
   ]
  },
  {
   "cell_type": "code",
   "execution_count": 32,
   "metadata": {},
   "outputs": [
    {
     "name": "stdout",
     "output_type": "stream",
     "text": [
      "fichier enregistré {'Max': 20, 'André': 37}\n",
      "fichier ouvert {'Max': 20, 'André': 37}\n"
     ]
    }
   ],
   "source": [
    "# Save a dictionary into a pickle file.\n",
    "import pickle\n",
    "\n",
    "# On définit un dictionnaire\n",
    "my_dict = { \"Max\": 20, \"André\": 37 }\n",
    "\n",
    "# On enregistre le dictionnaire au format pickle dans le fichier my_dict.p\n",
    "# le b dans \"wb\" indique que l'on écrit des bytes\n",
    "pickle.dump( my_dict, open(\"my_dict.p\", \"wb\" ), protocol=pickle.HIGHEST_PROTOCOL)\n",
    "\n",
    "# On réouvre ce fichier\n",
    "# le b dans \"wb\" indique que l'on lit des bytes\n",
    "my_dict_opened = pickle.load( open(\"my_dict.p\", \"rb\" ) )\n",
    "\n",
    "assert my_dict == my_dict_opened\n",
    "\n",
    "# Vérification\n",
    "print(\"fichier enregistré\", my_dict)\n",
    "print(\"fichier ouvert\", my_dict_opened)"
   ]
  },
  {
   "cell_type": "markdown",
   "metadata": {},
   "source": [
    "<a id='7'></a>\n",
    "\n",
    "## 7. La syntaxe `with`"
   ]
  },
  {
   "cell_type": "code",
   "execution_count": 33,
   "metadata": {},
   "outputs": [
    {
     "name": "stdout",
     "output_type": "stream",
     "text": [
      "fichier enregistré {'Max': 20, 'André': 37, 'Hubert': 19}\n",
      "fichier ouvert {'Max': 20, 'André': 37, 'Hubert': 19}\n"
     ]
    }
   ],
   "source": [
    "# Syntaxe alternartive\n",
    "\n",
    "import pickle\n",
    "\n",
    "my_dict_2 = { \"Max\": 20, \"André\": 37 , \"Hubert\": 19}\n",
    "\n",
    "# le b dans \"wb\" indique que l'on écrit des bytes\n",
    "with open('my_dict_2.pickle', 'wb') as file:\n",
    "    pickle.dump(my_dict_2, file, protocol=pickle.HIGHEST_PROTOCOL)\n",
    "\n",
    "# le b dans \"wb\" indique que l'on lit des bytes\n",
    "with open('my_dict_2.pickle', 'rb') as file:\n",
    "    my_dict_2_opened = pickle.load(file)\n",
    "\n",
    "assert my_dict_2 == my_dict_2_opened\n",
    "\n",
    "# Vérification\n",
    "print(\"fichier enregistré\", my_dict_2)\n",
    "print(\"fichier ouvert\", my_dict_2_opened)"
   ]
  },
  {
   "cell_type": "markdown",
   "metadata": {},
   "source": [
    "<a id='exercices'></a>\n",
    "## Exercices"
   ]
  },
  {
   "cell_type": "markdown",
   "metadata": {},
   "source": [
    "## Exercice 1 - Fichiers du dossier courant\n",
    "- Ecrire une fonction qui crée un fichier appelé `liste_noms_des_fichiers`, et qui écrit dans ce fichier la liste des noms des fichiers présents dans le dossier courant\n",
    "\n",
    "- Ecrire une fonction qui renvoie un dictionnaire avec en clef les extentions présentes et en valeurs le nombre de fichiers avec cette extension, par exemple : \n",
    "```\n",
    "{\".txt\": 2, \n",
    "\".pdf\": 2,\n",
    "\".ipynb\": 4, \n",
    "\".py\": 2, \n",
    "}\n",
    "```"
   ]
  },
  {
   "cell_type": "markdown",
   "metadata": {},
   "source": [
    "## Exercice 1 - correction"
   ]
  },
  {
   "cell_type": "code",
   "execution_count": 2,
   "metadata": {},
   "outputs": [
    {
     "name": "stdout",
     "output_type": "stream",
     "text": [
      "['qcm.ipynb', 'tp_6_webscraping_bs_STUDENT.ipynb', 'my_dict.p', 'my_dict_2.pickle', 'file_2.txt', 'tp_7_classes.ipynb', 'Untitled.ipynb', 'tp_2_test_boucle_fonction_CORRECTION.ipynb', 'liste_noms_des_fichiers_new.txt', 'tp_4_files_STUDENT.ipynb', 'tp_1_syntaxe_variables_et_types_STUDENT.ipynb', 'tp_4_files_CORRECTION.ipynb', 'README.md', 'file_test', 'tp_3_algorithmie_CORRECTION.ipynb', 'tp_2_test_boucle_fonction_STUDENT.ipynb', 'tp_5_http_api_STUDENT.ipynb', '.ipynb_checkpoints', 'notes.md', '.git', 'participation.txt', 'tp_1_syntaxe_variables_et_types_CORRECTION.ipynb', 'tp_3_algorithmie_STUDENT.ipynb']\n"
     ]
    },
    {
     "data": {
      "text/plain": [
       "{'ipynb': 13, 'p': 1, 'pickle': 1, 'txt': 3, 'md': 2}"
      ]
     },
     "execution_count": 2,
     "metadata": {},
     "output_type": "execute_result"
    }
   ],
   "source": [
    "import os\n",
    "\n",
    "def lister_fichiers():\n",
    "    file = open(\"liste_noms_des_fichiers_new.txt\", \"w+\")\n",
    "    filenames = os.listdir()\n",
    "    string_filenames = \"\\n\".join(filenames)\n",
    "    file.write(string_filenames)\n",
    "    file.close()\n",
    "\n",
    "lister_fichiers()\n",
    "file = open(\"file_test\", \"w+\")\n",
    "file.write(\"test\")\n",
    "file.close()\n",
    "\n",
    "def compter_extensions():\n",
    "    \n",
    "    # Liste des fichiers\n",
    "    filenames = os.listdir()\n",
    "    \n",
    "    print(filenames)\n",
    "    \n",
    "    # On retire les fichiers dont le nom commence par un \".\" (fichiers cachés)\n",
    "    filenames = [filename for filename in filenames if not filename.startswith(\".\")]\n",
    "    \n",
    "    d_extensions = {}\n",
    "    \n",
    "    # Nom complet = nom + extension\n",
    "    for filename_and_extension in filenames:\n",
    "        \n",
    "        #print(filename_and_extension)\n",
    "        \n",
    "        # On coupe sur le \".\"\n",
    "        filename_and_extension = filename_and_extension.split(\".\")\n",
    "        \n",
    "        #print(filename_and_extension)\n",
    "        \n",
    "        # On essaie de prendre le premier et le deuxime object dans la liste obtenue\n",
    "        try:\n",
    "            filename, extension = filename_and_extension[0], filename_and_extension[1]\n",
    "        # Si on n'y arrive pas (il n'y avait pas de \".\" donc on a pas coupé sur le \".\")\n",
    "        except:\n",
    "            continue\n",
    "\n",
    "        # Si première fois qu'on compte cette extension\n",
    "        if extension not in d_extensions:\n",
    "            d_extensions[extension] = 1\n",
    "            \n",
    "        # Si au moins la deuxième fois qu'on compte cette extension\n",
    "        else:\n",
    "            d_extensions[extension] += 1\n",
    "            \n",
    "    return d_extensions\n",
    "\n",
    "compter_extensions()"
   ]
  },
  {
   "cell_type": "markdown",
   "metadata": {},
   "source": [
    "## Exercice 2 - Fichiers et datetimes\n",
    "- Ecrire une fonction qui pendant 30 secondes crée un fichier toutes les 5 secondes (donc 6 fichiers) : \n",
    "    - ce fichier aura comme nom son heure de création\n",
    "    - Il contiendra le numéro du fichier (1 pour le premier,..., 6 pour le dernier)"
   ]
  },
  {
   "cell_type": "markdown",
   "metadata": {},
   "source": [
    "## Exercice 2 - correction"
   ]
  },
  {
   "cell_type": "code",
   "execution_count": null,
   "metadata": {},
   "outputs": [],
   "source": [
    "import datetime\n",
    "\n",
    "# Méthode 1 \n",
    "# On va regarder très régulièrement l'heure qu'il est\n",
    "# Et toutes les 5 secondes écrire un fichier\n",
    "\n",
    "\n",
    "def ecrire_fichier(num_fichier, datetime):\n",
    "    \"\"\"Ecrit un fichier intitulé {datetime}.txt.\n",
    "       Ce fichier contient la mention : Fichier numero {num_fichier}\"\"\"\n",
    "    \n",
    "    # On convertit en string la datetime pour nommer le fichier\n",
    "    filename = datetime.isoformat() + \".txt\"\n",
    "    \n",
    "    # On ouvre le fichier\n",
    "    file = open(filename,\"w+\")\n",
    "    \n",
    "    # On écrit dans le fichier\n",
    "    file.write(f\"Fichier numero {num_fichier}\")\n",
    "    \n",
    "    # On ferme le fichier\n",
    "    file.close() \n",
    "    \n",
    "\n",
    "# Datetime de debut. En remplace les microseconds par 0 pour :\n",
    "    # Plus de lisibilité\n",
    "    # On va générer les autres datetimes en ajoutant 5, 10, 15 seconds...\n",
    "    # On ne propagera donc pas les valeurs de microseconds\n",
    "    \n",
    "# Datetime de début\n",
    "datetime_debut = datetime.datetime.now().replace(microsecond=0)\n",
    "\n",
    "# Toutes les datetimes auxquelles on devra écrire\n",
    "liste_datetime_ecrire = [datetime_debut + datetime.timedelta(seconds=5*x) for x in range(1, 7)]\n",
    "\n",
    "# On stocke les datetimes auxquelles on a déjà écrit (pour ne pas réécrire une deuxième fois)\n",
    "liste_datetime_ecrites = []\n",
    "\n",
    "\n",
    "num_fichier = 1\n",
    "\n",
    "while True:\n",
    "    \n",
    "    # Si on est au 7ème on arrête\n",
    "    if num_fichier == 7:\n",
    "        break\n",
    "    \n",
    "    # Il est cette heure ci\n",
    "    datetime_maintenant =  datetime.datetime.now().replace(microsecond=0)\n",
    "    \n",
    "    # On vérifie que c'est une heure à laquelle on doit écrire\n",
    "    on_doit_ecrire_maintenant = datetime_maintenant in liste_datetime_ecrire\n",
    "    \n",
    "    # On vérifie qu'on a pas déjà écrit à cette heure ci\n",
    "    on_l_a_deja_fait =  datetime_maintenant in liste_datetime_ecrites\n",
    "    \n",
    "    # Cas dans lequel on doit écrire\n",
    "    if on_doit_ecrire_maintenant & (not on_l_a_deja_fait):\n",
    "        \n",
    "        # On écrit le fichier\n",
    "        ecrire_fichier(num_fichier, datetime_maintenant)\n",
    "        print(f'Fichier {num_fichier} écrit à {datetime_maintenant.isoformat()}')\n",
    "        \n",
    "        # On stocke la datetime correspondantes\n",
    "        liste_datetime_ecrites.append(datetime_maintenant)\n",
    "        \n",
    "        # On incrémente le numéro du fichier\n",
    "        num_fichier +=1\n",
    "        \n",
    "    # Dans l'autre cas, on ne fait rien\n",
    "    else:\n",
    "        pass\n",
    "    \n",
    "    \n",
    "# Méthode 2\n",
    "# En utilisant le package time\n",
    "\n",
    "import time \n",
    "\n",
    "for num_fichier in range(1, 7):\n",
    "    \n",
    "    # On attend 5 secondes\n",
    "    time.sleep(5)\n",
    "    \n",
    "    # Datetime actuelle\n",
    "    datetime_maintenant = datetime.datetime.now()\n",
    "    \n",
    "    # On écrit le fichier\n",
    "    ecrire_fichier(num_fichier, datetime_maintenant)\n",
    "    print(f'Fichier {num_fichier} écrit à {datetime_maintenant.isoformat()}')"
   ]
  },
  {
   "cell_type": "markdown",
   "metadata": {},
   "source": [
    "## Exercice 3 - Zen of Python\n",
    "- Ecrire un programme qui crée un fichier et écrit le texte suivant dans ce fichier\n",
    "- Ecrire un programme qui crée un fichier et écrit le texte suivant mais seulement les lettres, espaces et retours à la ligne\n",
    "- Ecrire un programme qui crée un fichier par ligne, avec comme noms 'ligne_1.txt', 'ligne_2.txt', ... et contenant chacun la première ligne, la deuxième etc...\n"
   ]
  },
  {
   "cell_type": "code",
   "execution_count": 35,
   "metadata": {},
   "outputs": [],
   "source": [
    "# import this"
   ]
  },
  {
   "cell_type": "code",
   "execution_count": 36,
   "metadata": {},
   "outputs": [],
   "source": [
    "import this\n",
    "zen_of_python = \"\"\"\n",
    "The Zen of Python, by Tim Peters\n",
    "\n",
    "Beautiful is better than ugly.\n",
    "Explicit is better than implicit.\n",
    "Simple is better than complex.\n",
    "Complex is better than complicated.\n",
    "Flat is better than nested.\n",
    "Sparse is better than dense.\n",
    "Readability counts.\n",
    "Special cases aren't special enough to break the rules.\n",
    "Although practicality beats purity.\n",
    "Errors should never pass silently.\n",
    "Unless explicitly silenced.\n",
    "In the face of ambiguity, refuse the temptation to guess.\n",
    "There should be one-- and preferably only one --obvious way to do it.\n",
    "Although that way may not be obvious at first unless you're Dutch.\n",
    "Now is better than never.\n",
    "Although never is often better than *right* now.\n",
    "If the implementation is hard to explain, it's a bad idea.\n",
    "If the implementation is easy to explain, it may be a good idea.\n",
    "Namespaces are one honking great idea -- let's do more of those!\n",
    "\"\"\""
   ]
  },
  {
   "cell_type": "markdown",
   "metadata": {},
   "source": [
    "## Exercice 3 - correction"
   ]
  },
  {
   "cell_type": "code",
   "execution_count": null,
   "metadata": {},
   "outputs": [],
   "source": [
    "# - Ecrire un programme qui crée un fichier et écrit le texte suivant dans ce fichier\n",
    "\n",
    "# On ouvre le fichier\n",
    "file = open(\"zen_of_python.txt\",\"w+\")\n",
    "\n",
    "# On écrit dans le fichier\n",
    "file.write(zen_of_python)\n",
    "\n",
    "# On ferme le fichier\n",
    "file.close() \n",
    "\n",
    "\n",
    "# - Ecrire un programme qui crée un fichier et écrit le texte suivant mais seulement les lettres, espaces et retours à la ligne\n",
    "\n",
    "# On garde lettres, espaces et retours à la ligne\n",
    "zen_of_python_list_filtered = [s for s in zen_of_python if s.isalpha() or s in [\" \", \"\\n\"] ]\n",
    "#print(zen_of_python_list_filtered)\n",
    "\n",
    "# On transforme la liste obtenue en chaîne de caractères\n",
    "zen_of_python_string_filtered = \"\".join(zen_of_python_list_filtered)\n",
    "#print(zen_of_python_string_filtered)\n",
    "\n",
    "# On ouvre le fichier\n",
    "file = open(\"zen_of_python_filtered.txt\",\"w+\")\n",
    "\n",
    "# On écrit dans le fichier\n",
    "file.write(zen_of_python_string_filtered)\n",
    "\n",
    "# On ferme le fichier\n",
    "file.close() \n",
    "\n",
    "\n",
    "#- Ecrire un programme qui crée un fichier par ligne, avec comme noms 'ligne_1.txt', 'ligne_2.txt', ... et contenant chacun la première ligne, la deuxième etc...\n",
    "\n",
    "# On découpe en ligne et on stocke dans une liste\n",
    "zen_of_python_list = zen_of_python.split(\"\\n\")\n",
    "print(zen_of_python_list)\n",
    "\n",
    "for num_line, line in enumerate(zen_of_python_list):\n",
    "    \n",
    "    # Pour commencer à 1 et pas 0\n",
    "    num_line +=1 \n",
    "    \n",
    "    # On ouvre le fichier\n",
    "    file = open(f\"ligne_{num_line}.txt\",\"w+\")\n",
    "\n",
    "    # On écrit dans le fichier\n",
    "    file.write(line)\n",
    "\n",
    "    # On ferme le fichier\n",
    "    file.close() \n",
    "['', 'The Zen of Python, by Tim Peters', '', 'Beautiful is better than ugly.', 'Explicit is better than implicit.', 'Simple is better than complex.', 'Complex is better than complicated.', 'Flat is better than nested.', 'Sparse is better than dense.', 'Readability counts.', \"Special cases aren't special enough to break the rules.\", 'Although practicality beats purity.', 'Errors should never pass silently.', 'Unless explicitly silenced.', 'In the face of ambiguity, refuse the temptation to guess.', 'There should be one-- and preferably only one --obvious way to do it.', \"Although that way may not be obvious at first unless you're Dutch.\", 'Now is better than never.', 'Although never is often better than *right* now.', \"If the implementation is hard to explain, it's a bad idea.\", 'If the implementation is easy to explain, it may be a good idea.', \"Namespaces are one honking great idea -- let's do more of those!\", '']\n",
    "for num_line, line in enumerate(zen_of_python_list):\n",
    "    num_line +=1 \n",
    "    print(num_line, line[:10])"
   ]
  }
 ],
 "metadata": {
  "kernelspec": {
   "display_name": "Python 3 (ipykernel)",
   "language": "python",
   "name": "python3"
  },
  "language_info": {
   "codemirror_mode": {
    "name": "ipython",
    "version": 3
   },
   "file_extension": ".py",
   "mimetype": "text/x-python",
   "name": "python",
   "nbconvert_exporter": "python",
   "pygments_lexer": "ipython3",
   "version": "3.9.7"
  }
 },
 "nbformat": 4,
 "nbformat_minor": 4
}

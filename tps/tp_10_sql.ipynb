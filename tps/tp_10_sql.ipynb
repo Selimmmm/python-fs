{
 "cells": [
  {
   "cell_type": "markdown",
   "metadata": {},
   "source": [
    "# SQL & Python"
   ]
  },
  {
   "cell_type": "markdown",
   "metadata": {},
   "source": [
    "## Exemple avec SQLite\n",
    "\n",
    "### Connexion à la base de données\n",
    "\n",
    "Pour utiliser SQLite avec Python, on crée une connexion avec une base de données. \n",
    "Si elle n'existe pas elle est crée"
   ]
  },
  {
   "cell_type": "code",
   "execution_count": 43,
   "metadata": {},
   "outputs": [],
   "source": [
    "import sqlite3\n",
    "\n",
    "# Connexion à la base de données (si elle n'existe pas, elle sera créée)\n",
    "conn = sqlite3.connect('data/ma_base_de_donnees.db')"
   ]
  },
  {
   "cell_type": "markdown",
   "metadata": {},
   "source": [
    "### Création d'une table\n",
    "\n",
    "Définissons une table simple pour stocker des données."
   ]
  },
  {
   "cell_type": "code",
   "execution_count": 44,
   "metadata": {},
   "outputs": [],
   "source": [
    "# Création d'un curseur pour exécuter des commandes SQL\n",
    "cur = conn.cursor()\n",
    "\n",
    "# Définition du schéma de la table\n",
    "cur.execute('''\n",
    "    CREATE TABLE IF NOT EXISTS utilisateurs (\n",
    "        id INTEGER PRIMARY KEY,\n",
    "        nom TEXT,\n",
    "        age INTEGER\n",
    "    )\n",
    "''')\n",
    "\n",
    "# Validation des modifications\n",
    "conn.commit()"
   ]
  },
  {
   "cell_type": "markdown",
   "metadata": {},
   "source": [
    "### Opérations CRUD (Create, Read, Update, Delete)\n",
    "\n",
    "#### Insertion de données\n",
    "\n",
    "Ajoutons un nouvel utilisateur à la table."
   ]
  },
  {
   "cell_type": "code",
   "execution_count": 45,
   "metadata": {},
   "outputs": [],
   "source": [
    "cur.execute(\"INSERT INTO utilisateurs (nom, age) VALUES (?, ?)\", ('Alice', 25))\n",
    "conn.commit()"
   ]
  },
  {
   "cell_type": "markdown",
   "metadata": {},
   "source": [
    "#### Insertion de données par batch"
   ]
  },
  {
   "cell_type": "code",
   "execution_count": 46,
   "metadata": {},
   "outputs": [],
   "source": [
    "data_to_insert = [\n",
    "    ('Alice', 25),\n",
    "    ('Bob', 30),\n",
    "    ('Charlie', 22),\n",
    "    ('David', 28)\n",
    "]\n",
    "cur.executemany(\"INSERT INTO utilisateurs (nom, age) VALUES (?, ?)\", data_to_insert)\n",
    "conn.commit()"
   ]
  },
  {
   "cell_type": "markdown",
   "metadata": {},
   "source": [
    "#### Lecture des données\n",
    "\n",
    "Récupérons toutes les données de la table."
   ]
  },
  {
   "cell_type": "code",
   "execution_count": 47,
   "metadata": {},
   "outputs": [
    {
     "name": "stdout",
     "output_type": "stream",
     "text": [
      "(3, 'Bob', 30)\n",
      "(4, 'Charlie', 22)\n",
      "(5, 'David', 28)\n",
      "(7, 'Bob', 30)\n",
      "(8, 'Charlie', 22)\n",
      "(9, 'David', 28)\n",
      "(12, 'Bob', 30)\n",
      "(13, 'Charlie', 22)\n",
      "(14, 'David', 28)\n",
      "(17, 'Bob', 30)\n",
      "(18, 'Charlie', 22)\n",
      "(19, 'David', 28)\n",
      "(22, 'Bob', 30)\n",
      "(23, 'Charlie', 22)\n",
      "(24, 'David', 28)\n",
      "(25, 'Alice', 25)\n",
      "(26, 'Alice', 25)\n",
      "(27, 'Bob', 30)\n",
      "(28, 'Charlie', 22)\n",
      "(29, 'David', 28)\n"
     ]
    }
   ],
   "source": [
    "cur.execute(\"SELECT * FROM utilisateurs\")\n",
    "resultats = cur.fetchall()\n",
    "\n",
    "for row in resultats:\n",
    "    print(row)"
   ]
  },
  {
   "cell_type": "markdown",
   "metadata": {},
   "source": [
    "#### Mise à jour de données\n",
    "\n",
    "Mettons à jour l'âge de l'utilisateur Alice."
   ]
  },
  {
   "cell_type": "code",
   "execution_count": 48,
   "metadata": {},
   "outputs": [],
   "source": [
    "cur.execute(\"UPDATE utilisateurs SET age=? WHERE nom=?\", (26, 'Alice'))\n",
    "conn.commit()"
   ]
  },
  {
   "cell_type": "markdown",
   "metadata": {},
   "source": [
    "#### Suppression de données\n",
    "\n",
    "Supprimons l'utilisateur Alice de la table."
   ]
  },
  {
   "cell_type": "code",
   "execution_count": 49,
   "metadata": {},
   "outputs": [],
   "source": [
    "cur.execute(\"DELETE FROM utilisateurs WHERE nom=?\", ('Alice',))\n",
    "conn.commit()"
   ]
  },
  {
   "cell_type": "markdown",
   "metadata": {},
   "source": [
    "### Fonction d'aggrégations"
   ]
  },
  {
   "cell_type": "code",
   "execution_count": 50,
   "metadata": {},
   "outputs": [
    {
     "name": "stdout",
     "output_type": "stream",
     "text": [
      "Nombre total d'utilisateurs : 18\n",
      "Âge moyen des utilisateurs : 26.67\n"
     ]
    }
   ],
   "source": [
    "# Exemple d'utilisation des fonctions d'agrégation\n",
    "cur.execute(\"SELECT COUNT(*) FROM utilisateurs\")\n",
    "total_users = cur.fetchone()[0]\n",
    "print(f\"Nombre total d'utilisateurs : {total_users}\")\n",
    "\n",
    "cur.execute(\"SELECT AVG(age) FROM utilisateurs\")\n",
    "average_age = cur.fetchone()[0]\n",
    "print(f\"Âge moyen des utilisateurs : {average_age:.2f}\")\n",
    "\n"
   ]
  },
  {
   "cell_type": "code",
   "execution_count": 51,
   "metadata": {},
   "outputs": [],
   "source": [
    "# Fermeture de la connexion\n",
    "#conn.close()"
   ]
  },
  {
   "cell_type": "markdown",
   "metadata": {},
   "source": [
    "### Aspects avancés"
   ]
  },
  {
   "cell_type": "markdown",
   "metadata": {},
   "source": [
    "#### Transactions\n",
    "Les transactions permettent d'assurer l'intégrité des données en garantissant que plusieurs opérations sont exécutées comme une seule unité. Utilisez les méthodes commit() pour valider les modifications ou rollback() pour annuler.\n"
   ]
  },
  {
   "cell_type": "code",
   "execution_count": 53,
   "metadata": {},
   "outputs": [],
   "source": [
    "# Exemple de transaction\n",
    "try:\n",
    "    cur.execute(\"UPDATE utilisateurs SET age = 30 WHERE nom = 'Alice'\")\n",
    "    cur.execute(\"INSERT INTO utilisateurs (nom, age) VALUES ('Bob', 28)\")\n",
    "    conn.commit()  # Valider les changements\n",
    "except:\n",
    "    print(\"error\")\n",
    "    conn.rollback()  # Annuler en cas d'erreur"
   ]
  },
  {
   "cell_type": "markdown",
   "metadata": {},
   "source": [
    "#### Indexation\n",
    "L'indexation améliore les performances des requêtes en accélérant la recherche dans une table. Créez des index sur les colonnes fréquemment utilisées dans les clauses WHERE.\n"
   ]
  },
  {
   "cell_type": "code",
   "execution_count": 56,
   "metadata": {},
   "outputs": [
    {
     "ename": "OperationalError",
     "evalue": "index idx_nom already exists",
     "output_type": "error",
     "traceback": [
      "\u001b[0;31m---------------------------------------------------------------------------\u001b[0m",
      "\u001b[0;31mOperationalError\u001b[0m                          Traceback (most recent call last)",
      "Input \u001b[0;32mIn [56]\u001b[0m, in \u001b[0;36m<module>\u001b[0;34m\u001b[0m\n\u001b[1;32m      1\u001b[0m \u001b[38;5;66;03m# Exemple de création d'un index\u001b[39;00m\n\u001b[0;32m----> 2\u001b[0m \u001b[43mcur\u001b[49m\u001b[38;5;241;43m.\u001b[39;49m\u001b[43mexecute\u001b[49m\u001b[43m(\u001b[49m\u001b[38;5;124;43m\"\u001b[39;49m\u001b[38;5;124;43mCREATE INDEX idx_nom ON utilisateurs(nom)\u001b[39;49m\u001b[38;5;124;43m\"\u001b[39;49m\u001b[43m)\u001b[49m\n\u001b[1;32m      3\u001b[0m conn\u001b[38;5;241m.\u001b[39mcommit()\n",
      "\u001b[0;31mOperationalError\u001b[0m: index idx_nom already exists"
     ]
    }
   ],
   "source": [
    "# Exemple de création d'un index\n",
    "cur.execute(\"CREATE INDEX idx_nom ON utilisateurs(nom)\")\n",
    "## conn.commit() "
   ]
  },
  {
   "cell_type": "markdown",
   "metadata": {},
   "source": [
    "#### Jointures Avancées\n",
    "Les jointures permettent de combiner des données de plusieurs tables. Utilisez INNER JOIN, LEFT JOIN, ou RIGHT JOIN selon vos besoins."
   ]
  },
  {
   "cell_type": "code",
   "execution_count": 59,
   "metadata": {},
   "outputs": [
    {
     "ename": "OperationalError",
     "evalue": "no such table: commandes",
     "output_type": "error",
     "traceback": [
      "\u001b[0;31m---------------------------------------------------------------------------\u001b[0m",
      "\u001b[0;31mOperationalError\u001b[0m                          Traceback (most recent call last)",
      "Input \u001b[0;32mIn [59]\u001b[0m, in \u001b[0;36m<module>\u001b[0;34m\u001b[0m\n\u001b[1;32m      1\u001b[0m \u001b[38;5;66;03m# Exemple de jointure\u001b[39;00m\n\u001b[0;32m----> 2\u001b[0m \u001b[43mcur\u001b[49m\u001b[38;5;241;43m.\u001b[39;49m\u001b[43mexecute\u001b[49m\u001b[43m(\u001b[49m\u001b[38;5;124;43m\"\u001b[39;49m\u001b[38;5;124;43mSELECT utilisateurs.nom, commandes.produit FROM utilisateurs INNER JOIN commandes ON utilisateurs.id = commandes.utilisateur_id\u001b[39;49m\u001b[38;5;124;43m\"\u001b[39;49m\u001b[43m)\u001b[49m\n",
      "\u001b[0;31mOperationalError\u001b[0m: no such table: commandes"
     ]
    }
   ],
   "source": [
    "# Exemple de jointure\n",
    "cur.execute(\"SELECT utilisateurs.nom, commandes.produit FROM utilisateurs INNER JOIN commandes ON utilisateurs.id = commandes.utilisateur_id\")"
   ]
  },
  {
   "cell_type": "markdown",
   "metadata": {},
   "source": [
    "#### Sous-requêtes\n",
    "Les sous-requêtes sont des requêtes imbriquées à l'intérieur d'une autre requête. Elles sont utiles pour effectuer des opérations complexes.\n"
   ]
  },
  {
   "cell_type": "code",
   "execution_count": null,
   "metadata": {},
   "outputs": [],
   "source": [
    "# Exemple de sous-requête\n",
    "cur.execute(\"SELECT nom FROM utilisateurs WHERE id IN (SELECT utilisateur_id FROM commandes WHERE produit = 'Ordinateur')\")"
   ]
  },
  {
   "cell_type": "markdown",
   "metadata": {},
   "source": [
    "#### Utilisation de Paramètres\n",
    "L'utilisation de paramètres dans les requêtes prévient les attaques par injection SQL et rend le code plus lisible.\n"
   ]
  },
  {
   "cell_type": "code",
   "execution_count": null,
   "metadata": {},
   "outputs": [],
   "source": [
    "# Exemple avec des paramètres\n",
    "\n",
    "nom_utilisateur = 'Alice'\n",
    "cur.execute(\"SELECT * FROM utilisateurs WHERE nom = ?\", (nom_utilisateur,))"
   ]
  },
  {
   "cell_type": "markdown",
   "metadata": {},
   "source": [
    "#### Travailler avec des Dates\n",
    "Si vous stockez des dates, utilisez les fonctions de date SQL pour effectuer des opérations.\n"
   ]
  },
  {
   "cell_type": "code",
   "execution_count": null,
   "metadata": {},
   "outputs": [],
   "source": [
    "# Exemple d'opération avec des dates\n",
    "cur.execute(\"SELECT * FROM commandes WHERE date_commande > DATE('2023-01-01')\")"
   ]
  },
  {
   "cell_type": "code",
   "execution_count": null,
   "metadata": {},
   "outputs": [],
   "source": []
  },
  {
   "cell_type": "code",
   "execution_count": null,
   "metadata": {},
   "outputs": [],
   "source": []
  },
  {
   "cell_type": "code",
   "execution_count": null,
   "metadata": {},
   "outputs": [],
   "source": []
  },
  {
   "cell_type": "code",
   "execution_count": null,
   "metadata": {},
   "outputs": [],
   "source": []
  },
  {
   "cell_type": "markdown",
   "metadata": {},
   "source": [
    "### Fermeture de la connexion\n",
    "\n",
    "N'oubliez pas de fermer la connexion une fois les opérations terminées."
   ]
  },
  {
   "cell_type": "code",
   "execution_count": 10,
   "metadata": {},
   "outputs": [],
   "source": [
    "conn.close()"
   ]
  },
  {
   "cell_type": "code",
   "execution_count": null,
   "metadata": {},
   "outputs": [],
   "source": []
  }
 ],
 "metadata": {
  "kernelspec": {
   "display_name": "Python 3 (ipykernel)",
   "language": "python",
   "name": "python3"
  },
  "language_info": {
   "codemirror_mode": {
    "name": "ipython",
    "version": 3
   },
   "file_extension": ".py",
   "mimetype": "text/x-python",
   "name": "python",
   "nbconvert_exporter": "python",
   "pygments_lexer": "ipython3",
   "version": "3.9.7"
  }
 },
 "nbformat": 4,
 "nbformat_minor": 4
}

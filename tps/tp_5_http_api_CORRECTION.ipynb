{
 "cells": [
  {
   "cell_type": "markdown",
   "metadata": {},
   "source": [
    "# **Python**\n",
    "# **TP 5 - Requêtes HTTP et API**\n",
    "\n",
    "\n",
    "***\n",
    "\n",
    "[**Notions**](#notions)\n",
    "\n",
    "1. [Le package `requests` et les API](#1a)\n",
    "2. [La requête `GET`](#2)\n",
    "3. [Status codes (codes de réponses HTTP)](#3)\n",
    "4. [Headers de réponses](#4)\n",
    "5. [Paramètres de requêtes](#5)\n",
    "6. [Headers de requêtes](#6)\n",
    "7. [Types de requêtes / HTTP Methods](#7)\n",
    "\n",
    "\n",
    "\n",
    "\n",
    "*** \n",
    "\n",
    "[**Exercices**](#exercices)\n",
    "\n",
    "- Exercice 1 - Manipulation de résultats de requêtes\n",
    "- Exercice 2 - Authentification et API Le Seigneur des Anneaux\n",
    "\n",
    "***"
   ]
  },
  {
   "cell_type": "markdown",
   "metadata": {},
   "source": [
    "<a id='1'></a>\n",
    "\n",
    "## 1. Le package `requests`\n",
    "\n",
    "- `requests` est le package standard pour faire des requêtes HTTP en Python.\n",
    "- La librairies permet de faire des requêtes pour interagir avec des ressources distantes, très simplement et avec peu de code.\n",
    "- [Documentation officielle : Requests: HTTP for Humans](https://requests.readthedocs.io/en/master/)\n",
    "\n",
    "<a id='1'></a>\n",
    "## 1. ... et les API\n",
    "- Tiré de : [Practical Programming](https://practicalprogramming.fr/api-rest/)\n",
    "- **API** est un acronyme pour “Application Programming Interface” ou Interface de programmation d’application en français : \n",
    " - Il s’agit d’une interface permettant l’interaction entre différentes applications. \n",
    " - Elle définit quels appels ou requêtes peuvent être réalisés et comment les réaliser : le format des données à utiliser, la structure de la réponse, les conventions à respecter etc. \n",
    "\n",
    "<center>\n",
    "<img src=\"images/restapi.png\" width=\"600\">\n",
    " </center>\n",
    " \n",
    " \n",
    "- Tiré de : [Practical Programming](https://practicalprogramming.fr/api-rest/)\n",
    "- **API Rest** : REST (pour REpresentational State Transfer) est une type d’architecture d’API qui fournit un certain nombre de normes et de conventions à respecter pour faciliter la communication entre applications. Les APIs qui respectent le standard REST sont appelées API REST ou API RESTful.\n",
    "\n",
    " - Les principes d’une architecture REST\n",
    " - Le standard REST impose six contraintes architecturales qui doivent toutes être respectées par un système pour qu’il soit qualifiable de système RESTful. Le strict respect de ces six contraintes permet d’assurer une fiabilité, une scalabilité et une extensibilité optimales.\n",
    "\n",
    "    - La séparation entre client et serveur\n",
    "    - L’absence d’état de sessions (stateless)\n",
    "    - L’uniformité de l’interface \n",
    "    - La mise en cache\n",
    "    - L’architecture en couches\n",
    "    - Le code à la demande. Cette contrainte est optionnelle. "
   ]
  },
  {
   "cell_type": "markdown",
   "metadata": {},
   "source": [
    "<a id=\"2\"></a>\n",
    "## 2. La requête `GET`\n",
    "\n",
    "- Le requête `GET` accède à une page web par son URL et renvoie la page (ou le fichier) dans son intégralité. \n",
    "\n",
    "**Exemple**\n",
    "- Un lien de téléchargement d'un fichier `json` : https://www.nosdeputes.fr/deputes/enmandat/json"
   ]
  },
  {
   "cell_type": "code",
   "execution_count": 1,
   "metadata": {},
   "outputs": [
    {
     "name": "stdout",
     "output_type": "stream",
     "text": [
      "Type of content is <class 'bytes'>\n",
      "Type of json_string is <class 'str'>\n",
      "Type of d is <class 'dict'>\n"
     ]
    }
   ],
   "source": [
    "import requests\n",
    "\n",
    "# On fait une requête GET sur cette adresse\n",
    "# r = response\n",
    "r = requests.get(\"https://www.nosdeputes.fr/deputes/enmandat/json\")\n",
    "\n",
    "#######################################\n",
    "# A la main\n",
    "#######################################\n",
    "\n",
    "# Le contenu est un objet de type bytes\n",
    "content = r.content\n",
    "\n",
    "# On le convertit en string\n",
    "json_string = r.content.decode()\n",
    "\n",
    "# On peut aussi obtenir directement le json au format string ainsi :    \n",
    "json_string = r.text\n",
    "\n",
    "\n",
    "import json\n",
    "# On le convertit ensuite en dictionnaire\n",
    "d = json.loads(json_string)\n",
    "\n",
    "\n",
    "# On vérifie les types des variables\n",
    "for var_name, var in zip([\"content\", \"json_string\", \"d\"], [content, json_string, d]):\n",
    "    print(f\"Type of {var_name} is {type(var)}\")\n",
    "\n",
    "#######################################\n",
    "# Mieux : \n",
    "#######################################\n",
    "d = r.json()\n",
    "\n",
    "#######################################\n",
    "\n",
    "\n"
   ]
  },
  {
   "cell_type": "code",
   "execution_count": 14,
   "metadata": {},
   "outputs": [],
   "source": [
    "# d"
   ]
  },
  {
   "cell_type": "code",
   "execution_count": 3,
   "metadata": {},
   "outputs": [],
   "source": [
    "# On fait une requête GET sur cette adresse\n",
    "# r = response\n",
    "r = requests.get(\"https://www.nosdeputes.fr/deputes/enmandat/json\")\n",
    "\n",
    "# On peut aussi obtenir directement le dictionnaire ainsi :\n",
    "d = r.json()"
   ]
  },
  {
   "cell_type": "code",
   "execution_count": 15,
   "metadata": {},
   "outputs": [
    {
     "name": "stdout",
     "output_type": "stream",
     "text": [
      "dict_keys(['deputes'])\n",
      "{'depute': {'adresses': [{'adresse': 'Assemblée nationale, 126 Rue de '\n",
      "                                     \"l'Université, 75355 Paris 07 SP\"}],\n",
      "            'anciens_autres_mandats': [],\n",
      "            'anciens_mandats': [{'mandat': '22/06/2022 /  / '}],\n",
      "            'autres_mandats': [],\n",
      "            'collaborateurs': [{'collaborateur': 'Mme Huguette Dies'},\n",
      "                               {'collaborateur': 'M. Xavier Baudry'},\n",
      "                               {'collaborateur': 'M. Hubert de Jacquelin'}],\n",
      "            'date_naissance': '1968-02-20',\n",
      "            'emails': [{'email': 'sophie.blanc@assemblee-nationale.fr'}],\n",
      "            'groupe_sigle': 'RN',\n",
      "            'id': 208,\n",
      "            'id_an': '794886',\n",
      "            'lieu_naissance': 'Toulouse (Haute-Garonne)',\n",
      "            'mandat_debut': '2022-06-22',\n",
      "            'nb_mandats': 0,\n",
      "            'nom': 'Sophie Blanc',\n",
      "            'nom_circo': 'Pyrénées-Orientales',\n",
      "            'nom_de_famille': 'Blanc',\n",
      "            'num_circo': 1,\n",
      "            'num_deptmt': '66',\n",
      "            'parti_ratt_financier': '',\n",
      "            'place_en_hemicycle': '40',\n",
      "            'prenom': 'Sophie',\n",
      "            'profession': 'Profession libérale',\n",
      "            'sexe': 'F',\n",
      "            'sites_web': [{'site': 'https://fr-fr.facebook.com/sophie.blanc/'},\n",
      "                          {'site': 'https://twitter.com/sblanc66000'},\n",
      "                          {'site': 'http://rassemblementnational.fr'}],\n",
      "            'slug': 'sophie-blanc',\n",
      "            'twitter': 'sblanc66000',\n",
      "            'url_an': 'https://www2.assemblee-nationale.fr/deputes/fiche/OMC_PA794886',\n",
      "            'url_nosdeputes': 'https://www.nosdeputes.fr/sophie-blanc',\n",
      "            'url_nosdeputes_api': 'https://www.nosdeputes.fr/sophie-blanc/json'}}\n"
     ]
    }
   ],
   "source": [
    "print(d.keys())\n",
    "\n",
    "from pprint import pprint\n",
    "\n",
    "pprint(d[\"deputes\"][200])"
   ]
  },
  {
   "cell_type": "markdown",
   "metadata": {},
   "source": [
    "<a id=\"3\"></a>\n",
    "## 3. Status codes\n",
    "- Dans l'objet renvoyé par une requête faite avec `requests`, ici l'objet `r`, on peut accéder au `status_code`\n",
    "- Ce dernier nous renseigne sur le succès de la requête - et peut donner des informations supplémentaires :\n",
    " - Vous en connaissez tous déjà un exemple : [Le code HTTP 404](https://fr.wikipedia.org/wiki/Erreur_HTTP_404)\n",
    " - Liste des `status_codes` : [List of HTTP status codes - Wikipedia](https://en.wikipedia.org/wiki/List_of_HTTP_status_codes)\n",
    " \n",
    " \n",
    " \n",
    "- Comment les lire : \n",
    "\n",
    " - **1xx** : Information / Informational Response\n",
    "\n",
    " - **2xx** : Succès / Success\n",
    "\n",
    " - **3xx** : Redirection / Redirection\n",
    "\n",
    " - **4xx** : Erreur du client / Client Errors\n",
    "\n",
    " - **5xx** : Erreur du serveur / Server Errors\n",
    "\n",
    "**Exemple**\n",
    "- Dans le code ci dessous : \n",
    " - `GET`sur l'adresse : \"https://www.nosdeputes.fr/deputes/enmandat/json\" renvoie un code 200 (succès)\n",
    " - `GET`sur l'adresse : \"https://www.nosdeputes.fr/deputes/enmandat/json123\" renvoie un code 404 (Non trouvée, car l'url est fausse)"
   ]
  },
  {
   "cell_type": "code",
   "execution_count": 16,
   "metadata": {},
   "outputs": [
    {
     "name": "stdout",
     "output_type": "stream",
     "text": [
      "Status code : 200\n",
      "Status code : 404\n"
     ]
    }
   ],
   "source": [
    "# On fait une requête GET sur cette adresse\n",
    "r = requests.get(\"https://www.nosdeputes.fr/deputes/enmandat/json\")\n",
    "print(f\"Status code : {r.status_code}\")\n",
    "\n",
    "\n",
    "# On fait une requête GET sur cette adresse qui est fausse\n",
    "r = requests.get(\"https://www.nosdeputes.fr/deputes/enmandat/json123\")\n",
    "print(f\"Status code : {r.status_code}\")"
   ]
  },
  {
   "cell_type": "markdown",
   "metadata": {},
   "source": [
    "<a id=\"4\"></a>\n",
    "\n",
    "## 4. Headers de réponses"
   ]
  },
  {
   "cell_type": "markdown",
   "metadata": {},
   "source": [
    "- Les headers de la réponse à la requête HTTP peuvent donner des informations utiles sur le type de la réponse\n",
    "- Les headers renvoyés par `requests` sont des dictionnaires \"Case Insensitive\" - on n'a pas à se soucier de la casse en les manipulant"
   ]
  },
  {
   "cell_type": "code",
   "execution_count": 6,
   "metadata": {},
   "outputs": [
    {
     "name": "stdout",
     "output_type": "stream",
     "text": [
      "type: <class 'requests.structures.CaseInsensitiveDict'>\n",
      "\n",
      "Headers :\n",
      "{'Access-Control-Allow-Origin': '*',\n",
      " 'Cache-Control': 'no-store, no-cache, must-revalidate',\n",
      " 'Connection': 'Keep-Alive',\n",
      " 'Content-Disposition': 'attachment; '\n",
      "                        'filename=\"nosdeputes.fr_deputes_en_mandat_2022-08-29.json\"',\n",
      " 'Content-Encoding': 'gzip',\n",
      " 'Content-Type': 'text/plain; charset=utf-8',\n",
      " 'Date': 'Mon, 29 Aug 2022 11:30:24 GMT',\n",
      " 'Expires': 'Thu, 19 Nov 1981 08:52:00 GMT',\n",
      " 'Keep-Alive': 'timeout=5, max=100',\n",
      " 'Pragma': 'no-cache',\n",
      " 'Server': 'Apache/2.4.53 (Debian)',\n",
      " 'Set-Cookie': 'symfony=aud2qkddn94e4ni5sbl2iirm77; path=/',\n",
      " 'Transfer-Encoding': 'chunked',\n",
      " 'Vary': 'Accept-Encoding'}\n",
      "\n",
      "Case insensitive :\n",
      "text/plain; charset=utf-8\n",
      "text/plain; charset=utf-8\n"
     ]
    }
   ],
   "source": [
    "# On fait une requête GET sur cette adresse\n",
    "r = requests.get(\"https://www.nosdeputes.fr/deputes/enmandat/json\")\n",
    "print(\"type:\", type(r.headers))\n",
    "print(\"\\nHeaders :\")\n",
    "pprint(dict(r.headers))\n",
    "\n",
    "# Case insensitive\n",
    "print(\"\\nCase insensitive :\")\n",
    "print(r.headers['ContENt-Type'])\n",
    "print(r.headers['content-type'])"
   ]
  },
  {
   "cell_type": "markdown",
   "metadata": {},
   "source": [
    "<a id=\"5\"></a>\n",
    "\n",
    "## 5. Paramètres de requêtes \n",
    "\n",
    "- Dans certains cas, on peut ajouter des paramètres à une requête `GET` HTTP\n",
    "- Un exemple avec l'API de Github : on peut chercher par mot clefs - cherchons le repository du cours"
   ]
  },
  {
   "cell_type": "code",
   "execution_count": 2,
   "metadata": {},
   "outputs": [
    {
     "name": "stdout",
     "output_type": "stream",
     "text": [
      "Url utilisée : https://api.github.com/search/repositories?q=hetic_m1_csb\n",
      "Status code : 200\n",
      "Url du repo: kevin-sagan/hetic_m1_csb_public\n"
     ]
    }
   ],
   "source": [
    "# On passe les paramètres ainsi à la fonction get \n",
    "# équivalent à  requests.get(\"https://api.github.com/search/repositories?q=hetic_m1_csb\")\n",
    "response = requests.get(\n",
    "    'https://api.github.com/search/repositories',\n",
    "    params={'q': 'hetic_m1_csb'},\n",
    ")\n",
    "# Voici l'url utilisées\n",
    "url = response.url\n",
    "print(f\"Url utilisée : {url}\")\n",
    "\n",
    "#\n",
    "json_response = response.json()\n",
    "#print(json_response[\"items\"])\n",
    "repository = json_response['items'][0]\n",
    "print(f\"Status code : {response.status_code}\")\n",
    "print(f'Url du repo: {repository[\"full_name\"]}')  # Python 3.6+"
   ]
  },
  {
   "cell_type": "code",
   "execution_count": 18,
   "metadata": {},
   "outputs": [
    {
     "data": {
      "text/plain": [
       "['q=hetic',\n",
       " 'oq=hetic+',\n",
       " 'aqs=chrome..69i57j0l3j69i60l4.1381j0j4',\n",
       " 'sourceid=chrome',\n",
       " 'ie=UTF-8']"
      ]
     },
     "execution_count": 18,
     "metadata": {},
     "output_type": "execute_result"
    }
   ],
   "source": [
    "url_google = \"https://www.google.com/search?q=hetic&oq=hetic+&aqs=chrome..69i57j0l3j69i60l4.1381j0j4&sourceid=chrome&ie=UTF-8\"\n",
    "params_string = url_google.split(\"?\")[1]\n",
    "params_string.split(\"&\")"
   ]
  },
  {
   "cell_type": "markdown",
   "metadata": {},
   "source": [
    "<a id=\"6\"></a>\n",
    "## 6. Headers de requêtes\n",
    "\n",
    "- On peut customiser les requêtes en renseignant des paramètres dans le header\n",
    "\n",
    "**Exemple**\n",
    "- Dans cet exemple on utilise un header propriétaire de GitHub qui renseigne sur le matching des mots clefs utilisés dans la requête"
   ]
  },
  {
   "cell_type": "code",
   "execution_count": 20,
   "metadata": {},
   "outputs": [
    {
     "name": "stdout",
     "output_type": "stream",
     "text": [
      "(\"Text matches: [{'object_url': \"\n",
      " \"'https://api.github.com/repositories/308571538', 'object_type': \"\n",
      " \"'Repository', 'property': 'name', 'fragment': 'hetic_m1_csb_public', \"\n",
      " \"'matches': [{'text': 'hetic', 'indices': [0, 5]}, {'text': 'm1', 'indices': \"\n",
      " \"[6, 8]}, {'text': 'csb', 'indices': [9, 12]}]}]\")\n"
     ]
    }
   ],
   "source": [
    "import requests\n",
    "\n",
    "response = requests.get(\n",
    "    'https://api.github.com/search/repositories',\n",
    "    params={'q': 'hetic_m1_csb'},\n",
    "    headers={'Accept': 'application/vnd.github.v3.text-match+json'},\n",
    ")\n",
    "\n",
    "json_response = response.json()\n",
    "repository = json_response['items'][0]\n",
    "# Renseigne sur les positions des mots clefs de la recherche dans le repository\n",
    "pprint(f'Text matches: {repository[\"text_matches\"]}')"
   ]
  },
  {
   "cell_type": "markdown",
   "metadata": {},
   "source": [
    "- User Agent"
   ]
  },
  {
   "cell_type": "code",
   "execution_count": 21,
   "metadata": {},
   "outputs": [
    {
     "data": {
      "text/plain": [
       "200"
      ]
     },
     "execution_count": 21,
     "metadata": {},
     "output_type": "execute_result"
    }
   ],
   "source": [
    "headers = {'User-Agent': 'Mozilla/5.0 (Macintosh; Intel Mac OS X 10_10_1) AppleWebKit/537.36 (KHTML, like Gecko) Chrome/39.0.2171.95 Safari/537.36'}\n",
    "r = requests.get(\"https://www.nosdeputes.fr/deputes/enmandat/json\", headers=headers)\n",
    "r.status_code"
   ]
  },
  {
   "cell_type": "markdown",
   "metadata": {},
   "source": [
    "<a id=\"7\"></a>\n",
    "\n",
    "## 7. Types de requêtes / HTTP Methods\n",
    "\n",
    "- Il existe différentes requêtes HTTP qui permettent de faire différentes opérations : dans les API Rest, on veille à bien utiliser une méthode pour une certaine opération.\n",
    "- Quelques débats à propos de ces méthodes : https://blog.engineering.publicissapient.fr/2014/03/17/post-vs-put-la-confusion/\n",
    "- Les `https://httpbin.org/{method}` permettent de tester les requêtes\n"
   ]
  },
  {
   "cell_type": "code",
   "execution_count": 22,
   "metadata": {},
   "outputs": [
    {
     "name": "stdout",
     "output_type": "stream",
     "text": [
      "Status code : 200\n"
     ]
    }
   ],
   "source": [
    "# On envoie une ressource : par exemple un formulaire (plutôt pour un \"update\")\n",
    "response = requests.post('https://httpbin.org/post', data={'key':'value'})\n",
    "print(f\"Status code : {response.status_code}\")\n",
    "# print le retour des données envoyées"
   ]
  },
  {
   "cell_type": "code",
   "execution_count": 24,
   "metadata": {},
   "outputs": [
    {
     "data": {
      "text/plain": [
       "{'args': {},\n",
       " 'data': '',\n",
       " 'files': {},\n",
       " 'form': {'key': 'value'},\n",
       " 'headers': {'Accept': '*/*',\n",
       "  'Accept-Encoding': 'gzip, deflate',\n",
       "  'Content-Length': '9',\n",
       "  'Content-Type': 'application/x-www-form-urlencoded',\n",
       "  'Host': 'httpbin.org',\n",
       "  'User-Agent': 'python-requests/2.26.0',\n",
       "  'X-Amzn-Trace-Id': 'Root=1-630de15c-7dd5b889127e25e035b86ce7'},\n",
       " 'json': None,\n",
       " 'origin': '95.91.215.113',\n",
       " 'url': 'https://httpbin.org/post'}"
      ]
     },
     "execution_count": 24,
     "metadata": {},
     "output_type": "execute_result"
    }
   ],
   "source": [
    "response.json()"
   ]
  },
  {
   "cell_type": "code",
   "execution_count": 25,
   "metadata": {},
   "outputs": [
    {
     "name": "stdout",
     "output_type": "stream",
     "text": [
      "Status code : 200\n",
      "Status code : 200\n",
      "Status code : 200\n"
     ]
    }
   ],
   "source": [
    "# On envoie une ressource : par exemple un formulaire (plutôt pour un \"create\")\n",
    "response = requests.put('https://httpbin.org/put', data={'key':'value'})\n",
    "print(f\"Status code : {response.status_code}\")\n",
    "\n",
    "# On supprime une ressource\n",
    "response = requests.delete('https://httpbin.org/delete')\n",
    "print(f\"Status code : {response.status_code}\")\n",
    "\n",
    "# On veut accéder au header d'une page (ou metadonnees)\n",
    "response = requests.head('https://httpbin.org/head')\n",
    "print(f\"Status code : {response.status_code}\")"
   ]
  },
  {
   "cell_type": "markdown",
   "metadata": {},
   "source": [
    "<a id='exercices'></a>\n",
    "## Exercice 1 - Manipulation de résultats de requêtes\n",
    "\n",
    "- 1. En utilisant une requête `GET`sur l'url du premier exemple : \n",
    "    - Créer la liste de tous les partis politiques\n",
    "    - Trouver tous les députés qui ont aussi un autre mandat\n",
    "    - Trouver tous les députés qui ont eu un premier mandat avant l'an 2000\n",
    "    - Etablir la liste des liens Twitter des députés renvoyés par l'API\n",
    "    \n",
    "    \n",
    "- 2. En utilisant une requête `GET`sur l'url d'un lien Twitter de la liste précédente : \n",
    "    - Interpréter une valeur de l'attribut headers de la réponse\n",
    "    - Afficher le code source de la page du profil Twitter d'un député"
   ]
  },
  {
   "cell_type": "code",
   "execution_count": 1,
   "metadata": {},
   "outputs": [
    {
     "name": "stdout",
     "output_type": "stream",
     "text": [
      "[] \n",
      "\n",
      "0 deputes avec un autre mandat\n",
      "\n",
      "['Nicolas Forissier', 'Nicolas Dupont-Aignan', 'Charles de Courson', 'Jean-Pierre Pont', 'Marc Le Fur', 'Michel Herbillon', 'Jean-Luc Warsmann']\n",
      "\n",
      "\n",
      "['Nicolas Forissier', 'Nicolas Dupont-Aignan', 'Charles de Courson', 'Jean-Pierre Pont', 'Marc Le Fur', 'Michel Herbillon', 'Jean-Luc Warsmann']\n",
      "\n",
      "\n",
      "552 liens twitter\n"
     ]
    }
   ],
   "source": [
    "## Créer la liste de tous les partis politiques\n",
    "\n",
    "import requests\n",
    "import re\n",
    "\n",
    "r = requests.get(\"https://www.nosdeputes.fr/deputes/enmandat/json\")\n",
    "d = r.json()\n",
    "d = d[\"deputes\"] # on prend la valeur de la clef \"deputes\" pour ne pas avoir à toujours réécrire la clef \n",
    "\n",
    "# Le Set permet de prendre les valeurs uniques sans répétition\n",
    "partis = set([dep[\"depute\"]['parti_ratt_financier'] for dep in d])\n",
    "\n",
    "\n",
    "# On retire la chaîne de caractères vide\n",
    "# \"if p\" est équivalent à \"if p != '' \" \n",
    "# C'est à dire qu'on test que p n'est pas la chaîne de caractères vide\n",
    "partis = [p for p in partis if p] \n",
    "print(partis, \"\\n\")\n",
    "\n",
    "# Deputes avec un autre mandat\n",
    "autres_mandats = [dep[\"depute\"][\"nom\"] for dep in d if dep[\"depute\"][\"autres_mandats\"] != []]\n",
    "print(len(autres_mandats), \"deputes avec un autre mandat\\n\")\n",
    "\n",
    "\n",
    "# Deputes avec un mandat avant 2000\n",
    "deputes_mandats_avant_2000 = []\n",
    "for dep in d:\n",
    "    \n",
    "    anciens_mandats = dep[\"depute\"][\"anciens_mandats\"]\n",
    "    #print(dep[\"depute\"][\"nom\"])\n",
    "    years = []\n",
    "    for d_mandat in anciens_mandats:\n",
    "        # re.findall() nous permet de matcher un pattern\n",
    "        # ici on cherche à matcher une date : \\d indique un chiffre\n",
    "        # on cherche au format : XX / XX / XX\n",
    "        # donc le pattern est : \\d \\d / \\d \\d / \\d\\d\n",
    "        dates = re.findall(r'\\d\\d/\\d\\d/\\d\\d\\d\\d', d_mandat[\"mandat\"])\n",
    "        # on garde l'année\n",
    "        years_mandat = [x.split(\"/\")[-1] for x in dates]\n",
    "        # on convertit en entier\n",
    "        years_mandat = [int(x) for x in years_mandat]\n",
    "        # on garde les années trouvées\n",
    "        years = years + years_mandat\n",
    "    \n",
    "    # on vérifie si la liste est non vide\n",
    "    if years != [] and min(years) < 2000:\n",
    "            deputes_mandats_avant_2000.append(dep[\"depute\"][\"nom\"])\n",
    "            \n",
    "print(deputes_mandats_avant_2000)    \n",
    "print(\"\\n\")\n",
    "\n",
    "\n",
    "import datetime\n",
    "\n",
    "# Autre solution\n",
    "deputes_mandats_avant_2000 = []\n",
    "for dep in d:\n",
    "    \n",
    "    anciens_mandats = dep[\"depute\"][\"anciens_mandats\"]\n",
    "    #print(dep[\"depute\"][\"nom\"])\n",
    "    years = []\n",
    "    for d_mandat in anciens_mandats:\n",
    "        # exemple : 20/06/2012 / 20/06/2017 / fin de législature\n",
    "        dates = d_mandat[\"mandat\"].split(\" / \")\n",
    "    \n",
    "        \n",
    "        for item in dates:\n",
    "            try:\n",
    "                day, month, year = tuple(item.split(\"/\"))\n",
    "                years.append(int(year))\n",
    "            except:\n",
    "                pass\n",
    "            \n",
    "    # on vérifie si la liste est non vide\n",
    "    if years != [] and min(years) < 2000:\n",
    "            deputes_mandats_avant_2000.append(dep[\"depute\"][\"nom\"])\n",
    "print(deputes_mandats_avant_2000)  \n",
    "print(\"\\n\")\n",
    "\n",
    "\n",
    "\n",
    "# Tous les liens twitters\n",
    "l_twitter = []\n",
    "\n",
    "for i in range(len(d)):\n",
    "    sites = [list(x.values())[0] for x in d[i][\"depute\"][\"sites_web\"]]\n",
    "    twitters = [x for x in sites if x.startswith(\"https://twitter\")]\n",
    "    try:\n",
    "        twitter = twitters[0]\n",
    "        l_twitter.append(twitter)\n",
    "    except:\n",
    "        pass\n",
    "    \n",
    "print(len(l_twitter), \"liens twitter\")"
   ]
  },
  {
   "cell_type": "markdown",
   "metadata": {},
   "source": [
    "## Exercice 2 - Authentification et API Le Seigneur des Anneaux\n",
    "\n",
    "- [Documentation](https://the-one-api.dev/documentation)\n",
    "- Attention ! Pas plus de 100 requêtes toutes les 10 minutes (utiliser `time.sleep()` entre les requêtes si nécessaire)\n",
    "- A part pour l'endpoint `/book` qui renvoie la liste des livres, il faut être authentifié\n",
    "\n",
    "- 1. Inscrivez-vous en créant un compte [ici](https://the-one-api.dev/sign-up)\n",
    "\n",
    "- 2. Faites une requête pour rapatrier la liste de tous les livres (cf exemple)\n",
    "\n",
    "- 3. Créer la liste de tous les personnages\n",
    "\n",
    "- 4. Créer la liste de tous les personnages qui ne sont pas des humains"
   ]
  },
  {
   "cell_type": "code",
   "execution_count": 2,
   "metadata": {},
   "outputs": [],
   "source": [
    "# Liste de tous les livres\n",
    "from pprint import pprint\n",
    "import requests\n",
    "url = \"https://the-one-api.dev/v2/book\"\n",
    "r = requests.get(url)\n",
    "json_data = r.json()\n",
    "# print(json_data)"
   ]
  },
  {
   "cell_type": "code",
   "execution_count": 16,
   "metadata": {},
   "outputs": [
    {
     "name": "stdout",
     "output_type": "stream",
     "text": [
      "{'_id': '5cd99d4bde30eff6ebccfcec',\n",
      " 'birth': 'YT 1300',\n",
      " 'death': 'FA 465',\n",
      " 'gender': 'Male',\n",
      " 'hair': 'Golden',\n",
      " 'height': '',\n",
      " 'name': 'Finrod',\n",
      " 'race': 'Elf',\n",
      " 'realm': '',\n",
      " 'spouse': 'Loved ,Amarië but they never married',\n",
      " 'wikiUrl': 'http://lotr.wikia.com//wiki/Finrod'}\n",
      "933 personnages\n",
      "545 personnages non humain\n",
      "545 personnages non humain\n"
     ]
    }
   ],
   "source": [
    "url = \"https://the-one-api.dev/v2/character\"\n",
    "headers = {\"Authorization\" : \"Bearer p5Lvqe8RXe73x7Sej2qr\"} # Remplacer XXXXXXXXXXXX par la clef affichée lors de l'inscription \n",
    "                                                    # (ou disponible sur le site dans la rubrique account en haut à droite)\n",
    "r = requests.get(url, headers=headers)\n",
    "json_data = r.json()\n",
    "pprint(json_data[\"docs\"][300])\n",
    "\n",
    "personnages = [p[\"name\"] for p in json_data[\"docs\"]]\n",
    "print(len(personnages), \"personnages\")\n",
    "\n",
    "\n",
    "# Première solution : on filtre\n",
    "not_humans = [p[\"name\"] for p in json_data[\"docs\"] if p[\"race\"]!='Human']\n",
    "print(len(not_humans), \"personnages non humain\")\n",
    "\n",
    "# Deuxième solution, grâce à la documentation de l'API :\n",
    "url = \"https://the-one-api.dev/v2//character?race!=Human\"\n",
    "r = requests.get(url, headers=headers)\n",
    "json_data = r.json()\n",
    "not_humans = json_data[\"docs\"]\n",
    "print(len(not_humans), \"personnages non humain\")\n"
   ]
  },
  {
   "cell_type": "code",
   "execution_count": 22,
   "metadata": {},
   "outputs": [
    {
     "data": {
      "text/plain": [
       "{'batchcomplete': '',\n",
       " 'warnings': {'extracts': {'*': 'HTML may be malformed and/or unbalanced and may omit inline images. Use at your own risk. Known problems are listed at https://www.mediawiki.org/wiki/Special:MyLanguage/Extension:TextExtracts#Caveats.'}},\n",
       " 'query': {'pages': {'5225': {'pageid': 5225,\n",
       "    'ns': 0,\n",
       "    'title': 'Code',\n",
       "    'extract': '<p class=\"mw-empty-elt\">\\n</p>\\n\\n\\n<link rel=\"mw-deduplicated-inline-style\" href=\"mw-data:TemplateStyles:r1033289096\">\\n<link rel=\"mw-deduplicated-inline-style\" href=\"mw-data:TemplateStyles:r1033289096\">\\n<p>In communications and information processing, <b>code</b> is a system of rules to convert information—such as a letter, word, sound, image, or gesture—into another form, sometimes shortened or secret, for communication through a communication channel or storage in a storage medium. An early example is an invention of language, which enabled a person, through speech, to communicate what they thought, saw, heard, or felt to others. But speech limits the range of communication to the distance a voice can carry and limits the audience to those present when the speech is uttered. The invention of writing, which converted spoken language into visual symbols, extended the range of communication across space and time.\\n</p><p>The process of <b>encoding</b> converts information from a source into symbols for communication or storage. <b>Decoding</b> is the reverse process, converting code symbols back into a form that the recipient understands, such as English or/and Spanish.\\n</p><p>One reason for coding is to enable communication in places where ordinary plain language, spoken or written, is difficult or impossible. For example, semaphore, where the configuration of flags held by a signaler or the arms of a semaphore tower encodes parts of the message, typically individual letters, and numbers. Another person standing a great distance away can interpret the flags and reproduce the words sent.\\n</p>'}}}}"
      ]
     },
     "execution_count": 22,
     "metadata": {},
     "output_type": "execute_result"
    }
   ],
   "source": [
    "# Cette url \n",
    "mot_clef = \"Code\"\n",
    "url = f\"https://en.wikipedia.org/w/api.php?action=query&prop=extracts&format=json&exintro=&titles={mot_clef}\"\n",
    "# Package the request, send the request and catch the response: r\n",
    "r = requests.get(url)\n",
    "\n",
    "# Decode the JSON data into a dictionary: json_data\n",
    "json_data = r.json()\n",
    "json_data\n",
    "\n",
    "# RUVQlI4E6uYyx4yIWr_O\n"
   ]
  },
  {
   "cell_type": "code",
   "execution_count": null,
   "metadata": {},
   "outputs": [],
   "source": []
  }
 ],
 "metadata": {
  "kernelspec": {
   "display_name": "Python 3 (ipykernel)",
   "language": "python",
   "name": "python3"
  },
  "language_info": {
   "codemirror_mode": {
    "name": "ipython",
    "version": 3
   },
   "file_extension": ".py",
   "mimetype": "text/x-python",
   "name": "python",
   "nbconvert_exporter": "python",
   "pygments_lexer": "ipython3",
   "version": "3.9.7"
  }
 },
 "nbformat": 4,
 "nbformat_minor": 4
}

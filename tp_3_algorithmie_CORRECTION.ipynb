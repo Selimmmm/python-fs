{
 "cells": [
  {
   "cell_type": "markdown",
   "metadata": {},
   "source": [
    "# **Python**\n",
    "# **TP 3 - Algorithmie**\n",
    "\n",
    "- Chacun des exercices de ce TP vous propose un exemple que vous devrez adapter ou dont vous devrez vous inspirer pour répondre aux questions\n",
    "***\n",
    "\n",
    "[**Exercices**](#exercices)\n",
    "1. [Manipulation de chaînes de caractères](#1)\n",
    "2. [Minimum, maximum, moyenne et médiane](#2)\n",
    "3. [Deviner un nombre entre 1 et 100](#3)\n",
    "4. [Code Morse et manipulation de dictionnaire](#4)\n",
    "5. [Manipulation de dates](#5)\n",
    "6. [Tri de listes](#6)\n",
    "\n",
    "\n",
    "***\n",
    "\n",
    "\n",
    "<!--  \n",
    "[![Open In Colab](https://colab.research.google.com/assets/colab-badge.svg)](https://colab.research.google.com/github/Selimmmm/hetic_m1_csb_public/blob/master/tp_3_algorithmie.ipynb) -->\n"
   ]
  },
  {
   "cell_type": "markdown",
   "metadata": {},
   "source": [
    "<a id=\"1\"></a>\n",
    "\n",
    "## Exercice 1 - Manipulation de chaînes de caractères"
   ]
  },
  {
   "cell_type": "markdown",
   "metadata": {},
   "source": [
    "- En utilisant la chaîne de caractères, écrire un code qui génère le texte suivant :\n",
    "\n",
    "```\n",
    "Elliot Alderson est joué(e) par Rami Malek \n",
    "Mr. Robot est joué(e) par Christian Slater \n",
    "Darlene est joué(e) par Carly Chaikin \n",
    "Angela Moss est joué(e) par Portia Doubleday \n",
    "Tyrell Wellick est joué(e) par Martin Wallström \n",
    "Joanna Wellick est joué(e) par Stephanie Corneliussen \n",
    "Phillip Price est joué(e) par Michael Cristofer \n",
    "```"
   ]
  },
  {
   "cell_type": "code",
   "execution_count": 1,
   "metadata": {},
   "outputs": [
    {
     "name": "stdout",
     "output_type": "stream",
     "text": [
      "Elliot Alderson  est joué(e) par Rami Malek\n",
      "Mr. Robot  est joué(e) par Christian Slater\n",
      "Darlene  est joué(e) par Carly Chaikin\n",
      "Angela Moss  est joué(e) par Portia Doubleday\n",
      "Tyrell Wellick  est joué(e) par Martin Wallström\n",
      "Joanna Wellick  est joué(e) par Stephanie Corneliussen\n",
      "Phillip Price  est joué(e) par Michael Cristofer\n"
     ]
    }
   ],
   "source": [
    "# Méthode 1\n",
    "# On définit une chaîne de caractères\n",
    "s = \"\"\"Elliot Alderson (Rami Malek)\n",
    "Mr. Robot (Christian Slater)\n",
    "Darlene (Carly Chaikin)\n",
    "Angela Moss (Portia Doubleday)\n",
    "Tyrell Wellick (Martin Wallström)\n",
    "Joanna Wellick (Stephanie Corneliussen)\n",
    "Phillip Price (Michael Cristofer)\"\"\"\n",
    "\n",
    "l = s.split(\"\\n\")\n",
    "\n",
    "for line in l:\n",
    "    pers, actor = line.strip(\")\").split(\"(\")\n",
    "    message = f\"{pers} est joué(e) par {actor}\"\n",
    "    print(message)"
   ]
  },
  {
   "cell_type": "code",
   "execution_count": 2,
   "metadata": {},
   "outputs": [
    {
     "name": "stdout",
     "output_type": "stream",
     "text": [
      "Elliot Alderson est joué(e) par Rami Malek\n",
      "Mr. Robot est joué(e) par Christian Slater\n",
      "Darlene est joué(e) par Carly Chaikin\n",
      "Angela Moss est joué(e) par Portia Doubleday\n",
      "Tyrell Wellick est joué(e) par Martin Wallström\n",
      "Joanna Wellick est joué(e) par Stephanie Corneliussen\n",
      "Phillip Price est joué(e) par Michael Cristofer\n"
     ]
    }
   ],
   "source": [
    "# Methode 2\n",
    "new_s = s.replace(\")\", \"\").replace(\"(\", \"est joué(e) par \")\n",
    "print(new_s)"
   ]
  },
  {
   "cell_type": "code",
   "execution_count": 3,
   "metadata": {},
   "outputs": [
    {
     "name": "stdout",
     "output_type": "stream",
     "text": [
      "abcd\n",
      "[' b ', '   ', 'bcd  ', ' c h ', '   ', ' b    ']\n"
     ]
    }
   ],
   "source": [
    "# Exemple méthode .strip():\n",
    "# .strip() retire les espaces en début et en fin de chaîne de caractères\n",
    "exemple = \"     abcd         \" # il y a beaucoup d'espaces au début et à la fin\n",
    "#print(exemple)\n",
    "print(exemple.strip())\n",
    "\n",
    "# Exemple méthode .split():\n",
    "# .split() découpe un texte autour du séparateur spécifié\n",
    "exemple = \" b a   abcd  a c h a   a b    \" # il y a beaucoup d'espaces au début et à la fin\n",
    "#print(exemple)\n",
    "print(exemple.split(\"a\"))\n"
   ]
  },
  {
   "cell_type": "markdown",
   "metadata": {},
   "source": [
    "- Avec un petit programme, créer la liste suivante : [(`numero_etape`, `nombre_de_resultats`, `numero_de_la_base_de_donnees`)]\n",
    "    - Il s'agit de cette liste : [(0, 1, 1), (1, 1, 2), ..., (13, 377, 1)]\n",
    "- Avec un petit programme, réécrire le message complet au format suivant : \n",
    "    - \"Au cours de l'etape `numero_etape`, `nombre_de_resultats`  détectés dans la base de données `numero_de_la_base_de_donnees`\""
   ]
  },
  {
   "cell_type": "code",
   "execution_count": 4,
   "metadata": {},
   "outputs": [],
   "source": [
    "message = \"\"\"Etape 0 : 1 résultats trouvés dans la base de données numéro 1\n",
    "Etape 1 : 1 résultats trouvés dans la base de données numéro 2\n",
    "Etape 2 : 2 résultats trouvés dans la base de données numéro 3\n",
    "Etape 3 : 3 résultats trouvés dans la base de données numéro 4\n",
    "Etape 4 : 5 résultats trouvés dans la base de données numéro 5\n",
    "Etape 5 : 8 résultats trouvés dans la base de données numéro 5\n",
    "Etape 6 : 13 résultats trouvés dans la base de données numéro 5\n",
    "Etape 7 : 21 résultats trouvés dans la base de données numéro 6\n",
    "Etape 8 : 34 résultats trouvés dans la base de données numéro 6\n",
    "Etape 9 : 55 résultats trouvés dans la base de données numéro 3\n",
    "Etape 10 : 89 résultats trouvés dans la base de données numéro 4\n",
    "Etape 11 : 144 résultats trouvés dans la base de données numéro 4\n",
    "Etape 12 : 233 résultats trouvés dans la base de données numéro 3\n",
    "Etape 13 : 377 résultats trouvés dans la base de données numéro 1\"\"\""
   ]
  },
  {
   "cell_type": "code",
   "execution_count": 5,
   "metadata": {},
   "outputs": [],
   "source": [
    "from pprint import pprint"
   ]
  },
  {
   "cell_type": "code",
   "execution_count": 6,
   "metadata": {},
   "outputs": [
    {
     "name": "stdout",
     "output_type": "stream",
     "text": [
      "[['Etape 0', '1 résultats trouvés dans la base de données numéro 1'],\n",
      " ['Etape 1', '1 résultats trouvés dans la base de données numéro 2'],\n",
      " ['Etape 2', '2 résultats trouvés dans la base de données numéro 3'],\n",
      " ['Etape 3', '3 résultats trouvés dans la base de données numéro 4'],\n",
      " ['Etape 4', '5 résultats trouvés dans la base de données numéro 5'],\n",
      " ['Etape 5', '8 résultats trouvés dans la base de données numéro 5'],\n",
      " ['Etape 6', '13 résultats trouvés dans la base de données numéro 5'],\n",
      " ['Etape 7', '21 résultats trouvés dans la base de données numéro 6'],\n",
      " ['Etape 8', '34 résultats trouvés dans la base de données numéro 6'],\n",
      " ['Etape 9', '55 résultats trouvés dans la base de données numéro 3'],\n",
      " ['Etape 10', '89 résultats trouvés dans la base de données numéro 4'],\n",
      " ['Etape 11', '144 résultats trouvés dans la base de données numéro 4'],\n",
      " ['Etape 12', '233 résultats trouvés dans la base de données numéro 3'],\n",
      " ['Etape 13', '377 résultats trouvés dans la base de données numéro 1']]\n",
      "[('0', ('1',), '1'),\n",
      " ('1', ('1',), '2'),\n",
      " ('2', ('2',), '3'),\n",
      " ('3', ('3',), '4'),\n",
      " ('4', ('5',), '5'),\n",
      " ('5', ('8',), '5'),\n",
      " ('6', ('13',), '5'),\n",
      " ('7', ('21',), '6'),\n",
      " ('8', ('34',), '6'),\n",
      " ('9', ('55',), '3'),\n",
      " ('10', ('89',), '4'),\n",
      " ('11', ('144',), '4'),\n",
      " ('12', ('233',), '3'),\n",
      " ('13', ('377',), '1')]\n"
     ]
    }
   ],
   "source": [
    "## Méthode 1\n",
    "l = message.split(\"\\n\")\n",
    "l = [line.split(\" : \") for line in l]\n",
    "pprint(l)\n",
    "l = [ \n",
    "    (\n",
    "        etape.split(\" \")[1], \n",
    "        result_db.split(\" \")[0], \n",
    "        result_db.split(\" \")[-1] # Calcule deux fois\n",
    "    )\n",
    "    for etape, result_db, in l\n",
    "]\n",
    "\n",
    "## Méthode 2\n",
    "l = message.split(\"\\n\")\n",
    "\n",
    "comp = []\n",
    "for line in l:\n",
    "    etape, result_db = line.split(\" : \")\n",
    "    \n",
    "    n_etape = etape.split(\" \")[1]\n",
    "    list_result_db = result_db.split(\" \")\n",
    "    \n",
    "    n_results = list_result_db[0], \n",
    "    n_db = list_result_db[-1] \n",
    "    \n",
    "    result_db_splitted = result_db.split(\" \")\n",
    "    comp.append((n_etape, n_results, n_db))\n",
    "    \n",
    "pprint(comp)"
   ]
  },
  {
   "cell_type": "markdown",
   "metadata": {},
   "source": [
    "<a id=\"2\"></a>\n",
    "\n",
    "## Exercice 2 - Minimum, maximum, moyenne et médiane"
   ]
  },
  {
   "cell_type": "markdown",
   "metadata": {},
   "source": [
    "- Ecrire une fonction get_maximum qui renvoie le maximum d'une liste de nombres\n",
    "- Ecrire une fonction get_mean qui renvoie la moyenne d'une liste de nombres\n",
    "- Ecrire une fonction get_standard_deviation qui renvoie l'écart-type d'une liste de nombres\n",
    "- Ecrire une fonction get_median qui renvoie la valeur médiane d'une liste de nombres"
   ]
  },
  {
   "cell_type": "markdown",
   "metadata": {},
   "source": [
    "### Standard deviation\n",
    "$$ \\sqrt{ \\frac{1}{n} \\sum_{i=1}^{n} (x_i - \\bar{x} ) ^2 } $$"
   ]
  },
  {
   "cell_type": "code",
   "execution_count": 7,
   "metadata": {},
   "outputs": [
    {
     "name": "stdout",
     "output_type": "stream",
     "text": [
      "liste de notes : [6, 0, 4, 13, 7, 17, 3, 8, 5, 10, 14, 19, 1, 17, 4, 11, 19, 20, 20, 17]\n"
     ]
    }
   ],
   "source": [
    "import random\n",
    "\n",
    "# On génère au hasard 10 notes entre 0 et 20\n",
    "liste_notes = [random.randint(0, 20) for _ in range(20)]\n",
    "print(\"liste de notes :\", liste_notes)"
   ]
  },
  {
   "cell_type": "code",
   "execution_count": 8,
   "metadata": {},
   "outputs": [
    {
     "data": {
      "text/plain": [
       "([11, 13],\n",
       " [0, 1, 3, 4, 4, 5, 6, 7, 8, 10, 11, 13, 14, 17, 17, 17, 19, 19, 20, 20])"
      ]
     },
     "execution_count": 8,
     "metadata": {},
     "output_type": "execute_result"
    }
   ],
   "source": [
    "sorted(liste_notes)[10:12], sorted(liste_notes)"
   ]
  },
  {
   "cell_type": "code",
   "execution_count": 9,
   "metadata": {},
   "outputs": [],
   "source": [
    "# [2, 3, 4, 4, 5, 6]"
   ]
  },
  {
   "cell_type": "markdown",
   "metadata": {},
   "source": [
    "## Maximum"
   ]
  },
  {
   "cell_type": "code",
   "execution_count": 10,
   "metadata": {},
   "outputs": [],
   "source": [
    "# Essaie naif\n",
    "def get_maximum(l):\n",
    "    current_max = l[0]\n",
    "    # current_max c'est le max de toutes les valeurs déjà vues\n",
    "    for value in l:\n",
    "        if value > current_max:\n",
    "            current_max = value\n",
    "    return current_max\n",
    "\n",
    "max_ = get_maximum(liste_notes)\n",
    "max_\n",
    "\n",
    "\n",
    "# Un peu mieux\n",
    "def get_maximum(l):\n",
    "    if not l:\n",
    "        raise ValueError(\"List l is empty\")\n",
    "    current_max = l[0]\n",
    "    # current_max c'est le max de toutes les valeurs déjà vues\n",
    "    for k in range(1, len(l)):\n",
    "        value = l[k]\n",
    "        if value > current_max:\n",
    "            current_max = value\n",
    "    return current_max\n",
    "\n",
    "#max_ = get_maximum(liste_notes)\n",
    "#max_ = get_maximum([])"
   ]
  },
  {
   "cell_type": "markdown",
   "metadata": {},
   "source": [
    "## Moyenne"
   ]
  },
  {
   "cell_type": "code",
   "execution_count": 11,
   "metadata": {},
   "outputs": [
    {
     "data": {
      "text/plain": [
       "1.4142135623730951"
      ]
     },
     "execution_count": 11,
     "metadata": {},
     "output_type": "execute_result"
    }
   ],
   "source": [
    "import math\n",
    "math.sqrt(2)"
   ]
  },
  {
   "cell_type": "code",
   "execution_count": 12,
   "metadata": {},
   "outputs": [],
   "source": [
    "def get_mean(l):\n",
    "    if not l:\n",
    "        raise ValueError(\"List l is empty\")\n",
    "    \n",
    "    sum_ = 0\n",
    "    for value in l:\n",
    "        sum_ += value\n",
    "        \n",
    "    return sum_ / len(l)\n",
    "\n",
    "\n",
    "# get_mean([])\n",
    "#get_mean(liste_notes)\n",
    "\n",
    "def get_mean(l):\n",
    "    if not l:\n",
    "        raise ValueError(\"List l is empty\")\n",
    "    return sum(l) / len(l)\n",
    "\n",
    "get_mean(liste_notes)\n",
    "\n",
    "\n",
    "def get_standard_deviation(l):\n",
    "    if not l:\n",
    "        raise ValueError(\"List l is empty\")    \n",
    "    mean = get_mean(l)\n",
    "    return math.sqrt(sum([(x-mean) **2 for x in l]) / len(l))\n",
    "\n",
    "get_standard_deviation(liste_notes)\n",
    "    \n",
    "    \n",
    "    \n",
    "def get_median(l):\n",
    "    l.sort()\n",
    "    # Longueur impaire\n",
    "    if len(l) % 2 == 1:\n",
    "        index = (len(l) + 1) / 2\n",
    "        median = l[index]\n",
    "        \n",
    "    else:\n",
    "        #      o  ml mr o\n",
    "        # l = [1, 2, 3, 4]\n",
    "        index_mid_right = int(len(l) / 2)\n",
    "        index_mid_left = index_mid_right - 1\n",
    "        median = (l[index_mid_right] + l[index_mid_left]) / 2\n",
    "        \n",
    "    return median\n",
    "            "
   ]
  },
  {
   "cell_type": "code",
   "execution_count": 13,
   "metadata": {},
   "outputs": [
    {
     "name": "stdout",
     "output_type": "stream",
     "text": [
      "10 14\n"
     ]
    }
   ],
   "source": [
    "index_mid_right = int(len(liste_notes) / 2)\n",
    "index_mid_left = index_mid_right - 1\n",
    "print(liste_notes[index_mid_left], liste_notes[index_mid_right])"
   ]
  },
  {
   "cell_type": "code",
   "execution_count": 14,
   "metadata": {},
   "outputs": [
    {
     "data": {
      "text/plain": [
       "[6, 0, 4, 13, 7, 17, 3, 8, 5, 10, 14, 19, 1, 17, 4, 11, 19, 20, 20, 17]"
      ]
     },
     "execution_count": 14,
     "metadata": {},
     "output_type": "execute_result"
    }
   ],
   "source": [
    "liste_notes"
   ]
  },
  {
   "cell_type": "code",
   "execution_count": 15,
   "metadata": {},
   "outputs": [
    {
     "data": {
      "text/plain": [
       "10.5"
      ]
     },
     "execution_count": 15,
     "metadata": {},
     "output_type": "execute_result"
    }
   ],
   "source": [
    "get_median(liste_notes)"
   ]
  },
  {
   "cell_type": "markdown",
   "metadata": {},
   "source": [
    "<a id=\"3\"></a>\n",
    "\n",
    "## Exercice 3 - Deviner un nombre entre 1 et 100"
   ]
  },
  {
   "cell_type": "markdown",
   "metadata": {},
   "source": [
    "- Adapter le code de la fonction `jeu_deviner_nombre`pour :\n",
    " - Deviner un nombre entre 0 et 50\n",
    " - En seulement 5 essais\n",
    " \n",
    "\n",
    "- Adapter le code de la fonction `jeu_deviner_nombre` pour afficher un message en cas de victoire / réussite qui :\n",
    " - Récapitule tous les nombres choisis par l'utilisateur\n",
    " - Affiche un message indiquant le nombre d'essais dont il a eu besoin (seulement s'il gagne)"
   ]
  },
  {
   "cell_type": "code",
   "execution_count": 16,
   "metadata": {},
   "outputs": [],
   "source": [
    "import random\n",
    "\n",
    "\n",
    "def jeu_deviner_nombre():\n",
    "    \"\"\"Jeu : il faut deviner un nombre choisi au hasard en moins de 10 essais\"\"\"\n",
    "\n",
    "    # Nombre à deviner\n",
    "    nombre = random.randint(1, 100)\n",
    "\n",
    "    print(\"Un nombre entre 1 et 100 a été sélectionné aléatoirement\")\n",
    "    print(\"Vous avez 10 essais pour le deviner\")\n",
    "    print(\"Il vous sera juste indiqué si le nombre est plus grand ou plus petit que votre proposition\")\n",
    "\n",
    "    # 10 essais\n",
    "    propositions = []\n",
    "    for _ in range(10):\n",
    "\n",
    "        proposition = input()\n",
    "\n",
    "        # On essaie de convertir l'input string en entier\n",
    "        try:\n",
    "            proposition = int(proposition)\n",
    "\n",
    "        # Si on arrive pas, on affiche un message d'erreur\n",
    "        except:\n",
    "            print(f\"Vous avez saisi : {proposition} - ce n'est pas un nombre\")\n",
    "            # Permet de passer tout de suite à l'itération suivante de la boucle\n",
    "            continue\n",
    "            \n",
    "        finally:\n",
    "            propositions.append(proposition)\n",
    "\n",
    "        # On vérifie que la proposition est entre 1 et 100\n",
    "        if not (1 <= proposition <= 100):\n",
    "            print(f\"Le nombre à trouver est entre 1 et 100 - pourtant vous avez saisi {proposition}\")\n",
    "\n",
    "        # Si la proposition est le bon nombre\n",
    "        elif proposition == nombre:\n",
    "            print(f\"Vous avez gagné, le nombre est bien {proposition}\")\n",
    "            break\n",
    "\n",
    "        # La proposition est plus grande\n",
    "        elif proposition > nombre:\n",
    "            print(f\"Le nombre cherché est plus petit que {proposition}\")\n",
    "\n",
    "        # La proposition est plus petite\n",
    "        elif proposition < nombre:\n",
    "            print(f\"Le nombre cherché est plus grand que {proposition}\")\n",
    "            \n",
    "            \n",
    "    print(\"Propositions : \", \" - \".join([str(p) for p in propositions]))\n"
   ]
  },
  {
   "cell_type": "code",
   "execution_count": 17,
   "metadata": {},
   "outputs": [
    {
     "name": "stdout",
     "output_type": "stream",
     "text": [
      "Un nombre entre 1 et 100 a été sélectionné aléatoirement\n",
      "Vous avez 10 essais pour le deviner\n",
      "Il vous sera juste indiqué si le nombre est plus grand ou plus petit que votre proposition\n"
     ]
    },
    {
     "ename": "KeyboardInterrupt",
     "evalue": "Interrupted by user",
     "output_type": "error",
     "traceback": [
      "\u001b[0;31m---------------------------------------------------------------------------\u001b[0m",
      "\u001b[0;31mKeyboardInterrupt\u001b[0m                         Traceback (most recent call last)",
      "Input \u001b[0;32mIn [17]\u001b[0m, in \u001b[0;36m<module>\u001b[0;34m\u001b[0m\n\u001b[0;32m----> 1\u001b[0m \u001b[43mjeu_deviner_nombre\u001b[49m\u001b[43m(\u001b[49m\u001b[43m)\u001b[49m\n",
      "Input \u001b[0;32mIn [16]\u001b[0m, in \u001b[0;36mjeu_deviner_nombre\u001b[0;34m()\u001b[0m\n\u001b[1;32m     15\u001b[0m propositions \u001b[38;5;241m=\u001b[39m []\n\u001b[1;32m     16\u001b[0m \u001b[38;5;28;01mfor\u001b[39;00m _ \u001b[38;5;129;01min\u001b[39;00m \u001b[38;5;28mrange\u001b[39m(\u001b[38;5;241m10\u001b[39m):\n\u001b[0;32m---> 18\u001b[0m     proposition \u001b[38;5;241m=\u001b[39m \u001b[38;5;28;43minput\u001b[39;49m\u001b[43m(\u001b[49m\u001b[43m)\u001b[49m\n\u001b[1;32m     20\u001b[0m     \u001b[38;5;66;03m# On essaie de convertir l'input string en entier\u001b[39;00m\n\u001b[1;32m     21\u001b[0m     \u001b[38;5;28;01mtry\u001b[39;00m:\n",
      "File \u001b[0;32m/Library/Frameworks/Python.framework/Versions/3.9/lib/python3.9/site-packages/ipykernel/kernelbase.py:1075\u001b[0m, in \u001b[0;36mKernel.raw_input\u001b[0;34m(self, prompt)\u001b[0m\n\u001b[1;32m   1071\u001b[0m \u001b[38;5;28;01mif\u001b[39;00m \u001b[38;5;129;01mnot\u001b[39;00m \u001b[38;5;28mself\u001b[39m\u001b[38;5;241m.\u001b[39m_allow_stdin:\n\u001b[1;32m   1072\u001b[0m     \u001b[38;5;28;01mraise\u001b[39;00m StdinNotImplementedError(\n\u001b[1;32m   1073\u001b[0m         \u001b[38;5;124m\"\u001b[39m\u001b[38;5;124mraw_input was called, but this frontend does not support input requests.\u001b[39m\u001b[38;5;124m\"\u001b[39m\n\u001b[1;32m   1074\u001b[0m     )\n\u001b[0;32m-> 1075\u001b[0m \u001b[38;5;28;01mreturn\u001b[39;00m \u001b[38;5;28;43mself\u001b[39;49m\u001b[38;5;241;43m.\u001b[39;49m\u001b[43m_input_request\u001b[49m\u001b[43m(\u001b[49m\n\u001b[1;32m   1076\u001b[0m \u001b[43m    \u001b[49m\u001b[38;5;28;43mstr\u001b[39;49m\u001b[43m(\u001b[49m\u001b[43mprompt\u001b[49m\u001b[43m)\u001b[49m\u001b[43m,\u001b[49m\n\u001b[1;32m   1077\u001b[0m \u001b[43m    \u001b[49m\u001b[38;5;28;43mself\u001b[39;49m\u001b[38;5;241;43m.\u001b[39;49m\u001b[43m_parent_ident\u001b[49m\u001b[43m[\u001b[49m\u001b[38;5;124;43m\"\u001b[39;49m\u001b[38;5;124;43mshell\u001b[39;49m\u001b[38;5;124;43m\"\u001b[39;49m\u001b[43m]\u001b[49m\u001b[43m,\u001b[49m\n\u001b[1;32m   1078\u001b[0m \u001b[43m    \u001b[49m\u001b[38;5;28;43mself\u001b[39;49m\u001b[38;5;241;43m.\u001b[39;49m\u001b[43mget_parent\u001b[49m\u001b[43m(\u001b[49m\u001b[38;5;124;43m\"\u001b[39;49m\u001b[38;5;124;43mshell\u001b[39;49m\u001b[38;5;124;43m\"\u001b[39;49m\u001b[43m)\u001b[49m\u001b[43m,\u001b[49m\n\u001b[1;32m   1079\u001b[0m \u001b[43m    \u001b[49m\u001b[43mpassword\u001b[49m\u001b[38;5;241;43m=\u001b[39;49m\u001b[38;5;28;43;01mFalse\u001b[39;49;00m\u001b[43m,\u001b[49m\n\u001b[1;32m   1080\u001b[0m \u001b[43m\u001b[49m\u001b[43m)\u001b[49m\n",
      "File \u001b[0;32m/Library/Frameworks/Python.framework/Versions/3.9/lib/python3.9/site-packages/ipykernel/kernelbase.py:1120\u001b[0m, in \u001b[0;36mKernel._input_request\u001b[0;34m(self, prompt, ident, parent, password)\u001b[0m\n\u001b[1;32m   1117\u001b[0m             \u001b[38;5;28;01mbreak\u001b[39;00m\n\u001b[1;32m   1118\u001b[0m \u001b[38;5;28;01mexcept\u001b[39;00m \u001b[38;5;167;01mKeyboardInterrupt\u001b[39;00m:\n\u001b[1;32m   1119\u001b[0m     \u001b[38;5;66;03m# re-raise KeyboardInterrupt, to truncate traceback\u001b[39;00m\n\u001b[0;32m-> 1120\u001b[0m     \u001b[38;5;28;01mraise\u001b[39;00m \u001b[38;5;167;01mKeyboardInterrupt\u001b[39;00m(\u001b[38;5;124m\"\u001b[39m\u001b[38;5;124mInterrupted by user\u001b[39m\u001b[38;5;124m\"\u001b[39m) \u001b[38;5;28;01mfrom\u001b[39;00m \u001b[38;5;28mNone\u001b[39m\n\u001b[1;32m   1121\u001b[0m \u001b[38;5;28;01mexcept\u001b[39;00m \u001b[38;5;167;01mException\u001b[39;00m:\n\u001b[1;32m   1122\u001b[0m     \u001b[38;5;28mself\u001b[39m\u001b[38;5;241m.\u001b[39mlog\u001b[38;5;241m.\u001b[39mwarning(\u001b[38;5;124m\"\u001b[39m\u001b[38;5;124mInvalid Message:\u001b[39m\u001b[38;5;124m\"\u001b[39m, exc_info\u001b[38;5;241m=\u001b[39m\u001b[38;5;28;01mTrue\u001b[39;00m)\n",
      "\u001b[0;31mKeyboardInterrupt\u001b[0m: Interrupted by user"
     ]
    },
    {
     "name": "stdin",
     "output_type": "stream",
     "text": [
      " \n"
     ]
    }
   ],
   "source": [
    "jeu_deviner_nombre()"
   ]
  },
  {
   "cell_type": "code",
   "execution_count": 62,
   "metadata": {},
   "outputs": [],
   "source": [
    "import random\n",
    "\n",
    "\n",
    "def jeu_deviner_nombre(nombre_max, nombre_essais):\n",
    "    \"\"\"Jeu : il faut deviner un nombre choisi au hasard en moins de 10 essais\"\"\"\n",
    "\n",
    "    # Nombre à deviner\n",
    "    nombre = random.randint(1, nombre_max)\n",
    "\n",
    "    print(f\"Un nombre entre 1 et {nombre_max} a été sélectionné aléatoirement\")\n",
    "    print(f\"Vous avez {nombre_essais} essais pour le deviner\")\n",
    "    print(\"Il vous sera juste indiqué si le nombre est plus grand ou plus petit que votre proposition\")\n",
    "\n",
    "    # nombre_essais essais\n",
    "    for _ in range(nombre_essais):\n",
    "\n",
    "        proposition = input()\n",
    "\n",
    "        # On essaie de convertir l'input string en entier\n",
    "        try:\n",
    "            proposition = int(proposition)\n",
    "\n",
    "        # Si on arrive pas, on affiche un message d'erreur\n",
    "        except:\n",
    "            print(f\"Vous avez saisi : {proposition} - ce n'est pas un nombre\")\n",
    "            # Permet de passer tout de suite à l'itération suivante de la boucle\n",
    "            continue\n",
    "\n",
    "        # On vérifie que la proposition est entre 1 et nombre_max\n",
    "        if not (1 <= proposition <= nombre_max):\n",
    "            print(f\"Le nombre à trouver est entre 1 et {nombre_max} - pourtant vous avez saisi {proposition}\")\n",
    "\n",
    "        # Si la proposition est le bon nombre\n",
    "        elif proposition == nombre:\n",
    "            print(f\"Vous avez gagné, le nombre est bien {proposition}\")\n",
    "            break\n",
    "\n",
    "        # La proposition est plus grande\n",
    "        elif proposition > nombre:\n",
    "            print(f\"Le nombre cherché est plus petit que {proposition}\")\n",
    "\n",
    "        # La proposition est plus petite\n",
    "        elif proposition < nombre:\n",
    "            print(f\"Le nombre cherché est plus grand que {proposition}\")\n"
   ]
  },
  {
   "cell_type": "code",
   "execution_count": 63,
   "metadata": {},
   "outputs": [
    {
     "name": "stdout",
     "output_type": "stream",
     "text": [
      "Un nombre entre 1 et 10 a été sélectionné aléatoirement\n",
      "Vous avez 5 essais pour le deviner\n",
      "Il vous sera juste indiqué si le nombre est plus grand ou plus petit que votre proposition\n"
     ]
    },
    {
     "name": "stdin",
     "output_type": "stream",
     "text": [
      " 5\n"
     ]
    },
    {
     "name": "stdout",
     "output_type": "stream",
     "text": [
      "Le nombre cherché est plus petit que 5\n"
     ]
    },
    {
     "name": "stdin",
     "output_type": "stream",
     "text": [
      " 3\n"
     ]
    },
    {
     "name": "stdout",
     "output_type": "stream",
     "text": [
      "Le nombre cherché est plus petit que 3\n"
     ]
    },
    {
     "name": "stdin",
     "output_type": "stream",
     "text": [
      " 2\n"
     ]
    },
    {
     "name": "stdout",
     "output_type": "stream",
     "text": [
      "Vous avez gagné, le nombre est bien 2\n"
     ]
    }
   ],
   "source": [
    "jeu_deviner_nombre(nombre_max=10, nombre_essais=5)"
   ]
  },
  {
   "cell_type": "markdown",
   "metadata": {},
   "source": [
    "<a id=\"4\"></a>\n",
    "## Exercice 4 - Code Morse et manipulation de dictionnaire"
   ]
  },
  {
   "cell_type": "code",
   "execution_count": 70,
   "metadata": {},
   "outputs": [],
   "source": [
    "# On définit le code morse : (les lettres) \n",
    "alphabet = dict(A='o-', B='-ooo', C='-o-o', D='-oo', E='o', F='oo-o', G='--o',\n",
    "                H='oooo', I='oo', J='o---', K='-o-', L='o-oo', M='--', N='-o',\n",
    "                O='---', P='o--o', Q='--o-', R='o-o', S='ooo', T='-', U='oo-',\n",
    "                V='ooo-', W='o--', X='-oo-', Y='-o--', Z='--oo')\n",
    "#print(alphabet)\n",
    "# Les chiffres\n",
    "alphabet.update({\n",
    "    '0': '-----', '1': 'o----',\n",
    "    '2': 'oo---', '3': 'ooo--',\n",
    "    '4': 'oooo-', '5': 'ooooo',\n",
    "    '6': '-oooo', '7': '--ooo',\n",
    "    '8': '---oo', '9': '----o',\n",
    "})\n",
    "# alphabet\n",
    "\n",
    "# Inversion du dictionnaire\n",
    "alphabet_reversed = {value:key for key, value in alphabet.items()}"
   ]
  },
  {
   "cell_type": "markdown",
   "metadata": {},
   "source": [
    "- Ecrire une fonction qui :\n",
    "    - Prend en argument une chaîne de caractères sans espace et qui ne contient que des chiffres et des lettres majuscules\n",
    "    - Renvoie cette chaîne de caractères convertie en code morse"
   ]
  },
  {
   "cell_type": "code",
   "execution_count": 83,
   "metadata": {},
   "outputs": [
    {
     "data": {
      "text/plain": [
       "['ooo', 'o-', 'o-oo', 'oo-', '-', '-o-o', 'o-', 'ooo-', 'o-']"
      ]
     },
     "execution_count": 83,
     "metadata": {},
     "output_type": "execute_result"
    }
   ],
   "source": [
    "def text_to_morse(text, alphabet=alphabet):\n",
    "    liste_morse = []\n",
    "    for c in text:\n",
    "        #print(c)\n",
    "        c_morse = alphabet[c]\n",
    "        liste_morse.append(c_morse)\n",
    "    return liste_morse\n",
    "\n",
    "\n",
    "text = 'SALUTCAVA'\n",
    "text_to_morse(text)"
   ]
  },
  {
   "cell_type": "code",
   "execution_count": 82,
   "metadata": {},
   "outputs": [
    {
     "name": "stdout",
     "output_type": "stream",
     "text": [
      "['ooo', 'o-', 'o-oo', 'oo-', '-', '-o-o', 'o-', 'ooo-', 'o-']\n",
      "['S', 'A', 'L', 'U', 'T', 'C', 'A', 'V', 'A']\n"
     ]
    }
   ],
   "source": [
    "# alphabet_morse_to_latin\n",
    "# alphabet_latin_to_morse\n",
    "def convert(data_original, alphabet_mapping):\n",
    "    data_converted = []\n",
    "    for char_original in data_original:\n",
    "        char_converted = alphabet_mapping[char_original]\n",
    "        data_converted.append(char_converted)\n",
    "    return data_converted\n",
    "\n",
    "\n",
    "print(convert(data_original=\"SALUTCAVA\", alphabet_mapping=alphabet))\n",
    "\n",
    "print(convert(\n",
    "    data_original=['ooo', 'o-', 'o-oo', 'oo-', '-', '-o-o', 'o-', 'ooo-', 'o-'], \n",
    "    alphabet_mapping=alphabet_reversed\n",
    "))"
   ]
  },
  {
   "cell_type": "markdown",
   "metadata": {},
   "source": [
    "<a id=\"5\"></a>\n",
    "\n",
    "## Exercice 5 - Manipulation de dates"
   ]
  },
  {
   "cell_type": "markdown",
   "metadata": {},
   "source": [
    "- Ecrire une fonction qui prend en arguments une date de début (objet `datetime`) et une date de fin (aussi un objet `datetime`) et renvoie la liste des dates entre ces deux dates (liste d'objets `datetime`)\n",
    "- Ecrire une fonction qui prend en argument une année (un entier comme 2020) et renvoie `True` si c'est une année bissextile et `False` sinon\n",
    "- Ecrire une fonction qui prend en arguments une date de début (objet `datetime`) et une date de fin (aussi un objet `datetime`) et renvoie le temps en secondes entre ces deux objet `datetime`"
   ]
  },
  {
   "cell_type": "code",
   "execution_count": 87,
   "metadata": {},
   "outputs": [
    {
     "name": "stdout",
     "output_type": "stream",
     "text": [
      "Nous sommes le 30/8/2022\n",
      "\n",
      "Nous sommes le 30-8-2022\n",
      "\n",
      "premier jour de l'année : 2020-01-01 00:00:00 \n",
      "\n",
      "date : 2022-08-30\n",
      "heure : 10:46:30.926871\n",
      "\n",
      "\n",
      "demain : 2022-08-31 10:46:30.926871\n",
      "hier : 2022-08-29 10:46:30.926871\n",
      "L'heure il y a une heure 2022-08-30 09:46:30.926871\n"
     ]
    }
   ],
   "source": [
    "import datetime\n",
    "\n",
    "# On définit un objet datetime égal à la date d'aujourd'hui / l'heure qu'il est\n",
    "today = datetime.datetime.now()\n",
    "#print(today)\n",
    "#print(type(today))\n",
    "\n",
    "jour = today.day\n",
    "mois = today.month\n",
    "annee = today.year\n",
    "print(f\"Nous sommes le {jour}/{mois}/{annee}\\n\")\n",
    "print(f\"Nous sommes le {jour}-{mois}-{annee}\\n\")\n",
    "\n",
    "\n",
    "# On peut définir un object datetime ainsi :\n",
    "jour_1 = datetime.datetime(year=2020, month=1, day=1, hour=0, minute=0, second=0)\n",
    "print(\"premier jour de l'année :\", jour_1, \"\\n\")\n",
    "\n",
    "# On peut regarder la date et l'heure :\n",
    "print(\"date :\", today.date())\n",
    "print(\"heure :\", today.time())\n",
    "time = today.time()\n",
    "date = today.date()\n",
    "\n",
    "#print(type(time))\n",
    "#print(type(date))\n",
    "print(\"\\n\")\n",
    "\n",
    "# On peut ajouter ou soustraire des jours ainsi\n",
    "demain = today + datetime.timedelta(days=1)\n",
    "hier = today + datetime.timedelta(days=-1)\n",
    "print(\"demain :\", demain)\n",
    "print(\"hier :\", hier)\n",
    "\n",
    "# On peut ajouter ou soustraire des heures\n",
    "il_y_a_une_heure = today + datetime.timedelta(hours=-1)\n",
    "\n",
    "print(\"L'heure il y a une heure\", il_y_a_une_heure)"
   ]
  },
  {
   "cell_type": "code",
   "execution_count": 89,
   "metadata": {},
   "outputs": [],
   "source": [
    "def date_range(date_start, date_end):\n",
    "    dates = [date_start]\n",
    "    while date_start < date_end:\n",
    "        date_start = date_start + datetime.timedelta(days=1)\n",
    "        dates.append(date_start)\n",
    "    return dates"
   ]
  },
  {
   "cell_type": "code",
   "execution_count": 91,
   "metadata": {},
   "outputs": [
    {
     "data": {
      "text/plain": [
       "[datetime.datetime(2001, 1, 1, 0, 0),\n",
       " datetime.datetime(2001, 1, 2, 0, 0),\n",
       " datetime.datetime(2001, 1, 3, 0, 0),\n",
       " datetime.datetime(2001, 1, 4, 0, 0),\n",
       " datetime.datetime(2001, 1, 5, 0, 0),\n",
       " datetime.datetime(2001, 1, 6, 0, 0),\n",
       " datetime.datetime(2001, 1, 7, 0, 0),\n",
       " datetime.datetime(2001, 1, 8, 0, 0),\n",
       " datetime.datetime(2001, 1, 9, 0, 0),\n",
       " datetime.datetime(2001, 1, 10, 0, 0),\n",
       " datetime.datetime(2001, 1, 11, 0, 0),\n",
       " datetime.datetime(2001, 1, 12, 0, 0),\n",
       " datetime.datetime(2001, 1, 13, 0, 0),\n",
       " datetime.datetime(2001, 1, 14, 0, 0),\n",
       " datetime.datetime(2001, 1, 15, 0, 0),\n",
       " datetime.datetime(2001, 1, 16, 0, 0),\n",
       " datetime.datetime(2001, 1, 17, 0, 0),\n",
       " datetime.datetime(2001, 1, 18, 0, 0),\n",
       " datetime.datetime(2001, 1, 19, 0, 0),\n",
       " datetime.datetime(2001, 1, 20, 0, 0),\n",
       " datetime.datetime(2001, 1, 21, 0, 0),\n",
       " datetime.datetime(2001, 1, 22, 0, 0),\n",
       " datetime.datetime(2001, 1, 23, 0, 0),\n",
       " datetime.datetime(2001, 1, 24, 0, 0),\n",
       " datetime.datetime(2001, 1, 25, 0, 0)]"
      ]
     },
     "execution_count": 91,
     "metadata": {},
     "output_type": "execute_result"
    }
   ],
   "source": [
    "date_start = datetime.datetime(2001, 1, 1)\n",
    "date_end = datetime.datetime(2001, 1, 25)\n",
    "date_range(date_start=date_start, date_end=date_end)"
   ]
  },
  {
   "cell_type": "code",
   "execution_count": 99,
   "metadata": {},
   "outputs": [
    {
     "name": "stdout",
     "output_type": "stream",
     "text": [
      "2016 True\n",
      "2018 False\n",
      "2020 True\n",
      "2022 False\n",
      "2024 True\n",
      "2026 False\n",
      "2028 True\n",
      "2030 False\n",
      "2032 True\n",
      "2034 False\n",
      "2036 True\n",
      "2038 False\n",
      "2040 True\n",
      "2042 False\n",
      "2044 True\n",
      "2046 False\n",
      "2048 True\n",
      "2050 False\n",
      "2052 True\n",
      "2054 False\n",
      "2056 True\n",
      "2058 False\n",
      "2060 True\n",
      "2062 False\n",
      "2064 True\n",
      "2066 False\n",
      "2068 True\n",
      "2070 False\n",
      "2072 True\n",
      "2074 False\n",
      "2076 True\n",
      "2078 False\n",
      "2080 True\n",
      "2082 False\n",
      "2084 True\n",
      "2086 False\n",
      "2088 True\n",
      "2090 False\n",
      "2092 True\n",
      "2094 False\n"
     ]
    }
   ],
   "source": [
    "def is_bissextile(year):\n",
    "    return (year % 4 == 0) & (year % 100 != 0)\n",
    "\n",
    "s = \"\"\"2016\n",
    "2020\n",
    "2024\n",
    "2028\n",
    "2032\n",
    "2036\n",
    "2040\n",
    "2044\n",
    "2048\n",
    "2052\n",
    "2056\n",
    "2060\n",
    "2064\n",
    "2068\n",
    "2072\n",
    "2076\n",
    "2080\n",
    "2084\n",
    "2088\n",
    "2092\n",
    "\"\"\"\n",
    "\n",
    "for year in [s for s in s.split(\"\\n\") if s]:\n",
    "    year = int(year)\n",
    "    \n",
    "    print(year, is_bissextile(year))\n",
    "    \n",
    "    year = year + 2\n",
    "    \n",
    "    print(year, is_bissextile(year))"
   ]
  },
  {
   "cell_type": "code",
   "execution_count": null,
   "metadata": {},
   "outputs": [],
   "source": []
  },
  {
   "cell_type": "code",
   "execution_count": 109,
   "metadata": {},
   "outputs": [
    {
     "data": {
      "text/plain": [
       "2073600.0"
      ]
     },
     "execution_count": 109,
     "metadata": {},
     "output_type": "execute_result"
    }
   ],
   "source": [
    "def compute_total_seconds(date_start, date_end):\n",
    "    return (date_end - date_start).total_seconds()\n",
    "    #return timedelta.days * 24 * 3600 + timedelta.seconds + timedelta.microseconds / 1_000_000 \n",
    "\n",
    "date_start = datetime.datetime(2001, 1, 1)\n",
    "date_end = datetime.datetime(2001, 1, 25)\n",
    "compute_total_seconds(date_start=date_start, date_end=date_end)"
   ]
  },
  {
   "cell_type": "markdown",
   "metadata": {},
   "source": [
    "<a id=\"6\"></a>\n",
    "## Exercice 6 - Tri de liste\n",
    "- Ecrire une fonction qui prend en argument une liste de nombre et renvoie cette liste triée par ordre croissant (vous pouvez par exemple utiliser la fonction `min`ou `max` de Python)\n",
    "- (Facultatif : Réécrire votre fonction pour quelle renvoie la liste triée et le nombre de comparaisons qui sont effectuées lors de l'execution de la fonction)"
   ]
  },
  {
   "cell_type": "code",
   "execution_count": null,
   "metadata": {},
   "outputs": [],
   "source": []
  }
 ],
 "metadata": {
  "kernelspec": {
   "display_name": "Python 3 (ipykernel)",
   "language": "python",
   "name": "python3"
  },
  "language_info": {
   "codemirror_mode": {
    "name": "ipython",
    "version": 3
   },
   "file_extension": ".py",
   "mimetype": "text/x-python",
   "name": "python",
   "nbconvert_exporter": "python",
   "pygments_lexer": "ipython3",
   "version": "3.9.7"
  }
 },
 "nbformat": 4,
 "nbformat_minor": 4
}
